{
  "nbformat": 4,
  "nbformat_minor": 0,
  "metadata": {
    "colab": {
      "provenance": [],
      "collapsed_sections": [],
      "authorship_tag": "ABX9TyNnjqD7Q9Wdf06F4BRZdqxS",
      "include_colab_link": true
    },
    "kernelspec": {
      "name": "python3",
      "display_name": "Python 3"
    },
    "language_info": {
      "name": "python"
    }
  },
  "cells": [
    {
      "cell_type": "markdown",
      "metadata": {
        "id": "view-in-github",
        "colab_type": "text"
      },
      "source": [
        "<a href=\"https://colab.research.google.com/github/romildoalimajr/webPythonSenac/blob/main/aula05AtividadeRomildoPython.ipynb\" target=\"_parent\"><img src=\"https://colab.research.google.com/assets/colab-badge.svg\" alt=\"Open In Colab\"/></a>"
      ]
    },
    {
      "cell_type": "code",
      "execution_count": 5,
      "metadata": {
        "id": "i_oLJtMoIAzx"
      },
      "outputs": [],
      "source": [
        "class Pessoa():\n",
        "  def __init__(self, nome, idade):\n",
        "    self.nome = nome\n",
        "    self.idade = idade\n",
        "  \n",
        "  def nascimento(self, idade):\n",
        "    return (2022-idade)"
      ]
    },
    {
      "cell_type": "code",
      "source": [
        "pessoa1 = Pessoa('Maria', 35)"
      ],
      "metadata": {
        "id": "C28xvJb_IUci"
      },
      "execution_count": 7,
      "outputs": []
    },
    {
      "cell_type": "code",
      "source": [
        "pessoa1.nome"
      ],
      "metadata": {
        "colab": {
          "base_uri": "https://localhost:8080/",
          "height": 35
        },
        "id": "vOUCEap3IujJ",
        "outputId": "9cdc83bf-c005-4464-b318-df161ea0bd12"
      },
      "execution_count": 9,
      "outputs": [
        {
          "output_type": "execute_result",
          "data": {
            "text/plain": [
              "'Maria'"
            ],
            "application/vnd.google.colaboratory.intrinsic+json": {
              "type": "string"
            }
          },
          "metadata": {},
          "execution_count": 9
        }
      ]
    },
    {
      "cell_type": "code",
      "source": [
        "pessoa1.idade"
      ],
      "metadata": {
        "colab": {
          "base_uri": "https://localhost:8080/"
        },
        "id": "Y9uZGCz2Ixey",
        "outputId": "05bf91cb-6839-4892-bbf3-b98b312f7c9a"
      },
      "execution_count": 10,
      "outputs": [
        {
          "output_type": "execute_result",
          "data": {
            "text/plain": [
              "35"
            ]
          },
          "metadata": {},
          "execution_count": 10
        }
      ]
    },
    {
      "cell_type": "code",
      "source": [
        "pessoa1.nascimento(28)"
      ],
      "metadata": {
        "colab": {
          "base_uri": "https://localhost:8080/"
        },
        "id": "Jx2WDCk6I0Za",
        "outputId": "ec87346b-e159-461e-a42e-2d1df8411705"
      },
      "execution_count": 14,
      "outputs": [
        {
          "output_type": "execute_result",
          "data": {
            "text/plain": [
              "1994"
            ]
          },
          "metadata": {},
          "execution_count": 14
        }
      ]
    },
    {
      "cell_type": "code",
      "source": [
        "lista_de_pessoas = []\n",
        "\n",
        "for i in range(5):\n",
        "  nome = str(input(\"Nome.: \"))\n",
        "  idade = int(input('Idade.: '))\n",
        "\n",
        "  pessoa = Pessoa(nome, idade)\n",
        "  lista_de_pessoas.append(pessoa)\n",
        "\n",
        "for objeto in range(len(lista_de_pessoas)):\n",
        "  print(f'Nome.: {lista_de_pessoas[objeto].nome}, Idade.: {lista_de_pessoas[objeto].idade}')"
      ],
      "metadata": {
        "colab": {
          "base_uri": "https://localhost:8080/"
        },
        "id": "L6Ht-FT_I_94",
        "outputId": "a61440e9-7840-43e4-ade2-dce234fec2fa"
      },
      "execution_count": 15,
      "outputs": [
        {
          "output_type": "stream",
          "name": "stdout",
          "text": [
            "Nome.: romildo\n",
            "Idade.: 28\n",
            "Nome.: maria\n",
            "Idade.: 27\n",
            "Nome.: clara\n",
            "Idade.: 11\n",
            "Nome.: cecilia\n",
            "Idade.: 10\n",
            "Nome.: junior\n",
            "Idade.: 28\n",
            "Nome.: romildo, Idade.: 28\n",
            "Nome.: maria, Idade.: 27\n",
            "Nome.: clara, Idade.: 11\n",
            "Nome.: cecilia, Idade.: 10\n",
            "Nome.: junior, Idade.: 28\n"
          ]
        }
      ]
    },
    {
      "cell_type": "code",
      "source": [
        "class Pessoa():\n",
        "  def __init__(self, nome, idade):\n",
        "    self.nome = nome\n",
        "    self.idade = idade\n",
        "  \n",
        "  def mensagem(self):\n",
        "    return f\"Seja bem-vindo, {self.nome} ao SENAC!\""
      ],
      "metadata": {
        "id": "VjGf4_w9KDUD"
      },
      "execution_count": 16,
      "outputs": []
    },
    {
      "cell_type": "code",
      "source": [
        "pessoa1 = Pessoa('Romildo Junior', 28)"
      ],
      "metadata": {
        "id": "FGw1t91jKFd7"
      },
      "execution_count": 17,
      "outputs": []
    },
    {
      "cell_type": "code",
      "source": [
        "pessoa1.mensagem()"
      ],
      "metadata": {
        "colab": {
          "base_uri": "https://localhost:8080/",
          "height": 35
        },
        "id": "ppMdtoUCKK8y",
        "outputId": "ab930cde-467a-48f4-a1a3-e4f696afd8eb"
      },
      "execution_count": 18,
      "outputs": [
        {
          "output_type": "execute_result",
          "data": {
            "text/plain": [
              "'Seja bem-vindo, Romildo Junior ao SENAC!'"
            ],
            "application/vnd.google.colaboratory.intrinsic+json": {
              "type": "string"
            }
          },
          "metadata": {},
          "execution_count": 18
        }
      ]
    },
    {
      "cell_type": "code",
      "source": [
        "class PessoaFisica():\n",
        "  def __init__(self, nome, idade, cpf):\n",
        "    self.nome = nome\n",
        "    self.idade = idade\n",
        "    self.cpf = cpf\n",
        "    \n",
        "  def mensagem(self):\n",
        "    return f\"Seja bem-vindo, {self.nome} ao SENAC!\""
      ],
      "metadata": {
        "id": "MpwkdfH_KTaT"
      },
      "execution_count": 21,
      "outputs": []
    },
    {
      "cell_type": "code",
      "source": [
        "class PessoaJuridica():\n",
        "  def __init__(self, nome, idade, cnpj):\n",
        "    self.nome = nome\n",
        "    self.idade = idade\n",
        "    self.cnpj = cnpj\n",
        "  \n",
        "  def mensagem(self):\n",
        "    return f\"Seja bem-vindo, {self.nome} ao SENAC!\""
      ],
      "metadata": {
        "id": "vZ-aUe-QKgkD"
      },
      "execution_count": 22,
      "outputs": []
    }
  ]
}
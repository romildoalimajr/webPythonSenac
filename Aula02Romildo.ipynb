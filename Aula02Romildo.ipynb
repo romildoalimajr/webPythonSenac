{
  "nbformat": 4,
  "nbformat_minor": 0,
  "metadata": {
    "colab": {
      "provenance": [],
      "authorship_tag": "ABX9TyNlaKI3xNG+eNRJiIE1weja",
      "include_colab_link": true
    },
    "kernelspec": {
      "name": "python3",
      "display_name": "Python 3"
    },
    "language_info": {
      "name": "python"
    }
  },
  "cells": [
    {
      "cell_type": "markdown",
      "metadata": {
        "id": "view-in-github",
        "colab_type": "text"
      },
      "source": [
        "<a href=\"https://colab.research.google.com/github/romildoalimajr/webPythonSenac/blob/main/Aula02Romildo.ipynb\" target=\"_parent\"><img src=\"https://colab.research.google.com/assets/colab-badge.svg\" alt=\"Open In Colab\"/></a>"
      ]
    },
    {
      "cell_type": "code",
      "source": [
        "valor1 = input('Digite um numero inteiro.: ')\n",
        "valor2 = input('Digite outro numero inteiro.: ')"
      ],
      "metadata": {
        "colab": {
          "base_uri": "https://localhost:8080/"
        },
        "id": "THTdwldEDDcN",
        "outputId": "3e8eefd0-05de-4f70-a82c-bd452fd00e99"
      },
      "execution_count": null,
      "outputs": [
        {
          "name": "stdout",
          "output_type": "stream",
          "text": [
            "Digite um numero inteiro.: 10\n",
            "Digite outro numero inteiro.: 20\n"
          ]
        }
      ]
    },
    {
      "cell_type": "code",
      "source": [
        "print(valor1 == valor2)\n",
        "print(valor1 > valor2)\n",
        "print(valor1 < valor2)\n",
        "print(valor1 >= valor2)\n",
        "print(valor1 <= valor2)"
      ],
      "metadata": {
        "colab": {
          "base_uri": "https://localhost:8080/"
        },
        "id": "hiZzze6aGfKt",
        "outputId": "49e62376-7bbd-4198-f92c-13dca7ba4b8f"
      },
      "execution_count": null,
      "outputs": [
        {
          "output_type": "stream",
          "name": "stdout",
          "text": [
            "False\n",
            "False\n",
            "True\n",
            "False\n",
            "True\n"
          ]
        }
      ]
    },
    {
      "cell_type": "code",
      "source": [
        "numero = 10\n",
        "print(numero > 0 and numero < 10)"
      ],
      "metadata": {
        "colab": {
          "base_uri": "https://localhost:8080/"
        },
        "id": "t5t8VOmrJ-vU",
        "outputId": "048f8f72-fee2-4f4f-c5cc-9327dc589f75"
      },
      "execution_count": null,
      "outputs": [
        {
          "output_type": "stream",
          "name": "stdout",
          "text": [
            "False\n"
          ]
        }
      ]
    },
    {
      "cell_type": "code",
      "source": [
        "numero = 10\n",
        "print(numero > 0 or numero < 10)"
      ],
      "metadata": {
        "colab": {
          "base_uri": "https://localhost:8080/"
        },
        "id": "WTVjCRw0KMY8",
        "outputId": "7dd5ace2-89a8-483b-f9a2-0dde398e4e21"
      },
      "execution_count": null,
      "outputs": [
        {
          "output_type": "stream",
          "name": "stdout",
          "text": [
            "True\n"
          ]
        }
      ]
    },
    {
      "cell_type": "code",
      "source": [
        "numero = input('Digite qualquer valor.: ')\n",
        "\n",
        "numero = int(numero)\n",
        "\n",
        "if (numero % 2 == 0):\n",
        " print('O numero ', numero, 'eh par')\n",
        " print('par')\n",
        "else:\n",
        "  print('O numero ', numero, 'eh impar')\n",
        "  print('impar')"
      ],
      "metadata": {
        "colab": {
          "base_uri": "https://localhost:8080/"
        },
        "id": "Kv5wsB5kLh8t",
        "outputId": "0f81f15d-0c19-4409-9b75-1a21ee332516"
      },
      "execution_count": null,
      "outputs": [
        {
          "output_type": "stream",
          "name": "stdout",
          "text": [
            "Digite qualquer valor.: 235679790\n",
            "O numero  235679790 eh par\n",
            "par\n"
          ]
        }
      ]
    },
    {
      "cell_type": "code",
      "source": [
        "numero = int(input('Digite um numero qualquer.: '))\n",
        "\n",
        "if (numero % 2 == 0):\n",
        "  print(numero, 'eh par')\n",
        "if (numero % 2 != 0):\n",
        "  print(numero, 'eh impar')\n",
        "\n",
        "print('FIM')"
      ],
      "metadata": {
        "colab": {
          "base_uri": "https://localhost:8080/"
        },
        "id": "h3I0jSYXP9A0",
        "outputId": "04d51006-19dd-46ba-a3fd-39218fe6d07c"
      },
      "execution_count": null,
      "outputs": [
        {
          "output_type": "stream",
          "name": "stdout",
          "text": [
            "Digite um numero qualquer.: 2\n",
            "2 eh par\n",
            "FIM\n"
          ]
        }
      ]
    },
    {
      "cell_type": "code",
      "source": [
        "cupom = input('Digite o cupom.: ');\n",
        "\n",
        "if(cupom == 'aula1' or cupom == 'aula2'):\n",
        "  print('Voce ganhou 10% de desconto')\n",
        "else:\n",
        "  print(':( voce nao ganhou nenhum desconto')"
      ],
      "metadata": {
        "colab": {
          "base_uri": "https://localhost:8080/"
        },
        "id": "C7U66ddpRE0c",
        "outputId": "f1c5f726-ea91-4e33-fcc4-f4fd9ce40f4c"
      },
      "execution_count": null,
      "outputs": [
        {
          "output_type": "stream",
          "name": "stdout",
          "text": [
            "Digite o cupom.: teste\n",
            ":( voce nao ganhou nenhum desconto\n"
          ]
        }
      ]
    },
    {
      "cell_type": "code",
      "source": [
        "cupom = input('Digite outro cupom.: ')\n",
        "\n",
        "if(cupom == 'aula1' or cupom == 'aula2'):\n",
        "  print('Voce ganhou 10% de desconto.')\n",
        "else:\n",
        "  print('(: cupom invalido')"
      ],
      "metadata": {
        "colab": {
          "base_uri": "https://localhost:8080/"
        },
        "id": "oA6bMl0-SqN0",
        "outputId": "aa275894-474a-4cb8-92fc-009b7bd0a6b6"
      },
      "execution_count": null,
      "outputs": [
        {
          "output_type": "stream",
          "name": "stdout",
          "text": [
            "Digite outro cupom.: aula1\n",
            "Voce ganhou 10% de desconto.\n"
          ]
        }
      ]
    },
    {
      "cell_type": "code",
      "source": [
        "cupom = input('Digite um novo cupom.: ')\n",
        "\n",
        "if(cupom == 'aula1' or cupom == 'aula2'):\n",
        "  print(':) Cupom valido, voce ganhou 15% de desconto')\n",
        "else:\n",
        "  print(':( vocë ganha apenas 5% de desconto')"
      ],
      "metadata": {
        "colab": {
          "base_uri": "https://localhost:8080/"
        },
        "id": "6oMSw3aPTxLk",
        "outputId": "434d9047-6c16-4746-f996-73d7fffc60ef"
      },
      "execution_count": null,
      "outputs": [
        {
          "output_type": "stream",
          "name": "stdout",
          "text": [
            "Digite um novo cupom.: aula2\n",
            ":) voce ganhou 15% de desconto\n"
          ]
        }
      ]
    },
    {
      "cell_type": "code",
      "source": [
        "cupom = input('Digite seu cupom.: ')\n",
        "\n",
        "if(cupom == 'aula1'):\n",
        "  print('Voce tem 15% de desconto :).')\n",
        "elif(cupom == 'aula2'):\n",
        "  print('voce tem 10% de desconto :).')\n",
        "else:\n",
        "  print('Vocë ganhou 5% de desconto :(.')"
      ],
      "metadata": {
        "colab": {
          "base_uri": "https://localhost:8080/"
        },
        "id": "Fy_z-20DWTtN",
        "outputId": "eb43c50b-c224-448a-cde9-528cb6e75b12"
      },
      "execution_count": null,
      "outputs": [
        {
          "output_type": "stream",
          "name": "stdout",
          "text": [
            "Digite seu cupom.: aula3452345\n",
            "Vocë ganhou 5% de desconto :(.\n"
          ]
        }
      ]
    },
    {
      "cell_type": "code",
      "source": [
        "if(1 == 1):\n",
        "  print('Mensagem no segundo nivel.')\n",
        "  if((1 == 2) == False):\n",
        "    print('Mensagem no terceiro nivel.')"
      ],
      "metadata": {
        "colab": {
          "base_uri": "https://localhost:8080/"
        },
        "id": "K8biY0xDYfYM",
        "outputId": "2653d465-a9ec-4c2b-c4ee-dc7df9095f7b"
      },
      "execution_count": null,
      "outputs": [
        {
          "output_type": "stream",
          "name": "stdout",
          "text": [
            "Mensagem no segundo nivel.\n",
            "Mensagem no terceiro nivel.\n"
          ]
        }
      ]
    },
    {
      "cell_type": "code",
      "source": [
        "sol = input('hoje eh dia de sol? ')\n",
        "dinheiro = input('Tenho dinheiro? ')\n",
        "\n",
        "if((sol == 'sim') and (dinheiro == 'sim')):\n",
        "  print('eba tem praia')\n",
        "elif((sol == 'nao') and (dinheiro == 'nao')):\n",
        "  print('assistir NETFLIX')\n",
        "else:\n",
        "  print('Ficar em casa assistindo NETFLIX')"
      ],
      "metadata": {
        "colab": {
          "base_uri": "https://localhost:8080/"
        },
        "id": "oZPA-I3jaqiV",
        "outputId": "c6e56ae2-71b8-4e19-e045-d52899094526"
      },
      "execution_count": null,
      "outputs": [
        {
          "output_type": "stream",
          "name": "stdout",
          "text": [
            "hoje eh dia de sol? sim\n",
            "Tenho dinheiro? nao\n",
            "Ficar em casa assistindo NETFLIX\n"
          ]
        }
      ]
    },
    {
      "cell_type": "code",
      "source": [
        "sol = input('hoje eh dia de sol? ')\n",
        "dinheiro = input('Tenho dinheiro? ')\n",
        "\n",
        "if(sol == 'sim' or dinheiro == 'sim'):\n",
        "  print('Vou pra praia... :)')\n",
        "else:\n",
        "  print('Ficar em casa assistindo a NetFlix')"
      ],
      "metadata": {
        "colab": {
          "base_uri": "https://localhost:8080/"
        },
        "id": "WaVfKTeJdryN",
        "outputId": "5455d2a1-1f66-413a-b53e-2b2d36cd7b25"
      },
      "execution_count": null,
      "outputs": [
        {
          "output_type": "stream",
          "name": "stdout",
          "text": [
            "hoje eh dia de sol? nao\n",
            "Tenho dinheiro? nao\n",
            "Ficar em casa assistindo a NetFlix\n"
          ]
        }
      ]
    },
    {
      "cell_type": "code",
      "source": [
        "temSol = input('tem sol?')\n",
        "temDinheiro = input('tem dinheiro?')\n",
        "\n",
        "if(temSol == 'sim' or temDinheiro == 'sim'):\n",
        "    print('Tem praia :)')\n",
        "else:\n",
        "  print('Netflix')"
      ],
      "metadata": {
        "colab": {
          "base_uri": "https://localhost:8080/"
        },
        "id": "FmRfKV8ke7hd",
        "outputId": "e57d0943-b40b-4e3c-b00c-325d2be10db2"
      },
      "execution_count": null,
      "outputs": [
        {
          "output_type": "stream",
          "name": "stdout",
          "text": [
            "tem sol?nao\n",
            "tem dinheiro?nao\n",
            "Netflix\n"
          ]
        }
      ]
    },
    {
      "cell_type": "code",
      "source": [
        "tempo = input('tem sol? ')\n",
        "\n",
        "if (tempo == 'sim'):\n",
        "  dinheiro = input('tem dinheiro? ')\n",
        "  if(dinheiro == 'sim'):\n",
        "    print('Vamos a praia')\n",
        "  else:\n",
        "    print('Va ligar o ventilador....')\n",
        "else:\n",
        "  print('Vamos assistir Netflix')"
      ],
      "metadata": {
        "colab": {
          "base_uri": "https://localhost:8080/"
        },
        "id": "Ej_RMUnEhHzt",
        "outputId": "a24f4dd0-8dfe-4837-f906-f4880a32764d"
      },
      "execution_count": null,
      "outputs": [
        {
          "output_type": "stream",
          "name": "stdout",
          "text": [
            "tem sol? nao\n",
            "Vamos assistir Netflix\n"
          ]
        }
      ]
    },
    {
      "cell_type": "code",
      "source": [
        "x = 2\n",
        "y = 2\n",
        "\n",
        "if (x < y):\n",
        "  print('cai aqui no menor')\n",
        "elif(x > y):\n",
        "  print('cai no menor')\n",
        "else:\n",
        "  print('cai no else')\n",
        "  print(type(x))\n",
        "  print(type(y))"
      ],
      "metadata": {
        "colab": {
          "base_uri": "https://localhost:8080/"
        },
        "id": "d2aDPym2mIBl",
        "outputId": "2f0d98e5-32e6-48f6-fce2-897005102eb2"
      },
      "execution_count": null,
      "outputs": [
        {
          "output_type": "stream",
          "name": "stdout",
          "text": [
            "cai no else\n",
            "<class 'int'>\n",
            "<class 'int'>\n"
          ]
        }
      ]
    },
    {
      "cell_type": "code",
      "source": [
        "ano = int(input('Digite o ano do carro.: '))\n",
        "valorCarro = float(input('Digite o valor do carro. R$ '))\n",
        "\n",
        "if (ano < 1990):\n",
        "  valorDetran = valorCarro * 0.01\n",
        "else:\n",
        "  valorDetran = valorCarro * 0.015\n",
        "\n",
        "print('taxa do Detran R$ ', valorDetran)"
      ],
      "metadata": {
        "colab": {
          "base_uri": "https://localhost:8080/"
        },
        "id": "LQC3iC4Qm701",
        "outputId": "e12d2874-e17d-414f-b4c3-c43021c484c6"
      },
      "execution_count": null,
      "outputs": [
        {
          "output_type": "stream",
          "name": "stdout",
          "text": [
            "Digite o ano do carro.: 2022\n",
            "Digite o valor do carro. R$ 100\n",
            "taxa do Detran R$  1.5\n"
          ]
        }
      ]
    },
    {
      "cell_type": "code",
      "source": [
        "gerente = 101\n",
        "engenheiro = 102\n",
        "tecnico = 103\n",
        "salarioReajuste = 0\n",
        "\n",
        "salario = float(input('Digite o salário.: '))\n",
        "cargo = int(input('Digite o código da função.: '))\n",
        "\n",
        "if (cargo == gerente):\n",
        "  salarioReajuste = salario + (salario * 0.1)\n",
        "elif (cargo == engenheiro):\n",
        "  salarioReajuste = salario + (salario * 0.2)\n",
        "elif (cargo == tecnico):\n",
        "  salarioReajuste = salario + (salario * 0.3)\n",
        "else:\n",
        "  salarioReajuste = salario + (salario * 0.4)\n",
        "\n",
        "print('Salário Antigo R$ ', salario)\n",
        "print('Salário Atual R$ ', salarioReajuste)\n",
        "print('Reajuste de R$ ', salarioReajuste - salario)\n"
      ],
      "metadata": {
        "colab": {
          "base_uri": "https://localhost:8080/"
        },
        "id": "1yhSfSKzANOa",
        "outputId": "b4a0a5f7-fade-4261-9b71-c00734fb0db2"
      },
      "execution_count": 22,
      "outputs": [
        {
          "output_type": "stream",
          "name": "stdout",
          "text": [
            "Digite o salário.: 1000\n",
            "Digite o código da função.: 105\n",
            "Salário Antigo R$  1000.0\n",
            "Salário Atual R$  1400.0\n",
            "Reajuste de R$  400.0\n"
          ]
        }
      ]
    },
    {
      "cell_type": "code",
      "source": [
        "saldoMedio = float(input('Informe seu saldo anual.: '))\n",
        "credito = 0\n",
        "\n",
        "if(saldoMedio > 600):\n",
        "  credito = saldoMedio * 0.4\n",
        "elif(saldoMedio > 400):\n",
        "  credito = saldoMedio * 0.3\n",
        "elif(saldoMedio > 200):\n",
        "  credito = saldoMedio * 0.2\n",
        "else:\n",
        "  credito = 0\n",
        "\n",
        "print('Saldo Médio R$ ', saldoMedio)\n",
        "print('Crédito Concedido R$ ', credito)\n"
      ],
      "metadata": {
        "colab": {
          "base_uri": "https://localhost:8080/"
        },
        "id": "LOhshSOIGP6u",
        "outputId": "5b56ad8e-eb86-4fc4-af21-c23b76825405"
      },
      "execution_count": 35,
      "outputs": [
        {
          "output_type": "stream",
          "name": "stdout",
          "text": [
            "Informe seu saldo anual.: 601\n",
            "Saldo Médio R$  601.0\n",
            "Crédito Concedido R$  240.4\n"
          ]
        }
      ]
    },
    {
      "cell_type": "code",
      "source": [
        "num1 = int(input('Digite o primeiro número.: '))\n",
        "num2 = int(input('Digite o segundo número..: '))\n",
        "num3 = int(input('Digite o terceiro número.: '))\n",
        "num4 = int(input('Digite o quarto número...: '))\n",
        "num5 = int(input('Digite o quinto número...: '))\n",
        "\n",
        "ehMaior = 0\n",
        "ehMenor = 0\n",
        "\n",
        "if(num1 > num2):\n",
        "  ehMaior = num1\n",
        "  emMenor = num2\n",
        "else:\n",
        "  ehMaior = num2\n",
        "  emMenor = num1"
      ],
      "metadata": {
        "colab": {
          "base_uri": "https://localhost:8080/"
        },
        "id": "2WUrMTq8JJsN",
        "outputId": "1f14898f-264c-46bd-f3eb-6f3c36b43488"
      },
      "execution_count": 38,
      "outputs": [
        {
          "name": "stdout",
          "output_type": "stream",
          "text": [
            "Digite o primeiro número.: 10\n",
            "Digite o segundo número..: 20\n",
            "Digite o terceiro número.: 30\n",
            "Digite o quarto número...: 40\n",
            "Digite o quinto número...: 50\n"
          ]
        }
      ]
    }
  ]
}
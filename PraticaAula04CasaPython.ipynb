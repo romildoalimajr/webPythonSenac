{
  "nbformat": 4,
  "nbformat_minor": 0,
  "metadata": {
    "colab": {
      "provenance": [],
      "collapsed_sections": [],
      "authorship_tag": "ABX9TyOCK8UWYyfu36BTNx1z9pec",
      "include_colab_link": true
    },
    "kernelspec": {
      "name": "python3",
      "display_name": "Python 3"
    },
    "language_info": {
      "name": "python"
    }
  },
  "cells": [
    {
      "cell_type": "markdown",
      "metadata": {
        "id": "view-in-github",
        "colab_type": "text"
      },
      "source": [
        "<a href=\"https://colab.research.google.com/github/romildoalimajr/webPythonSenac/blob/main/PraticaAula04CasaPython.ipynb\" target=\"_parent\"><img src=\"https://colab.research.google.com/assets/colab-badge.svg\" alt=\"Open In Colab\"/></a>"
      ]
    },
    {
      "cell_type": "code",
      "execution_count": null,
      "metadata": {
        "id": "uMNU3WMcnfM9"
      },
      "outputs": [],
      "source": [
        "# Prática - Convite para a festa\n",
        "\n",
        "for nome in ['Reginaldo', 'Gisele Pintcher', 'Scoob', 'Marlene',\n",
        "             'Zezinho', 'Cibele', 'Suely']:\n",
        "             convite = (f'Oi, {nome}! Por favor, venha para o sábado pet em minha casa! ')\n",
        "             print(convite)"
      ]
    },
    {
      "cell_type": "code",
      "source": [
        "# Pratica = Criar uma lista com 5 frutas e verificar se tem morango na lista\n",
        "\n",
        "morango = 0\n",
        "for fruta in range(5):\n",
        "  fruta = input('Digite o nome de uma fruta.: ').lower()\n",
        "  if fruta == 'morango':\n",
        "    morango += 1\n",
        "\n",
        "if morango <= 1:\n",
        "  print('Oba tem MORANGO na lista')\n",
        "else:\n",
        "  print('Nada de MORANGO nessa lista')\n"
      ],
      "metadata": {
        "id": "D129xe6Ln1rL"
      },
      "execution_count": null,
      "outputs": []
    },
    {
      "cell_type": "code",
      "source": [
        "# Pratica = criar uma sequencia de número pares entre 100 e 150\n",
        "\n",
        "cont = 100\n",
        "while cont <= 150:\n",
        "  if cont % 2 == 0:\n",
        "    print(cont, end = ' - ')\n",
        "  cont += 1\n"
      ],
      "metadata": {
        "id": "bSxKVpWJn5Fm",
        "colab": {
          "base_uri": "https://localhost:8080/"
        },
        "outputId": "9c6b64b4-4d14-4234-b01c-80d8fc7c2c04"
      },
      "execution_count": 5,
      "outputs": [
        {
          "output_type": "stream",
          "name": "stdout",
          "text": [
            "100 - 102 - 104 - 106 - 108 - 110 - 112 - 114 - 116 - 118 - 120 - 122 - 124 - 126 - 128 - 130 - 132 - 134 - 136 - 138 - 140 - 142 - 144 - 146 - 148 - 150 - "
          ]
        }
      ]
    },
    {
      "cell_type": "code",
      "source": [
        "# Pratica = criar uma variavel de temperatura e imprimir\n",
        "\n",
        "temperatura = 40\n",
        "cont = int(temperatura)\n",
        "grau  = 25\n",
        "\n",
        "while cont >= grau:\n",
        "  print(f'{cont}º', end= ' - ')\n",
        "  cont -= 1"
      ],
      "metadata": {
        "id": "-mwTEwTzn8H9",
        "colab": {
          "base_uri": "https://localhost:8080/"
        },
        "outputId": "effc5c50-bd39-44c8-82ec-c76942482bc1"
      },
      "execution_count": 4,
      "outputs": [
        {
          "output_type": "stream",
          "name": "stdout",
          "text": [
            "40º - 39º - 38º - 37º - 36º - 35º - 34º - 33º - 32º - 31º - 30º - 29º - 28º - 27º - 26º - 25º - "
          ]
        }
      ]
    },
    {
      "cell_type": "code",
      "source": [
        "# Prática = contar até 100 com FOR\n",
        "\n",
        "for cont in range(100):\n",
        "  print(cont, end = ' - ')"
      ],
      "metadata": {
        "id": "iVTrTnjSoBln"
      },
      "execution_count": null,
      "outputs": []
    },
    {
      "cell_type": "code",
      "source": [
        "# Prática = contar até 100 com WHILE\n",
        "\n",
        "cont = 0\n",
        "\n",
        "while cont in range(100):\n",
        "  print(cont, end = ' - ')\n",
        "  cont += 1"
      ],
      "metadata": {
        "id": "F8qMUOIWoEN9",
        "colab": {
          "base_uri": "https://localhost:8080/"
        },
        "outputId": "3497c441-7878-4832-a91f-9d2a0770c141"
      },
      "execution_count": 6,
      "outputs": [
        {
          "output_type": "stream",
          "name": "stdout",
          "text": [
            "0 - 1 - 2 - 3 - 4 - 5 - 6 - 7 - 8 - 9 - 10 - 11 - 12 - 13 - 14 - 15 - 16 - 17 - 18 - 19 - 20 - 21 - 22 - 23 - 24 - 25 - 26 - 27 - 28 - 29 - 30 - 31 - 32 - 33 - 34 - 35 - 36 - 37 - 38 - 39 - 40 - 41 - 42 - 43 - 44 - 45 - 46 - 47 - 48 - 49 - 50 - 51 - 52 - 53 - 54 - 55 - 56 - 57 - 58 - 59 - 60 - 61 - 62 - 63 - 64 - 65 - 66 - 67 - 68 - 69 - 70 - 71 - 72 - 73 - 74 - 75 - 76 - 77 - 78 - 79 - 80 - 81 - 82 - 83 - 84 - 85 - 86 - 87 - 88 - 89 - 90 - 91 - 92 - 93 - 94 - 95 - 96 - 97 - 98 - 99 - "
          ]
        }
      ]
    },
    {
      "cell_type": "code",
      "source": [
        "# Prática = criar uma lista e acrescentar valores pares \n",
        "listaVazia = []\n",
        "variavel = 4\n",
        "\n",
        "for cont in range(20):\n",
        "    if cont >= variavel:\n",
        "        if cont % 2 == 0:\n",
        "           listaVazia.append(cont)\n",
        "\n",
        "print(listaVazia)"
      ],
      "metadata": {
        "id": "X7OPkXneoGuC",
        "colab": {
          "base_uri": "https://localhost:8080/"
        },
        "outputId": "782fccae-b29e-4a51-f841-374572d6c9d3"
      },
      "execution_count": 3,
      "outputs": [
        {
          "output_type": "stream",
          "name": "stdout",
          "text": [
            "[4, 6, 8, 10, 12, 14, 16, 18]\n"
          ]
        }
      ]
    },
    {
      "cell_type": "code",
      "source": [
        "# Prática - correção de erros em códigos\n",
        "\n",
        "temperatura = float(input('Qual a temperaturas? '))\n",
        "\n",
        "if temperatura > 30:\n",
        "  print('Vista roupas leves!...')\n",
        "else:\n",
        "  print('Busque seus casacos!...')"
      ],
      "metadata": {
        "id": "rsM9jHKEoKZw"
      },
      "execution_count": null,
      "outputs": []
    },
    {
      "cell_type": "code",
      "source": [
        "# Prática = contar quantos Ss tem em um frase\n",
        "\n",
        "frase = 'Educação não transforma o mundo. Educação muda pessoas. Pessoas transforma o mundo.  (Paulo Freire)'\n",
        "letra_s = 0\n",
        "\n",
        "for letra in frase:\n",
        "  if letra == 'S' or letra == 's':\n",
        "    letra_s += 1\n",
        "\n",
        "print(frase)\n",
        "print(f'A letra S aparece {letra_s} vezes na frase acima. ')"
      ],
      "metadata": {
        "id": "G7QjlY5_oLUs"
      },
      "execution_count": null,
      "outputs": []
    },
    {
      "cell_type": "code",
      "source": [
        "# Prática = retornar elementos com o índice maior que 5\n",
        "\n",
        "lista = ['a', 'b', 'c', 'd', 'e', 'f', 'g', 'h']\n",
        "\n",
        "print(lista)\n",
        "\n",
        "for indice in range(5,len(lista)):\n",
        "  print(lista[indice])\n",
        "    "
      ],
      "metadata": {
        "id": "cNyi9JBqoQZ4"
      },
      "execution_count": null,
      "outputs": []
    },
    {
      "cell_type": "code",
      "source": [
        "# Prática = criar dicionario\n",
        "\n",
        "dict1 = {'a' : 1, 'b' : 2}\n",
        "dict2 = {'c' : 4, 'd' : 5}\n",
        "\n",
        "dict3.update(dict1)\n",
        "dict3.update(dict2)\n",
        "\n",
        "print(dict3)"
      ],
      "metadata": {
        "id": "KUN6spAioRN0"
      },
      "execution_count": null,
      "outputs": []
    },
    {
      "cell_type": "code",
      "source": [
        "# Pratica = 12\n",
        "\n",
        "for um_valor in range(10):\n",
        "  print(um_valor, end=' ')"
      ],
      "metadata": {
        "id": "1i37FqDYoVIN"
      },
      "execution_count": null,
      "outputs": []
    },
    {
      "cell_type": "code",
      "source": [
        "# Prática = 13\n",
        "for um_char in 'Venha para a festa':\n",
        "  print(um_char)"
      ],
      "metadata": {
        "id": "i6NIF9yQoXk9"
      },
      "execution_count": null,
      "outputs": []
    }
  ]
}
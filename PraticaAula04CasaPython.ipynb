{
  "nbformat": 4,
  "nbformat_minor": 0,
  "metadata": {
    "colab": {
      "provenance": [],
      "collapsed_sections": [],
      "authorship_tag": "ABX9TyNZMvXs7Auro+RCbc/ZVCcI",
      "include_colab_link": true
    },
    "kernelspec": {
      "name": "python3",
      "display_name": "Python 3"
    },
    "language_info": {
      "name": "python"
    }
  },
  "cells": [
    {
      "cell_type": "markdown",
      "metadata": {
        "id": "view-in-github",
        "colab_type": "text"
      },
      "source": [
        "<a href=\"https://colab.research.google.com/github/romildoalimajr/webPythonSenac/blob/main/PraticaAula04CasaPython.ipynb\" target=\"_parent\"><img src=\"https://colab.research.google.com/assets/colab-badge.svg\" alt=\"Open In Colab\"/></a>"
      ]
    },
    {
      "cell_type": "code",
      "execution_count": null,
      "metadata": {
        "id": "uMNU3WMcnfM9"
      },
      "outputs": [],
      "source": [
        "# Prática - Convite para a festa\n",
        "\n",
        "for nome in ['Reginaldo', 'Gisele Pintcher', 'Scoob', 'Marlene',\n",
        "             'Zezinho', 'Cibele', 'Suely']:\n",
        "             convite = (f'Oi, {nome}! Por favor, venha para o sábado pet em minha casa! ')\n",
        "             print(convite)"
      ]
    },
    {
      "cell_type": "code",
      "source": [
        "# Pratica = Criar uma lista com 5 frutas e verificar se tem morango na lista\n",
        "\n",
        "morango = 0\n",
        "for fruta in range(5):\n",
        "  fruta = input('Digite o nome de uma fruta.: ').lower()\n",
        "  if fruta == 'morango':\n",
        "    morango += 1\n",
        "\n",
        "if morango <= 1:\n",
        "  print('Oba tem MORANGO na lista')\n",
        "else:\n",
        "  print('Nada de MORANGO nessa lista')\n"
      ],
      "metadata": {
        "id": "D129xe6Ln1rL"
      },
      "execution_count": null,
      "outputs": []
    },
    {
      "cell_type": "code",
      "source": [
        "# Pratica = criar uma sequencia de número pares entre 100 e 150\n",
        "\n",
        "cont = 100\n",
        "while cont <= 150:\n",
        "  if cont % 2 == 0:\n",
        "    print(cont, end = ' - ')\n",
        "  cont += 1\n"
      ],
      "metadata": {
        "id": "bSxKVpWJn5Fm"
      },
      "execution_count": null,
      "outputs": []
    },
    {
      "cell_type": "code",
      "source": [
        "# Pratica = criar uma variavel de temperatura e imprimir\n",
        "\n",
        "temperatura = 40\n",
        "cont = int(temperatura)\n",
        "grau  = 25\n",
        "\n",
        "while cont >= grau:\n",
        "  print(f'{cont}º', end= ' - ')\n",
        "  cont -= 1"
      ],
      "metadata": {
        "id": "-mwTEwTzn8H9"
      },
      "execution_count": null,
      "outputs": []
    },
    {
      "cell_type": "code",
      "source": [
        "# Prática = contar até 100 com FOR\n",
        "\n",
        "for cont in range(100):\n",
        "  print(cont, end = ' - ')"
      ],
      "metadata": {
        "id": "iVTrTnjSoBln"
      },
      "execution_count": null,
      "outputs": []
    },
    {
      "cell_type": "code",
      "source": [
        "# Prática = contar até 100 com WHILE\n",
        "\n",
        "cont = 0\n",
        "\n",
        "while cont in range(100):\n",
        "  print(cont, end = ' - ')\n",
        "  cont += 1"
      ],
      "metadata": {
        "id": "F8qMUOIWoEN9"
      },
      "execution_count": null,
      "outputs": []
    },
    {
      "cell_type": "code",
      "source": [
        "# Prática = criar uma lista e acrescentar valores pares \n",
        "lista = []\n",
        "cont = 4\n",
        "\n",
        "for cont in range(20):\n",
        "  if cont % 2 == 0:\n",
        "    lista.append(cont)\n",
        "\n",
        "print(lista)"
      ],
      "metadata": {
        "id": "X7OPkXneoGuC"
      },
      "execution_count": null,
      "outputs": []
    },
    {
      "cell_type": "code",
      "source": [
        "# Prática - correção de erros em códigos\n",
        "\n",
        "temperatura = float(input('Qual a temperaturas? '))\n",
        "\n",
        "if temperatura > 30:\n",
        "  print('Vista roupas leves!...')\n",
        "else:\n",
        "  print('Busque seus casacos!...')"
      ],
      "metadata": {
        "id": "rsM9jHKEoKZw"
      },
      "execution_count": null,
      "outputs": []
    },
    {
      "cell_type": "code",
      "source": [
        "# Prática = contar quantos Ss tem em um frase\n",
        "\n",
        "frase = 'Educação não transforma o mundo. Educação muda pessoas. Pessoas transforma o mundo.  (Paulo Freire)'\n",
        "letra_s = 0\n",
        "\n",
        "for letra in frase:\n",
        "  if letra == 'S' or letra == 's':\n",
        "    letra_s += 1\n",
        "\n",
        "print(frase)\n",
        "print(f'A letra S aparece {letra_s} vezes na frase acima. ')"
      ],
      "metadata": {
        "id": "G7QjlY5_oLUs"
      },
      "execution_count": null,
      "outputs": []
    },
    {
      "cell_type": "code",
      "source": [
        "# Prática = retornar elementos com o índice maior que 5\n",
        "\n",
        "lista = ['a', 'b', 'c', 'd', 'e', 'f', 'g', 'h']\n",
        "\n",
        "print(lista)\n",
        "\n",
        "for indice in range(5,len(lista)):\n",
        "  print(lista[indice])\n",
        "    "
      ],
      "metadata": {
        "id": "cNyi9JBqoQZ4"
      },
      "execution_count": null,
      "outputs": []
    },
    {
      "cell_type": "code",
      "source": [
        "# Prática = criar dicionario\n",
        "\n",
        "dict1 = {'a' : 1, 'b' : 2}\n",
        "dict2 = {'c' : 4, 'd' : 5}\n",
        "\n",
        "dict3.update(dict1)\n",
        "dict3.update(dict2)\n",
        "\n",
        "print(dict3)"
      ],
      "metadata": {
        "id": "KUN6spAioRN0"
      },
      "execution_count": null,
      "outputs": []
    },
    {
      "cell_type": "code",
      "source": [
        "# Pratica = 12\n",
        "\n",
        "for um_valor in range(10):\n",
        "  print(um_valor, end=' ')"
      ],
      "metadata": {
        "id": "1i37FqDYoVIN"
      },
      "execution_count": null,
      "outputs": []
    },
    {
      "cell_type": "code",
      "source": [
        "# Prática = 13\n",
        "for um_char in 'Venha para a festa':\n",
        "  print(um_char)"
      ],
      "metadata": {
        "id": "i6NIF9yQoXk9"
      },
      "execution_count": null,
      "outputs": []
    }
  ]
}
{
  "nbformat": 4,
  "nbformat_minor": 0,
  "metadata": {
    "colab": {
      "provenance": [],
      "authorship_tag": "ABX9TyNA46Ouawes9lpMZsl5cH5h",
      "include_colab_link": true
    },
    "kernelspec": {
      "name": "python3",
      "display_name": "Python 3"
    },
    "language_info": {
      "name": "python"
    }
  },
  "cells": [
    {
      "cell_type": "markdown",
      "metadata": {
        "id": "view-in-github",
        "colab_type": "text"
      },
      "source": [
        "<a href=\"https://colab.research.google.com/github/romildoalimajr/webPythonSenac/blob/main/Exercicio_Lista_Tupla_Aula03.ipynb\" target=\"_parent\"><img src=\"https://colab.research.google.com/assets/colab-badge.svg\" alt=\"Open In Colab\"/></a>"
      ]
    },
    {
      "cell_type": "code",
      "execution_count": 2,
      "metadata": {
        "id": "_A-WZa9hBaf3"
      },
      "outputs": [],
      "source": [
        "palavras = ['codigo', 'linguagens', 'web']\n",
        "numeros = [18, 123]\n",
        "vazia = []\n",
        "lista_mista = ['oi', 2.0, 5*2, [10,20]]"
      ]
    },
    {
      "cell_type": "code",
      "source": [
        "print(numeros)\n",
        "print(lista_mista)\n",
        "nova_lista = [numeros, palavras]\n",
        "print(nova_lista)"
      ],
      "metadata": {
        "colab": {
          "base_uri": "https://localhost:8080/"
        },
        "id": "fI-vWJDQBwfM",
        "outputId": "83ef6319-03ec-4cdc-ac75-8ff1a301c935"
      },
      "execution_count": 3,
      "outputs": [
        {
          "output_type": "stream",
          "name": "stdout",
          "text": [
            "[18, 123]\n",
            "['oi', 2.0, 10, [10, 20]]\n",
            "[[18, 123], ['codigo', 'linguagens', 'web']]\n"
          ]
        }
      ]
    },
    {
      "cell_type": "code",
      "source": [
        "uma_lista = ['oi', 2.0, 5, [10,20]]\n",
        "print(len(uma_lista))\n",
        "print(len(['spam!', 1, ['bolo', 'bolacha', 'biscoito'], [1,2,3]]))"
      ],
      "metadata": {
        "colab": {
          "base_uri": "https://localhost:8080/"
        },
        "id": "GnGbcgXbCIz2",
        "outputId": "8c59442b-3594-4481-f7b4-6bf52ba221be"
      },
      "execution_count": 5,
      "outputs": [
        {
          "output_type": "stream",
          "name": "stdout",
          "text": [
            "4\n",
            "4\n"
          ]
        }
      ]
    },
    {
      "cell_type": "code",
      "source": [
        "numeros = [15, 424, 86, 13, 66, 8338, 74]\n",
        "print(numeros[2])\n",
        "print(numeros[9-8])\n",
        "print(numeros[-2])\n",
        "print(numeros[len(numeros)-1])"
      ],
      "metadata": {
        "colab": {
          "base_uri": "https://localhost:8080/"
        },
        "id": "SChIlzhjCua6",
        "outputId": "92d3690c-43e2-443c-b71b-5ea3683dd357"
      },
      "execution_count": 7,
      "outputs": [
        {
          "output_type": "stream",
          "name": "stdout",
          "text": [
            "86\n",
            "424\n",
            "8338\n",
            "74\n"
          ]
        }
      ]
    },
    {
      "cell_type": "code",
      "source": [
        "uma_lista = [3, 5, 'Cibele', 3.14, False]\n",
        "print(len(uma_lista))"
      ],
      "metadata": {
        "colab": {
          "base_uri": "https://localhost:8080/"
        },
        "id": "ZtMr-VcWDHDQ",
        "outputId": "1556862f-55ef-4289-c61b-c4b74a9dc629"
      },
      "execution_count": 8,
      "outputs": [
        {
          "output_type": "stream",
          "name": "stdout",
          "text": [
            "5\n"
          ]
        }
      ]
    },
    {
      "cell_type": "code",
      "source": [
        "uma_lista = [3, 5, 'Cibele', [88, 99, 'Suely'], [], 3.14, False]\n",
        "print(len(uma_lista))"
      ],
      "metadata": {
        "colab": {
          "base_uri": "https://localhost:8080/"
        },
        "id": "_jD6iPmYDSlu",
        "outputId": "d17568d8-ec58-48be-d520-c6f898e9d9f6"
      },
      "execution_count": 9,
      "outputs": [
        {
          "output_type": "stream",
          "name": "stdout",
          "text": [
            "7\n"
          ]
        }
      ]
    },
    {
      "cell_type": "code",
      "source": [
        "uma_lista = [3, 5, 'Cibele', [88, 99, 'Suely'], [], 3.14, False]\n",
        "print(uma_lista[5])"
      ],
      "metadata": {
        "colab": {
          "base_uri": "https://localhost:8080/"
        },
        "id": "Dh21qUVMDi41",
        "outputId": "60a57be8-d174-457a-b957-068d642c90c3"
      },
      "execution_count": 13,
      "outputs": [
        {
          "output_type": "stream",
          "name": "stdout",
          "text": [
            "3.14\n"
          ]
        }
      ]
    },
    {
      "cell_type": "code",
      "source": [
        "uma_lista = [3, 5, 'Cibele', [88, 99, 'Suely'], [], 3.14, False]\n",
        "print(uma_lista[2].upper())"
      ],
      "metadata": {
        "colab": {
          "base_uri": "https://localhost:8080/"
        },
        "id": "03LJZ1LMD4el",
        "outputId": "71df6f2d-6cea-4c13-b01b-980b0843447b"
      },
      "execution_count": 15,
      "outputs": [
        {
          "output_type": "stream",
          "name": "stdout",
          "text": [
            "CIBELE\n"
          ]
        }
      ]
    },
    {
      "cell_type": "code",
      "source": [
        "uma_lista = [3, 5, 'Cibele', [88, 99, 'Suely'], [], 3.14, False]\n",
        "print(uma_lista[2][0])"
      ],
      "metadata": {
        "colab": {
          "base_uri": "https://localhost:8080/"
        },
        "id": "LBbDNMt2EM9L",
        "outputId": "14a2de4a-769c-48fe-930f-9be6d882ad7a"
      },
      "execution_count": 16,
      "outputs": [
        {
          "output_type": "stream",
          "name": "stdout",
          "text": [
            "C\n"
          ]
        }
      ]
    },
    {
      "cell_type": "code",
      "source": [
        "uma_lista = [3, 5, 'Cibele', [88, 99, 'Suely'], [], 3.14, False]\n",
        "print(3.14 in uma_lista)"
      ],
      "metadata": {
        "colab": {
          "base_uri": "https://localhost:8080/"
        },
        "id": "iMd6SbM7EXn7",
        "outputId": "c19e105e-e1cd-4030-937b-7dea10f086f1"
      },
      "execution_count": 17,
      "outputs": [
        {
          "output_type": "stream",
          "name": "stdout",
          "text": [
            "True\n"
          ]
        }
      ]
    },
    {
      "cell_type": "code",
      "source": [
        "uma_lista = [3, 5, 'Cibele', [88, 99, 'Suely'], [], 3.14, False]\n",
        "print(88 in uma_lista)"
      ],
      "metadata": {
        "colab": {
          "base_uri": "https://localhost:8080/"
        },
        "id": "CccvmxXvEcEy",
        "outputId": "09ba7cbf-13ba-478f-ea7f-efdaffdb4d30"
      },
      "execution_count": 18,
      "outputs": [
        {
          "output_type": "stream",
          "name": "stdout",
          "text": [
            "False\n"
          ]
        }
      ]
    },
    {
      "cell_type": "code",
      "source": [
        "uma_lista = [1,3,5]\n",
        "outra_lista= [2,4,6]\n",
        "print(uma_lista + outra_lista)"
      ],
      "metadata": {
        "colab": {
          "base_uri": "https://localhost:8080/"
        },
        "id": "OQhCwHZOEiCf",
        "outputId": "91f4e8a8-a587-4b53-a70a-f9bdeb691547"
      },
      "execution_count": 19,
      "outputs": [
        {
          "output_type": "stream",
          "name": "stdout",
          "text": [
            "[1, 3, 5, 2, 4, 6]\n"
          ]
        }
      ]
    },
    {
      "cell_type": "code",
      "source": [
        "uma_lista = [1,3,5]\n",
        "print(uma_lista * 3)"
      ],
      "metadata": {
        "colab": {
          "base_uri": "https://localhost:8080/"
        },
        "id": "a8gsk8AiEuXh",
        "outputId": "6a874ff1-de24-44d9-ee5e-7ada4aea4a6f"
      },
      "execution_count": 20,
      "outputs": [
        {
          "output_type": "stream",
          "name": "stdout",
          "text": [
            "[1, 3, 5, 1, 3, 5, 1, 3, 5]\n"
          ]
        }
      ]
    },
    {
      "cell_type": "code",
      "source": [
        "uma_lista = [3, 5, 'Cibele', [88, 99, 'Suely'], [], 3.14, False]\n",
        "print(uma_lista[4])"
      ],
      "metadata": {
        "colab": {
          "base_uri": "https://localhost:8080/"
        },
        "id": "ykRrRpdME2TK",
        "outputId": "b9245c81-43b7-49dd-b455-71c532fe502d"
      },
      "execution_count": 21,
      "outputs": [
        {
          "output_type": "stream",
          "name": "stdout",
          "text": [
            "[]\n"
          ]
        }
      ]
    },
    {
      "cell_type": "code",
      "source": [
        "uma_lista = ['a', 'b', 'c', 'd', 'e', 'f']\n",
        "uma_lista[1:3] = ['x', 'y']\n",
        "print(uma_lista)"
      ],
      "metadata": {
        "colab": {
          "base_uri": "https://localhost:8080/"
        },
        "id": "xZIP1JrTE_wZ",
        "outputId": "d049e995-ec2a-407e-a44c-1468eec0fcc8"
      },
      "execution_count": 22,
      "outputs": [
        {
          "output_type": "stream",
          "name": "stdout",
          "text": [
            "['a', 'x', 'y', 'd', 'e', 'f']\n"
          ]
        }
      ]
    },
    {
      "cell_type": "code",
      "source": [
        "uma_lista = ['a', 'b', 'c', 'd', 'e', 'f']\n",
        "uma_lista[1:3] = []\n",
        "print(uma_lista)"
      ],
      "metadata": {
        "colab": {
          "base_uri": "https://localhost:8080/"
        },
        "id": "U-pvrFoXFVKX",
        "outputId": "e35560ed-6748-4bc3-c43e-bf7680dc66b8"
      },
      "execution_count": 23,
      "outputs": [
        {
          "output_type": "stream",
          "name": "stdout",
          "text": [
            "['a', 'd', 'e', 'f']\n"
          ]
        }
      ]
    },
    {
      "cell_type": "code",
      "source": [
        "uma_lista = ['a', 'd', 'f']\n",
        "uma_lista[1:1] = ['b','c']\n",
        "print(uma_lista)\n",
        "uma_lista[4:4] = ['e']\n",
        "print(uma_lista)"
      ],
      "metadata": {
        "colab": {
          "base_uri": "https://localhost:8080/"
        },
        "id": "7AacxNRZFzeg",
        "outputId": "eda05173-90a2-45ca-d3dd-7fa3da422066"
      },
      "execution_count": 24,
      "outputs": [
        {
          "output_type": "stream",
          "name": "stdout",
          "text": [
            "['a', 'b', 'c', 'd', 'f']\n",
            "['a', 'b', 'c', 'd', 'e', 'f']\n"
          ]
        }
      ]
    },
    {
      "cell_type": "code",
      "source": [
        "uma_lista = [4, 1, 8, 3]\n",
        "uma_lista[2] = True\n",
        "print(uma_lista)"
      ],
      "metadata": {
        "colab": {
          "base_uri": "https://localhost:8080/"
        },
        "id": "Vx5tui_3GLqU",
        "outputId": "2c53572d-a170-4c0a-97c8-20f6cb330b79"
      },
      "execution_count": 27,
      "outputs": [
        {
          "output_type": "stream",
          "name": "stdout",
          "text": [
            "[4, 1, True, 3]\n"
          ]
        }
      ]
    },
    {
      "cell_type": "code",
      "source": [
        "a = ['um', 'dois', 'tres']\n",
        "del a[1]\n",
        "print(a)\n",
        "lista = ['a', 'b', 'c', 'd', 'e', 'f']\n",
        "del lista[1:5]\n",
        "print(lista)"
      ],
      "metadata": {
        "colab": {
          "base_uri": "https://localhost:8080/"
        },
        "id": "82wOU1W2GfeV",
        "outputId": "5afe2f9c-245c-44fe-9d67-f1492a7c81e9"
      },
      "execution_count": 28,
      "outputs": [
        {
          "output_type": "stream",
          "name": "stdout",
          "text": [
            "['um', 'tres']\n",
            "['a', 'f']\n"
          ]
        }
      ]
    },
    {
      "cell_type": "code",
      "source": [
        "lista_a = [4, 1, 8, 6, 3]\n",
        "lista_b = lista_a\n",
        "lista_b[3] = 22\n",
        "print(lista_a)\n"
      ],
      "metadata": {
        "colab": {
          "base_uri": "https://localhost:8080/"
        },
        "id": "9YC_ghKEG0b3",
        "outputId": "318f9100-54a4-4c4e-e8a7-823c3d94b4fc"
      },
      "execution_count": 33,
      "outputs": [
        {
          "output_type": "stream",
          "name": "stdout",
          "text": [
            "[4, 1, 8, 22, 3]\n"
          ]
        }
      ]
    },
    {
      "cell_type": "code",
      "source": [
        "lista_original = [5, 6, 7, 8]\n",
        "print(lista_original*3)"
      ],
      "metadata": {
        "colab": {
          "base_uri": "https://localhost:8080/"
        },
        "id": "fJB6dGiGHTSS",
        "outputId": "8ed88514-4978-4de4-a07d-0add556a5c0e"
      },
      "execution_count": 34,
      "outputs": [
        {
          "output_type": "stream",
          "name": "stdout",
          "text": [
            "[5, 6, 7, 8, 5, 6, 7, 8, 5, 6, 7, 8]\n"
          ]
        }
      ]
    },
    {
      "cell_type": "code",
      "source": [
        "lista_original = [5, 6, 7, 8]\n",
        "print(lista_original*3)\n",
        "lista_nova = [lista_original] * 3\n",
        "print(lista_nova)"
      ],
      "metadata": {
        "colab": {
          "base_uri": "https://localhost:8080/"
        },
        "id": "wm2UXSsNHcNC",
        "outputId": "4dd87d62-b34c-4314-8e4f-7fe89b4639d5"
      },
      "execution_count": 36,
      "outputs": [
        {
          "output_type": "stream",
          "name": "stdout",
          "text": [
            "[5, 6, 7, 8, 5, 6, 7, 8, 5, 6, 7, 8]\n",
            "[[5, 6, 7, 8], [5, 6, 7, 8], [5, 6, 7, 8]]\n"
          ]
        }
      ]
    },
    {
      "cell_type": "code",
      "source": [
        "lista_original = [5, 6, 7, 8]\n",
        "lista_nova = [lista_original] * 3\n",
        "print(lista_nova)\n",
        "lista_original[1] = 22\n",
        "print(lista_nova)"
      ],
      "metadata": {
        "id": "ja4hihb-IeXr",
        "outputId": "c445ddd1-bbde-4aa7-eb7e-e35f7268a4e6",
        "colab": {
          "base_uri": "https://localhost:8080/"
        }
      },
      "execution_count": 37,
      "outputs": [
        {
          "output_type": "stream",
          "name": "stdout",
          "text": [
            "[[5, 6, 7, 8], [5, 6, 7, 8], [5, 6, 7, 8]]\n",
            "[[5, 22, 7, 8], [5, 22, 7, 8], [5, 22, 7, 8]]\n"
          ]
        }
      ]
    },
    {
      "cell_type": "code",
      "source": [
        "lista_a = [4, 1, 8, 6, 3]\n",
        "lista_b = lista_a * 2\n",
        "lista_b[3] = 35\n",
        "print(lista_a)"
      ],
      "metadata": {
        "id": "E04d4ztkI0Vf",
        "outputId": "2e20051a-87f7-4f8f-d3c8-66c527198b32",
        "colab": {
          "base_uri": "https://localhost:8080/"
        }
      },
      "execution_count": 38,
      "outputs": [
        {
          "output_type": "stream",
          "name": "stdout",
          "text": [
            "[4, 1, 8, 6, 3]\n"
          ]
        }
      ]
    },
    {
      "cell_type": "code",
      "source": [
        "lista_a = [4, 1, 8, 6, 3]\n",
        "lista_b = lista_a * 2\n",
        "lista_b[3] = 35\n",
        "print(lista_a)\n",
        "print(lista_b)"
      ],
      "metadata": {
        "id": "7Z5C4XDJJE5R",
        "outputId": "f029d02e-c61f-4e22-e289-c421d0f9d6a9",
        "colab": {
          "base_uri": "https://localhost:8080/"
        }
      },
      "execution_count": 39,
      "outputs": [
        {
          "output_type": "stream",
          "name": "stdout",
          "text": [
            "[4, 1, 8, 6, 3]\n",
            "[4, 1, 8, 35, 3, 4, 1, 8, 6, 3]\n"
          ]
        }
      ]
    },
    {
      "cell_type": "code",
      "source": [
        "uma_lista = [4, 1, 8, 6, 3]\n",
        "uma_lista.append(True)\n",
        "uma_lista.append(False)\n",
        "print(uma_lista)"
      ],
      "metadata": {
        "id": "AzK7QvaiJMcN",
        "outputId": "08a21395-5deb-473d-d612-1648a3096405",
        "colab": {
          "base_uri": "https://localhost:8080/"
        }
      },
      "execution_count": 40,
      "outputs": [
        {
          "output_type": "stream",
          "name": "stdout",
          "text": [
            "[4, 1, 8, 6, 3, True, False]\n"
          ]
        }
      ]
    },
    {
      "cell_type": "code",
      "source": [
        "uma_lista = [4, 1, 8, 6, 3]\n",
        "temp = uma_lista.pop(2)\n",
        "temp = uma_lista.pop()\n",
        "print(uma_lista)"
      ],
      "metadata": {
        "id": "yW7MWm9iJfM2",
        "outputId": "40fc1769-3234-4042-c8c6-ed11a2ab1eb9",
        "colab": {
          "base_uri": "https://localhost:8080/"
        }
      },
      "execution_count": 41,
      "outputs": [
        {
          "output_type": "stream",
          "name": "stdout",
          "text": [
            "[4, 1, 6]\n"
          ]
        }
      ]
    },
    {
      "cell_type": "code",
      "source": [
        "uma_lista = [4, 1, 8, 6, 3]\n",
        "uma_lista = uma_lista.pop(0)\n",
        "print(uma_lista)"
      ],
      "metadata": {
        "id": "-AznKt6BJwLE",
        "outputId": "48fcdfe7-2582-4ee1-b581-3465fd08d2d7",
        "colab": {
          "base_uri": "https://localhost:8080/"
        }
      },
      "execution_count": 42,
      "outputs": [
        {
          "output_type": "stream",
          "name": "stdout",
          "text": [
            "4\n"
          ]
        }
      ]
    },
    {
      "cell_type": "code",
      "source": [],
      "metadata": {
        "id": "z_4o3Yd7J92a"
      },
      "execution_count": null,
      "outputs": []
    }
  ]
}
{
  "nbformat": 4,
  "nbformat_minor": 0,
  "metadata": {
    "colab": {
      "provenance": [],
      "authorship_tag": "ABX9TyOhl+RyH9KKVQtVok3OOwRc",
      "include_colab_link": true
    },
    "kernelspec": {
      "name": "python3",
      "display_name": "Python 3"
    },
    "language_info": {
      "name": "python"
    }
  },
  "cells": [
    {
      "cell_type": "markdown",
      "metadata": {
        "id": "view-in-github",
        "colab_type": "text"
      },
      "source": [
        "<a href=\"https://colab.research.google.com/github/romildoalimajr/webPythonSenac/blob/main/aula04Python.ipynb\" target=\"_parent\"><img src=\"https://colab.research.google.com/assets/colab-badge.svg\" alt=\"Open In Colab\"/></a>"
      ]
    },
    {
      "cell_type": "code",
      "execution_count": null,
      "metadata": {
        "id": "_93HL52nKR7L"
      },
      "outputs": [],
      "source": []
    },
    {
      "cell_type": "code",
      "source": [
        "for elemento in [1,2,3,4,5,6]:\n",
        "  print('Estamos no elemento.: ', elemento)"
      ],
      "metadata": {
        "colab": {
          "base_uri": "https://localhost:8080/"
        },
        "id": "udOwTn6bLv8G",
        "outputId": "54ca1da5-4017-4308-aa44-73e521ebb93c"
      },
      "execution_count": 1,
      "outputs": [
        {
          "output_type": "stream",
          "name": "stdout",
          "text": [
            "Estamos no elemento.:  1\n",
            "Estamos no elemento.:  2\n",
            "Estamos no elemento.:  3\n",
            "Estamos no elemento.:  4\n",
            "Estamos no elemento.:  5\n",
            "Estamos no elemento.:  6\n"
          ]
        }
      ]
    },
    {
      "cell_type": "code",
      "source": [
        "for elemento in 'STRING':\n",
        "  print('Estamos no elemento.: ', elemento)"
      ],
      "metadata": {
        "colab": {
          "base_uri": "https://localhost:8080/"
        },
        "id": "-UWCRbQEL-GB",
        "outputId": "16539ec8-a896-4290-dc60-3458b18d67c4"
      },
      "execution_count": 2,
      "outputs": [
        {
          "output_type": "stream",
          "name": "stdout",
          "text": [
            "Estamos no elemento.:  S\n",
            "Estamos no elemento.:  T\n",
            "Estamos no elemento.:  R\n",
            "Estamos no elemento.:  I\n",
            "Estamos no elemento.:  N\n",
            "Estamos no elemento.:  G\n"
          ]
        }
      ]
    },
    {
      "cell_type": "code",
      "source": [
        "for elemento in range(len('STRING')):\n",
        "  print('Estamos no elemento.: ', elemento)"
      ],
      "metadata": {
        "colab": {
          "base_uri": "https://localhost:8080/"
        },
        "id": "Ckm2avU1MJSF",
        "outputId": "18812e3c-da59-4e76-cce4-82133d433674"
      },
      "execution_count": 3,
      "outputs": [
        {
          "output_type": "stream",
          "name": "stdout",
          "text": [
            "Estamos no elemento.:  0\n",
            "Estamos no elemento.:  1\n",
            "Estamos no elemento.:  2\n",
            "Estamos no elemento.:  3\n",
            "Estamos no elemento.:  4\n",
            "Estamos no elemento.:  5\n"
          ]
        }
      ]
    },
    {
      "cell_type": "code",
      "source": [
        "elemento = 0\n",
        "while elemento <= len([1,2,3,4,5,6]):\n",
        "  print('Estamos no elemento.: ', elemento)\n",
        "  elemento += 1"
      ],
      "metadata": {
        "colab": {
          "base_uri": "https://localhost:8080/"
        },
        "id": "ak2KIoXtMVdx",
        "outputId": "178fc141-e955-4786-d0b9-e0281a631abb"
      },
      "execution_count": 5,
      "outputs": [
        {
          "output_type": "stream",
          "name": "stdout",
          "text": [
            "Estamos no elemento.:  0\n",
            "Estamos no elemento.:  1\n",
            "Estamos no elemento.:  2\n",
            "Estamos no elemento.:  3\n",
            "Estamos no elemento.:  4\n",
            "Estamos no elemento.:  5\n",
            "Estamos no elemento.:  6\n"
          ]
        }
      ]
    },
    {
      "cell_type": "code",
      "source": [
        "s = 'STRING'\n",
        "indice = 0\n",
        "\n",
        "while indice in range (len(s)):\n",
        "  print('Estamos no elemento.: ', s[indice])\n",
        "  indice += 1"
      ],
      "metadata": {
        "colab": {
          "base_uri": "https://localhost:8080/"
        },
        "id": "IO4O5txJMxJ-",
        "outputId": "bdb7e42b-8bfd-436a-a2e0-ea7def9dca66"
      },
      "execution_count": 6,
      "outputs": [
        {
          "output_type": "stream",
          "name": "stdout",
          "text": [
            "Estamos no elemento.:  S\n",
            "Estamos no elemento.:  T\n",
            "Estamos no elemento.:  R\n",
            "Estamos no elemento.:  I\n",
            "Estamos no elemento.:  N\n",
            "Estamos no elemento.:  G\n"
          ]
        }
      ]
    },
    {
      "cell_type": "code",
      "source": [
        "palavra = 'tranquilo'\n",
        "for indice, letra  in enumerate(palavra):\n",
        "  print(indice, letra)"
      ],
      "metadata": {
        "colab": {
          "base_uri": "https://localhost:8080/"
        },
        "id": "0-wdh4DGNByo",
        "outputId": "593b6d91-6260-403c-c70d-df23e2ad86cc"
      },
      "execution_count": 8,
      "outputs": [
        {
          "output_type": "stream",
          "name": "stdout",
          "text": [
            "0 t\n",
            "1 r\n",
            "2 a\n",
            "3 n\n",
            "4 q\n",
            "5 u\n",
            "6 i\n",
            "7 l\n",
            "8 o\n"
          ]
        }
      ]
    },
    {
      "cell_type": "code",
      "source": [
        "lista = ['eat', 'sleep', 'repeat']\n",
        "palavra = 'geek'\n"
      ],
      "metadata": {
        "id": "j-fnTk5UNcGF"
      },
      "execution_count": 9,
      "outputs": []
    },
    {
      "cell_type": "code",
      "source": [
        "objeto1 = enumerate(lista)\n",
        "objeto2 = enumerate(palavra)"
      ],
      "metadata": {
        "id": "g_VzuW4qNjV-"
      },
      "execution_count": 10,
      "outputs": []
    },
    {
      "cell_type": "code",
      "source": [
        "print('Tipo.: ', type(objeto1))\n",
        "print(list(enumerate(lista)))"
      ],
      "metadata": {
        "colab": {
          "base_uri": "https://localhost:8080/"
        },
        "id": "ZBAQLTRNNrrc",
        "outputId": "f17ffcda-e7fc-40c3-81ad-0dc0f24c1400"
      },
      "execution_count": 12,
      "outputs": [
        {
          "output_type": "stream",
          "name": "stdout",
          "text": [
            "Tipo.:  <class 'enumerate'>\n",
            "[(0, 'eat'), (1, 'sleep'), (2, 'repeat')]\n"
          ]
        }
      ]
    },
    {
      "cell_type": "code",
      "source": [
        "print(list(enumerate(palavra, 2)))"
      ],
      "metadata": {
        "colab": {
          "base_uri": "https://localhost:8080/"
        },
        "id": "uikJs8RkN67k",
        "outputId": "3aa4d14f-a8bc-425d-dcdb-7c9486cb22ea"
      },
      "execution_count": 13,
      "outputs": [
        {
          "output_type": "stream",
          "name": "stdout",
          "text": [
            "[(2, 'g'), (3, 'e'), (4, 'e'), (5, 'k')]\n"
          ]
        }
      ]
    },
    {
      "cell_type": "code",
      "source": [
        "s = 'viva o python'\n",
        "for ch in s:\n",
        "  print('oi')"
      ],
      "metadata": {
        "colab": {
          "base_uri": "https://localhost:8080/"
        },
        "id": "RwGSmYYDOEFl",
        "outputId": "edfa1b90-103b-4538-c557-92abea62e4ce"
      },
      "execution_count": 15,
      "outputs": [
        {
          "output_type": "stream",
          "name": "stdout",
          "text": [
            "oi\n",
            "oi\n",
            "oi\n",
            "oi\n",
            "oi\n",
            "oi\n",
            "oi\n",
            "oi\n",
            "oi\n",
            "oi\n",
            "oi\n",
            "oi\n",
            "oi\n"
          ]
        }
      ]
    },
    {
      "cell_type": "code",
      "source": [
        "s = 'viva o python'\n",
        "for ch in s[3:8]:\n",
        "  print('Oi')"
      ],
      "metadata": {
        "colab": {
          "base_uri": "https://localhost:8080/"
        },
        "id": "4iNIDPa0OPd1",
        "outputId": "7dd84611-cfc5-4732-fc95-f1af640ed3e5"
      },
      "execution_count": 38,
      "outputs": [
        {
          "output_type": "stream",
          "name": "stdout",
          "text": [
            "Oi a\n",
            "Oi  \n",
            "Oi o\n",
            "Oi  \n",
            "Oi p\n"
          ]
        }
      ]
    },
    {
      "cell_type": "code",
      "source": [
        "# Desafio em FOR\n",
        "\n",
        "par = 0\n",
        "impar = 0\n",
        "\n",
        "for cont in range(10):\n",
        "  resp = int(input(f'Digite o {cont+1}º número.: '))\n",
        "  if resp % 2 == 0:\n",
        "    par += 1\n",
        "  else:\n",
        "    impar += 1\n",
        "print('Total de números pares digitados...: ', par)\n",
        "print('Total de números impares digitados.: ', impar)"
      ],
      "metadata": {
        "colab": {
          "base_uri": "https://localhost:8080/"
        },
        "id": "nT1D6pnROVu8",
        "outputId": "f1cd28ec-0925-403b-e6a0-74aec12c8c21"
      },
      "execution_count": 23,
      "outputs": [
        {
          "output_type": "stream",
          "name": "stdout",
          "text": [
            "Digite o 1º número.: 15\n",
            "Digite o 2º número.: 13\n",
            "Digite o 3º número.: 7\n",
            "Digite o 4º número.: 10\n",
            "Digite o 5º número.: 2\n",
            "Digite o 6º número.: 6\n",
            "Digite o 7º número.: 8\n",
            "Digite o 8º número.: 9\n",
            "Digite o 9º número.: 11\n",
            "Digite o 10º número.: 88\n",
            "Total de números pares digitados...:  5\n",
            "Total de números impares digitados.:  5\n"
          ]
        }
      ]
    },
    {
      "cell_type": "code",
      "source": [
        "# Desafio em WHILE\n",
        "\n",
        "par = 0\n",
        "impar = 0\n",
        "cont = 0\n",
        "\n",
        "while cont < 10:\n",
        "  resp = int(input(f'Digite o {cont+1}º número.: '))\n",
        "  if resp % 2 == 0:\n",
        "    par += 1\n",
        "  else:\n",
        "    impar += 1\n",
        "  cont += 1\n",
        "print('Total de números pares digitados...: ', par)\n",
        "print('Total de números impares digitados.: ', impar)"
      ],
      "metadata": {
        "colab": {
          "base_uri": "https://localhost:8080/"
        },
        "id": "OoG-g9TxPsjL",
        "outputId": "6d0c2b31-9164-41e5-c578-d4428df7ca58"
      },
      "execution_count": 25,
      "outputs": [
        {
          "output_type": "stream",
          "name": "stdout",
          "text": [
            "Digite o 1º número.: 1\n",
            "Digite o 2º número.: 2\n",
            "Digite o 3º número.: 3\n",
            "Digite o 4º número.: 4\n",
            "Digite o 5º número.: 5\n",
            "Digite o 6º número.: 6\n",
            "Digite o 7º número.: 7\n",
            "Digite o 8º número.: 8\n",
            "Digite o 9º número.: 9\n",
            "Digite o 10º número.: 10\n",
            "Total de números pares digitados...:  5\n",
            "Total de números impares digitados.:  5\n"
          ]
        }
      ]
    },
    {
      "cell_type": "code",
      "source": [
        "dia = input('O hoje é que dia? ').lower()\n",
        "\n",
        "if dia == 'domingo' or dia == 'sabado':\n",
        "  print(f'hoje é {dia} dia de descanso')\n",
        "else:\n",
        "  print(f'hoje é {dia}, você precisa trabalhar')"
      ],
      "metadata": {
        "colab": {
          "base_uri": "https://localhost:8080/"
        },
        "id": "8pfT0POgQqbn",
        "outputId": "98625723-59a6-44c4-d7b0-609b2b73ec22"
      },
      "execution_count": 28,
      "outputs": [
        {
          "output_type": "stream",
          "name": "stdout",
          "text": [
            "O hoje é que dia? segunda-feira\n",
            "hoje é segunda-feira, você precisa trabalhar\n"
          ]
        }
      ]
    },
    {
      "cell_type": "code",
      "source": [
        "# Desafio em FOR\n",
        "par = 0\n",
        "impar = 0\n",
        "\n",
        "for cont in range(20):\n",
        "  if cont % 2 == 0:\n",
        "    print(cont, end=' - ')\n",
        "  else:\n",
        "    print(cont * cont, end=' - ')"
      ],
      "metadata": {
        "colab": {
          "base_uri": "https://localhost:8080/"
        },
        "id": "ADoiKIFvRSfz",
        "outputId": "bb3b5287-1b40-4bd9-c16e-76adba085133"
      },
      "execution_count": 30,
      "outputs": [
        {
          "output_type": "stream",
          "name": "stdout",
          "text": [
            "0 - 1 - 2 - 9 - 4 - 25 - 6 - 49 - 8 - 81 - 10 - 121 - 12 - 169 - 14 - 225 - 16 - 289 - 18 - 361 - "
          ]
        }
      ]
    },
    {
      "cell_type": "code",
      "source": [
        "# Desafio em WHILE\n",
        "par = 0\n",
        "impar = 0\n",
        "cont = 0\n",
        "\n",
        "while cont in range(30):\n",
        "  if cont % 2 == 0:\n",
        "    print(cont, end=' - ')\n",
        "  else:\n",
        "    print(cont * cont, end=' - ')\n",
        "  cont += 1"
      ],
      "metadata": {
        "colab": {
          "base_uri": "https://localhost:8080/"
        },
        "id": "hhlYLn3WR_H5",
        "outputId": "673784c1-455a-4c4f-ef40-a8a338ec2a38"
      },
      "execution_count": 33,
      "outputs": [
        {
          "output_type": "stream",
          "name": "stdout",
          "text": [
            "0 - 1 - 2 - 9 - 4 - 25 - 6 - 49 - 8 - 81 - 10 - 121 - 12 - 169 - 14 - 225 - 16 - 289 - 18 - 361 - 20 - 441 - 22 - 529 - 24 - 625 - 26 - 729 - 28 - 841 - "
          ]
        }
      ]
    },
    {
      "cell_type": "code",
      "source": [
        "# Desafio em FOR\n",
        "\n",
        "palavra = input('Digite qualquer palavra.; ').lower()\n",
        "\n",
        "for indice, letra in enumerate(palavra):\n",
        "  if letra == 'a' or letra == 'e' or letra == 'i' or letra == 'o' or letra == 'u':\n",
        "    print(f'A vogal {letra} está na posição {indice} ')"
      ],
      "metadata": {
        "colab": {
          "base_uri": "https://localhost:8080/"
        },
        "id": "euxFDPe9SjiQ",
        "outputId": "fe792eaa-f158-491f-e333-c6526c39649b"
      },
      "execution_count": 46,
      "outputs": [
        {
          "output_type": "stream",
          "name": "stdout",
          "text": [
            "Digite qualquer palavra.; o rato roeu a roupa do rei de roma\n",
            "A vogal o está na posição 0 \n",
            "A vogal a está na posição 3 \n",
            "A vogal o está na posição 5 \n",
            "A vogal o está na posição 8 \n",
            "A vogal e está na posição 9 \n",
            "A vogal u está na posição 10 \n",
            "A vogal a está na posição 12 \n",
            "A vogal o está na posição 15 \n",
            "A vogal u está na posição 16 \n",
            "A vogal a está na posição 18 \n",
            "A vogal o está na posição 21 \n",
            "A vogal e está na posição 24 \n",
            "A vogal i está na posição 25 \n",
            "A vogal e está na posição 28 \n",
            "A vogal o está na posição 31 \n",
            "A vogal a está na posição 33 \n"
          ]
        }
      ]
    },
    {
      "cell_type": "code",
      "source": [
        "for nome in ['Reginaldo', 'Gisele Pintcher', 'Scoob', 'Marlene',\n",
        "             'Zezinho', 'Cibele', 'Suely']:\n",
        "             convite = (f'Oi, {nome}! Por favor, venha para o sábado pet em minha casa! ')\n",
        "             print(convite)"
      ],
      "metadata": {
        "colab": {
          "base_uri": "https://localhost:8080/"
        },
        "id": "PSwjicfdUo3A",
        "outputId": "f801f299-1c40-44a4-9c9c-ac35ac828d0d"
      },
      "execution_count": 49,
      "outputs": [
        {
          "output_type": "stream",
          "name": "stdout",
          "text": [
            "Oi, Reginaldo! Por favor, venha para o sábado pet em minha casa! \n",
            "Oi, Gisele Pintcher! Por favor, venha para o sábado pet em minha casa! \n",
            "Oi, Scoob! Por favor, venha para o sábado pet em minha casa! \n",
            "Oi, Marlene! Por favor, venha para o sábado pet em minha casa! \n",
            "Oi, Zezinho! Por favor, venha para o sábado pet em minha casa! \n",
            "Oi, Cibele! Por favor, venha para o sábado pet em minha casa! \n",
            "Oi, Suely! Por favor, venha para o sábado pet em minha casa! \n"
          ]
        }
      ]
    },
    {
      "cell_type": "code",
      "source": [
        "# Pratica = Criar uma lista com 5 frutas e verificar se tem morango na lista\n",
        "\n",
        "morango = 0\n",
        "for fruta in range(5):\n",
        "  fruta = input('Digite o nome de uma fruta.: ').lower()\n",
        "  if fruta == 'morango':\n",
        "    morango += 1\n",
        "\n",
        "if morango <= 1:\n",
        "  print('Oba tem MORANGO na lista')\n",
        "else:\n",
        "  print('Nada de MORANGO nessa lista')\n"
      ],
      "metadata": {
        "colab": {
          "base_uri": "https://localhost:8080/"
        },
        "id": "YAPLXhB1XIt8",
        "outputId": "aa8df7c9-d1ee-4923-ce49-253f158f76b7"
      },
      "execution_count": 52,
      "outputs": [
        {
          "output_type": "stream",
          "name": "stdout",
          "text": [
            "Digite o nome de uma fruta.: jaca\n",
            "Digite o nome de uma fruta.: jabuticaba\n",
            "Digite o nome de uma fruta.: jambo\n",
            "Digite o nome de uma fruta.: carambola\n",
            "Digite o nome de uma fruta.: umbu\n",
            "Oba tem MORANGO na lista\n"
          ]
        }
      ]
    },
    {
      "cell_type": "code",
      "source": [
        "# Pratica = criar uma sequencia de número pares entre 100 e 150\n",
        "\n",
        "cont = 100\n",
        "while cont <= 150:\n",
        "  if cont % 2 == 0:\n",
        "    print(cont, end = ' - ')\n",
        "  cont += 1\n"
      ],
      "metadata": {
        "colab": {
          "base_uri": "https://localhost:8080/"
        },
        "id": "YvaSi4OAY4y0",
        "outputId": "0b989e57-4efb-4022-a4c3-d4ea1b152755"
      },
      "execution_count": 56,
      "outputs": [
        {
          "output_type": "stream",
          "name": "stdout",
          "text": [
            "100 - 102 - 104 - 106 - 108 - 110 - 112 - 114 - 116 - 118 - 120 - 122 - 124 - 126 - 128 - 130 - 132 - 134 - 136 - 138 - 140 - 142 - 144 - 146 - 148 - 150 - "
          ]
        }
      ]
    },
    {
      "cell_type": "code",
      "source": [
        "# Pratica = criar uma variavel de temperatura e imprimir\n",
        "\n",
        "temperatura = 40\n",
        "cont = int(temperatura)\n",
        "grau  = 25\n",
        "\n",
        "while cont >= grau:\n",
        "  print(f'{cont}º', end= ' - ')\n",
        "  cont -= 1"
      ],
      "metadata": {
        "colab": {
          "base_uri": "https://localhost:8080/"
        },
        "id": "vC_r1SgVaUwl",
        "outputId": "08c99181-4337-4b51-b7ac-5111252ca65a"
      },
      "execution_count": 65,
      "outputs": [
        {
          "output_type": "stream",
          "name": "stdout",
          "text": [
            "40º - 39º - 38º - 37º - 36º - 35º - 34º - 33º - 32º - 31º - 30º - 29º - 28º - 27º - 26º - 25º - "
          ]
        }
      ]
    },
    {
      "cell_type": "code",
      "source": [
        "# Prática = contar até 100 com FOR\n",
        "\n",
        "for cont in range(100):\n",
        "  print(cont, end = ' - ')"
      ],
      "metadata": {
        "colab": {
          "base_uri": "https://localhost:8080/"
        },
        "id": "j3sx_eiFbgdQ",
        "outputId": "1a2bd0ef-f012-4744-cce6-588a12e07b75"
      },
      "execution_count": 66,
      "outputs": [
        {
          "output_type": "stream",
          "name": "stdout",
          "text": [
            "0 - 1 - 2 - 3 - 4 - 5 - 6 - 7 - 8 - 9 - 10 - 11 - 12 - 13 - 14 - 15 - 16 - 17 - 18 - 19 - 20 - 21 - 22 - 23 - 24 - 25 - 26 - 27 - 28 - 29 - 30 - 31 - 32 - 33 - 34 - 35 - 36 - 37 - 38 - 39 - 40 - 41 - 42 - 43 - 44 - 45 - 46 - 47 - 48 - 49 - 50 - 51 - 52 - 53 - 54 - 55 - 56 - 57 - 58 - 59 - 60 - 61 - 62 - 63 - 64 - 65 - 66 - 67 - 68 - 69 - 70 - 71 - 72 - 73 - 74 - 75 - 76 - 77 - 78 - 79 - 80 - 81 - 82 - 83 - 84 - 85 - 86 - 87 - 88 - 89 - 90 - 91 - 92 - 93 - 94 - 95 - 96 - 97 - 98 - 99 - "
          ]
        }
      ]
    },
    {
      "cell_type": "code",
      "source": [
        "# Prática = contar até 100 com WHILE\n",
        "\n",
        "cont = 0\n",
        "\n",
        "while cont in range(100):\n",
        "  print(cont, end = ' - ')\n",
        "  cont += 1"
      ],
      "metadata": {
        "colab": {
          "base_uri": "https://localhost:8080/"
        },
        "id": "VbWshdonbzZd",
        "outputId": "46058831-9fc2-43be-ebbe-8d16ae7bff82"
      },
      "execution_count": 76,
      "outputs": [
        {
          "output_type": "stream",
          "name": "stdout",
          "text": [
            "0 - 1 - 2 - 3 - 4 - 5 - 6 - 7 - 8 - 9 - 10 - 11 - 12 - 13 - 14 - 15 - 16 - 17 - 18 - 19 - 20 - 21 - 22 - 23 - 24 - 25 - 26 - 27 - 28 - 29 - 30 - 31 - 32 - 33 - 34 - 35 - 36 - 37 - 38 - 39 - 40 - 41 - 42 - 43 - 44 - 45 - 46 - 47 - 48 - 49 - 50 - 51 - 52 - 53 - 54 - 55 - 56 - 57 - 58 - 59 - 60 - 61 - 62 - 63 - 64 - 65 - 66 - 67 - 68 - 69 - 70 - 71 - 72 - 73 - 74 - 75 - 76 - 77 - 78 - 79 - 80 - 81 - 82 - 83 - 84 - 85 - 86 - 87 - 88 - 89 - 90 - 91 - 92 - 93 - 94 - 95 - 96 - 97 - 98 - 99 - "
          ]
        }
      ]
    },
    {
      "cell_type": "code",
      "source": [
        "# Prática = criar uma lista e acrescentar valores pares \n",
        "lista = []\n",
        "cont = 4\n",
        "\n",
        "for cont in range(20):\n",
        "  if cont % 2 == 0:\n",
        "    lista.append(cont)\n",
        "\n",
        "print(lista)"
      ],
      "metadata": {
        "colab": {
          "base_uri": "https://localhost:8080/"
        },
        "id": "y_rSyX2rcMVb",
        "outputId": "b92f071b-408e-4a5c-e240-18e8e51f5a3a"
      },
      "execution_count": 75,
      "outputs": [
        {
          "output_type": "stream",
          "name": "stdout",
          "text": [
            "[0, 2, 4, 6, 8, 10, 12, 14, 16, 18]\n"
          ]
        }
      ]
    },
    {
      "cell_type": "code",
      "source": [
        "# Prática - correção de erros em códigos\n",
        "\n",
        "temperatura = float(input('Qual a temperaturas? '))\n",
        "\n",
        "if temperatura > 30:\n",
        "  print('Vista roupas leves!...')\n",
        "else:\n",
        "  print('Busque seus casacos!...')"
      ],
      "metadata": {
        "colab": {
          "base_uri": "https://localhost:8080/"
        },
        "id": "vqkucoJ-d6P-",
        "outputId": "80862ef2-c38a-4105-cd7f-2acde8f7cd5a"
      },
      "execution_count": 78,
      "outputs": [
        {
          "output_type": "stream",
          "name": "stdout",
          "text": [
            "Qual a temperaturas? 42\n",
            "Vista roupas leves!...\n"
          ]
        }
      ]
    },
    {
      "cell_type": "code",
      "source": [
        "# Prática = contar quantos Ss tem em um frase\n",
        "\n",
        "frase = 'Educação não transforma o mundo. Educação muda pessoas. Pessoas transforma o mundo.  (Paulo Freire)'\n",
        "letra_s = 0\n",
        "\n",
        "for letra in frase:\n",
        "  if letra == 'S' or letra == 's':\n",
        "    letra_s += 1\n",
        "\n",
        "print(frase)\n",
        "print(f'A letra S aparece {letra_s} vezes na frase acima. ')"
      ],
      "metadata": {
        "colab": {
          "base_uri": "https://localhost:8080/"
        },
        "id": "nDHjgZmbeeGO",
        "outputId": "fbeff4a2-d115-4a1a-dbb7-48915cc13e13"
      },
      "execution_count": 82,
      "outputs": [
        {
          "output_type": "stream",
          "name": "stdout",
          "text": [
            "Educação não transforma o mundo. Educação muda pessoas. Pessoas transforma o mundo.  (Paulo Freire)\n",
            "A letra S aparece 8 vezes na frase acima. \n"
          ]
        }
      ]
    },
    {
      "cell_type": "code",
      "source": [
        "# Prática = retornar elementos com o índice maior que 5\n",
        "\n",
        "lista = ['a', 'b', 'c', 'd', 'e', 'f', 'g', 'h']\n",
        "\n",
        "print(lista)\n",
        "\n",
        "for indice in range(5,len(lista)):\n",
        "  print(lista[indice])\n",
        "    "
      ],
      "metadata": {
        "colab": {
          "base_uri": "https://localhost:8080/"
        },
        "id": "hrdZisiJgj4I",
        "outputId": "60530eae-6322-4f96-c250-d2d7f4cd40e4"
      },
      "execution_count": 92,
      "outputs": [
        {
          "output_type": "stream",
          "name": "stdout",
          "text": [
            "['a', 'b', 'c', 'd', 'e', 'f', 'g', 'h']\n",
            "f\n",
            "g\n",
            "h\n"
          ]
        }
      ]
    },
    {
      "cell_type": "code",
      "source": [
        "# Prática = criar dicionario\n",
        "\n",
        "dict1 = {'a' : 1, 'b' : 2}\n",
        "dict2 = {'c' : 4, 'd' : 5}\n",
        "\n",
        "dict3.update(dict1)\n",
        "dict3.update(dict2)\n",
        "\n",
        "print(dict3)"
      ],
      "metadata": {
        "colab": {
          "base_uri": "https://localhost:8080/"
        },
        "id": "ORLHj7niitgf",
        "outputId": "e294a1eb-4288-41a2-8eb4-0a3d06e8589a"
      },
      "execution_count": 105,
      "outputs": [
        {
          "output_type": "stream",
          "name": "stdout",
          "text": [
            "{'a': 1, 'b': 2}\n",
            "{'a': 1, 'b': 2, 'c': 4, 'd': 5}\n"
          ]
        }
      ]
    },
    {
      "cell_type": "code",
      "source": [
        "# Pratica = 12\n",
        "\n",
        "for um_valor in range(10):\n",
        "  print(um_valor, end=' ')"
      ],
      "metadata": {
        "colab": {
          "base_uri": "https://localhost:8080/"
        },
        "id": "uhjRhB8alkmN",
        "outputId": "54700d0d-861c-42f3-c080-d4e83ed5a294"
      },
      "execution_count": 107,
      "outputs": [
        {
          "output_type": "stream",
          "name": "stdout",
          "text": [
            "0 1 2 3 4 5 6 7 8 9 "
          ]
        }
      ]
    },
    {
      "cell_type": "code",
      "source": [
        "# Prática = 13\n",
        "for um_char in 'Venha para a festa':\n",
        "  print(um_char)"
      ],
      "metadata": {
        "colab": {
          "base_uri": "https://localhost:8080/"
        },
        "id": "H1HMFtnRlvmA",
        "outputId": "01ed787f-b709-4d17-dcd0-870d69c2cca1"
      },
      "execution_count": 110,
      "outputs": [
        {
          "output_type": "stream",
          "name": "stdout",
          "text": [
            "V\n",
            "e\n",
            "n\n",
            "h\n",
            "a\n",
            " \n",
            "p\n",
            "a\n",
            "r\n",
            "a\n",
            " \n",
            "a\n",
            " \n",
            "f\n",
            "e\n",
            "s\n",
            "t\n",
            "a\n"
          ]
        }
      ]
    }
  ]
}
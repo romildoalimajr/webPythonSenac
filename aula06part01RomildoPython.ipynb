{
  "nbformat": 4,
  "nbformat_minor": 0,
  "metadata": {
    "colab": {
      "provenance": [],
      "collapsed_sections": [],
      "authorship_tag": "ABX9TyNqUzkX1ep45oYBot031C3D",
      "include_colab_link": true
    },
    "kernelspec": {
      "name": "python3",
      "display_name": "Python 3"
    },
    "language_info": {
      "name": "python"
    }
  },
  "cells": [
    {
      "cell_type": "markdown",
      "metadata": {
        "id": "view-in-github",
        "colab_type": "text"
      },
      "source": [
        "<a href=\"https://colab.research.google.com/github/romildoalimajr/webPythonSenac/blob/main/aula06part01RomildoPython.ipynb\" target=\"_parent\"><img src=\"https://colab.research.google.com/assets/colab-badge.svg\" alt=\"Open In Colab\"/></a>"
      ]
    },
    {
      "cell_type": "code",
      "execution_count": 2,
      "metadata": {
        "colab": {
          "base_uri": "https://localhost:8080/"
        },
        "id": "WCHSsDiYHYbP",
        "outputId": "15764c31-16f9-44b7-88ee-f6240576c4be"
      },
      "outputs": [
        {
          "output_type": "stream",
          "name": "stdout",
          "text": [
            "Antes da condicional: sempre executa\n",
            "Código A: só executa casa a condição seja verdadeira\n",
            "Após a condicional: sempre executa\n"
          ]
        }
      ],
      "source": [
        "print(\"Antes da condicional: sempre executa\")\n",
        "\n",
        "cond = True\n",
        "\n",
        "if cond:\n",
        "  print('Código A: só executa casa a condição seja verdadeira')\n",
        "\n",
        "print('Após a condicional: sempre executa')"
      ]
    },
    {
      "cell_type": "code",
      "source": [
        "print('Antes da condicional: sempre executa')\n",
        "\n",
        "cond = False\n",
        "\n",
        "if cond:\n",
        "  print('Código A: só executa caso a execução seja verdadeira')\n",
        "else:\n",
        "  print('Código B: só executa caso a execução seja falsa')\n",
        "\n",
        "print('Após a condicional: sempre executa')"
      ],
      "metadata": {
        "colab": {
          "base_uri": "https://localhost:8080/"
        },
        "id": "QavvqOsqH7oF",
        "outputId": "c588fb91-377f-4df8-cc69-d02c3379d03a"
      },
      "execution_count": 3,
      "outputs": [
        {
          "output_type": "stream",
          "name": "stdout",
          "text": [
            "Antes da condicional: sempre executa\n",
            "Código B: só executa caso a execução seja falsa\n",
            "Após a condicional: sempre executa\n"
          ]
        }
      ]
    },
    {
      "cell_type": "code",
      "source": [
        "print('Antes da condicional: sempre executa')\n",
        "\n",
        "cond1 = True\n",
        "cond2 = True\n",
        "\n",
        "if cond1:\n",
        "  print('Código A: só executa caso a condição 1 seja verdadeira (não importas a condição 2) ')\n",
        "else:\n",
        "  if cond2:\n",
        "    print('Código B: só executa caso a condição 2 seja verdeira (condição 1 for falasa)')\n",
        "  else:\n",
        "    print('Código C: só executa caso a condição 2 seja falsa (condição d1 for falsa')\n",
        "\n",
        "print('Após a condicional: sempre executa')"
      ],
      "metadata": {
        "colab": {
          "base_uri": "https://localhost:8080/"
        },
        "id": "3ggCUL-3IiMw",
        "outputId": "cf5782e7-e74e-4c58-f755-92761aadc481"
      },
      "execution_count": 4,
      "outputs": [
        {
          "output_type": "stream",
          "name": "stdout",
          "text": [
            "Antes da condicional: sempre executa\n",
            "Código A: só executa caso a condição 1 seja verdadeira (não importas a condição 2) \n",
            "Após a condicional: sempre executa\n"
          ]
        }
      ]
    },
    {
      "cell_type": "code",
      "source": [
        "print('Antes da condicional: sempre executa')\n",
        "\n",
        "cond1 = True\n",
        "cond2 = False\n",
        "\n",
        "if cond1:\n",
        "  print('Código A: só executa caso a condição 1 seja verdadeira (não importa a condição 2)')\n",
        "elif cond2:\n",
        "  print('Código B: só executa caso a condição 2 seja verdadeira (codição 1 for falsa')\n",
        "else:\n",
        "  print('Código C: só executa caso a condição 2 seja falsa (condição 1 foi falsa')\n",
        "\n",
        "print('Após a condicional: sempre executas')"
      ],
      "metadata": {
        "colab": {
          "base_uri": "https://localhost:8080/"
        },
        "id": "S04-RF1oJVzu",
        "outputId": "a630efd6-566c-462e-aa88-d4322db70525"
      },
      "execution_count": 5,
      "outputs": [
        {
          "output_type": "stream",
          "name": "stdout",
          "text": [
            "Antes da condicional: sempre executa\n",
            "Código A: só executa caso a condição 1 seja verdadeira (não importa a condição 2)\n",
            "Após a condicional: sempre executas\n"
          ]
        }
      ]
    },
    {
      "cell_type": "code",
      "source": [
        "#percorrendo uma lista\n",
        "\n",
        "lista = ['a', 'b', 'c', 'd', 'e', 'f']\n",
        "\n",
        "for i in lista:\n",
        "  print(f'Nova iteração.: elmento {i}')"
      ],
      "metadata": {
        "colab": {
          "base_uri": "https://localhost:8080/"
        },
        "id": "zJ9luzRJJ0xm",
        "outputId": "a942ad0b-90e6-4d9b-bc5a-3c6a35762e65"
      },
      "execution_count": 7,
      "outputs": [
        {
          "output_type": "stream",
          "name": "stdout",
          "text": [
            "Nova iteração.: elmento a\n",
            "Nova iteração.: elmento b\n",
            "Nova iteração.: elmento c\n",
            "Nova iteração.: elmento d\n",
            "Nova iteração.: elmento e\n",
            "Nova iteração.: elmento f\n"
          ]
        }
      ]
    },
    {
      "cell_type": "code",
      "source": [
        "#percorrendo um range\n",
        "\n",
        "for i in range(1,11):\n",
        "  print(f'Nova iteração.: elemento {i}')"
      ],
      "metadata": {
        "colab": {
          "base_uri": "https://localhost:8080/"
        },
        "id": "hN4u7EjzKoMI",
        "outputId": "f977ded9-cc1e-46c9-8f32-67d65b6abc99"
      },
      "execution_count": 9,
      "outputs": [
        {
          "output_type": "stream",
          "name": "stdout",
          "text": [
            "Nova iteração.: elemento 1\n",
            "Nova iteração.: elemento 2\n",
            "Nova iteração.: elemento 3\n",
            "Nova iteração.: elemento 4\n",
            "Nova iteração.: elemento 5\n",
            "Nova iteração.: elemento 6\n",
            "Nova iteração.: elemento 7\n",
            "Nova iteração.: elemento 8\n",
            "Nova iteração.: elemento 9\n",
            "Nova iteração.: elemento 10\n"
          ]
        }
      ]
    },
    {
      "cell_type": "code",
      "source": [
        "#percorrendo elementos de um dicionário\n",
        "\n",
        "dicio = {'k1' : 'val1', 'k2' : 'val2', 'k3' : 'val3', 'k4' : 'val4', 'k5' : 'val5' }\n",
        "\n",
        "for k, v in dicio.items():\n",
        "  print(f'Nova iteração.: chave {k} --> valor {v}')"
      ],
      "metadata": {
        "colab": {
          "base_uri": "https://localhost:8080/"
        },
        "id": "bqLhJpXNLH8H",
        "outputId": "ad247468-1c62-4e60-bfd8-5e922cfa567e"
      },
      "execution_count": 13,
      "outputs": [
        {
          "output_type": "stream",
          "name": "stdout",
          "text": [
            "Nova iteração.: chave k1 --> valor val1\n",
            "Nova iteração.: chave k2 --> valor val2\n",
            "Nova iteração.: chave k3 --> valor val3\n",
            "Nova iteração.: chave k4 --> valor val4\n",
            "Nova iteração.: chave k5 --> valor val5\n"
          ]
        }
      ]
    },
    {
      "cell_type": "code",
      "source": [
        "#dica UNPACKING\n",
        "var1, var2 = ('a', 'b')\n",
        "\n",
        "print(f'var1 recebe {var1}')\n",
        "print(f'var2 recebe {var2}')"
      ],
      "metadata": {
        "colab": {
          "base_uri": "https://localhost:8080/"
        },
        "id": "l5B7uFovL14M",
        "outputId": "3ee68a8d-dadb-4af5-b18c-4598e33330f6"
      },
      "execution_count": 16,
      "outputs": [
        {
          "output_type": "stream",
          "name": "stdout",
          "text": [
            "var1 recebe a\n",
            "var2 recebe b\n"
          ]
        }
      ]
    },
    {
      "cell_type": "code",
      "source": [
        "#dica ENUMERATING\n",
        "lista = ['a', 'b', 'c', 'd', 'e', 'f', 'g', 'h']\n",
        "\n",
        "for i, el in enumerate(lista):\n",
        "  print(f'NOva iteracao (indice {i}).: elemento {el}')"
      ],
      "metadata": {
        "colab": {
          "base_uri": "https://localhost:8080/"
        },
        "id": "saA5btFDMQUN",
        "outputId": "85253eb8-90d7-4a5d-dc58-569e0a48f0ad"
      },
      "execution_count": 17,
      "outputs": [
        {
          "output_type": "stream",
          "name": "stdout",
          "text": [
            "NOva iteracao (indice 0).: elemento a\n",
            "NOva iteracao (indice 1).: elemento b\n",
            "NOva iteracao (indice 2).: elemento c\n",
            "NOva iteracao (indice 3).: elemento d\n",
            "NOva iteracao (indice 4).: elemento e\n",
            "NOva iteracao (indice 5).: elemento f\n",
            "NOva iteracao (indice 6).: elemento g\n",
            "NOva iteracao (indice 7).: elemento h\n"
          ]
        }
      ]
    },
    {
      "cell_type": "code",
      "source": [
        "#Loops do tipo WHILE\n",
        "\n",
        "cntr = 0\n",
        "\n",
        "while cntr < 10:\n",
        "  print(f'Nova iteração.: Variável contadora tem valor {cntr}')\n",
        "  cntr = cntr + 1"
      ],
      "metadata": {
        "colab": {
          "base_uri": "https://localhost:8080/"
        },
        "id": "M7hKtYOTMywz",
        "outputId": "1b8a9b33-4b8e-434b-a2cd-df166dba3f2d"
      },
      "execution_count": 19,
      "outputs": [
        {
          "output_type": "stream",
          "name": "stdout",
          "text": [
            "Nova iteração.: Variável contadora tem valor 0\n",
            "Nova iteração.: Variável contadora tem valor 1\n",
            "Nova iteração.: Variável contadora tem valor 2\n",
            "Nova iteração.: Variável contadora tem valor 3\n",
            "Nova iteração.: Variável contadora tem valor 4\n",
            "Nova iteração.: Variável contadora tem valor 5\n",
            "Nova iteração.: Variável contadora tem valor 6\n",
            "Nova iteração.: Variável contadora tem valor 7\n",
            "Nova iteração.: Variável contadora tem valor 8\n",
            "Nova iteração.: Variável contadora tem valor 9\n"
          ]
        }
      ]
    },
    {
      "cell_type": "code",
      "source": [
        "#While em lista\n",
        "\n",
        "lista = ['a', 'b', 'c', 'd', 'e', 'f', 'g', 'h']\n",
        "i = 0\n",
        "\n",
        "while i < len(lista):\n",
        "  print(f'Nova iteração.: Elemento {lista[i]} (indice - {i})')\n",
        "  i = i + 1"
      ],
      "metadata": {
        "colab": {
          "base_uri": "https://localhost:8080/"
        },
        "id": "Tzj2SmhpNQBH",
        "outputId": "352ee985-9504-46dc-facf-b7b34bc078ca"
      },
      "execution_count": 24,
      "outputs": [
        {
          "output_type": "stream",
          "name": "stdout",
          "text": [
            "Nova iteração.: Elemento a (indice - 0)\n",
            "Nova iteração.: Elemento b (indice - 1)\n",
            "Nova iteração.: Elemento c (indice - 2)\n",
            "Nova iteração.: Elemento d (indice - 3)\n",
            "Nova iteração.: Elemento e (indice - 4)\n",
            "Nova iteração.: Elemento f (indice - 5)\n",
            "Nova iteração.: Elemento g (indice - 6)\n",
            "Nova iteração.: Elemento h (indice - 7)\n"
          ]
        }
      ]
    },
    {
      "cell_type": "code",
      "source": [
        "cond = True\n",
        "\n",
        "while cond:\n",
        "  print('Nova iteracao')"
      ],
      "metadata": {
        "id": "Q_EZVPmyN6fH"
      },
      "execution_count": null,
      "outputs": []
    },
    {
      "cell_type": "code",
      "source": [
        "#exemplos de funções\n",
        "\n",
        "def foo():\n",
        "  print('Função `foo` não foi executada')\n",
        "  print('Como não há parâmetros, o comportamento da função sempre será o mesmo')"
      ],
      "metadata": {
        "id": "WfxE7kX2Pgwl"
      },
      "execution_count": 27,
      "outputs": []
    },
    {
      "cell_type": "code",
      "source": [
        "foo()"
      ],
      "metadata": {
        "colab": {
          "base_uri": "https://localhost:8080/"
        },
        "id": "PTYP_9vDP9bT",
        "outputId": "fc09a3bd-161b-4e14-943f-b11a7c4060f5"
      },
      "execution_count": 28,
      "outputs": [
        {
          "output_type": "stream",
          "name": "stdout",
          "text": [
            "Função `foo` não foi executada\n",
            "Como não há parâmetros, o comportamento da função sempre será o mesmo\n"
          ]
        }
      ]
    },
    {
      "cell_type": "code",
      "source": [
        "#Função com apenas 01 parametros\n",
        "\n",
        "def bar(par1):\n",
        "  print('Função `bar` foi executada')\n",
        "  print(f'Parametro par1 recebe {par1} como valor (argumento)')\n"
      ],
      "metadata": {
        "id": "Q156OIliQQaa"
      },
      "execution_count": 33,
      "outputs": []
    },
    {
      "cell_type": "code",
      "source": [
        "bar('Santos')"
      ],
      "metadata": {
        "colab": {
          "base_uri": "https://localhost:8080/"
        },
        "id": "-GWaRuymRAMI",
        "outputId": "86570eff-4fb0-4e95-e14a-2a964229d29f"
      },
      "execution_count": 34,
      "outputs": [
        {
          "output_type": "stream",
          "name": "stdout",
          "text": [
            "Função `bar` foi executada\n",
            "Parametro par1 recebe Santos como valor (argumento)\n"
          ]
        }
      ]
    },
    {
      "cell_type": "code",
      "source": [
        "# função com múltiplos parametros\n",
        "\n",
        "def baz(par1, par2):\n",
        "  print('Função `baz` foi executada')\n",
        "  print(f'Parâmetro par1 recebe argumento {par1}')\n",
        "  print(f'Parametro par2 recebe argumento {par2}')"
      ],
      "metadata": {
        "id": "XgfGXXerRNBK"
      },
      "execution_count": 35,
      "outputs": []
    },
    {
      "cell_type": "code",
      "source": [
        "baz('Santos', 'Dumont')"
      ],
      "metadata": {
        "colab": {
          "base_uri": "https://localhost:8080/"
        },
        "id": "ULgcOaMARkCH",
        "outputId": "1fe3b5c7-efe2-485f-ebb8-633465e5e9c9"
      },
      "execution_count": 36,
      "outputs": [
        {
          "output_type": "stream",
          "name": "stdout",
          "text": [
            "Função `baz` foi executada\n",
            "Parâmetro par1 recebe argumento Santos\n",
            "Parametro par2 recebe argumento Dumont\n"
          ]
        }
      ]
    },
    {
      "cell_type": "code",
      "source": [
        "# Função com valor Default\n",
        "\n",
        "def baz2(par1, par2 = 'Barney'):\n",
        "  print('Função baz2 foi executada')\n",
        "  print(f'Parâmetro par1 recebe argumento {par1}')\n",
        "  print(f'Parâmetro par2 recebe argumento {par2}')"
      ],
      "metadata": {
        "id": "gI6iY5jqRupf"
      },
      "execution_count": 37,
      "outputs": []
    },
    {
      "cell_type": "code",
      "source": [
        "baz2('Santos')"
      ],
      "metadata": {
        "colab": {
          "base_uri": "https://localhost:8080/"
        },
        "id": "33oIPpzXSFd8",
        "outputId": "ce1d12f2-54e7-4079-b496-1c45794ef1ae"
      },
      "execution_count": 38,
      "outputs": [
        {
          "output_type": "stream",
          "name": "stdout",
          "text": [
            "Função baz2 foi executada\n",
            "Parâmetro par1 recebe argumento Santos\n",
            "Parâmetro par2 recebe argumento Barney\n"
          ]
        }
      ]
    },
    {
      "cell_type": "code",
      "source": [
        "baz2('Santos', 'Dumont')"
      ],
      "metadata": {
        "colab": {
          "base_uri": "https://localhost:8080/"
        },
        "id": "l6627nIeSLUQ",
        "outputId": "851d1390-fc96-4932-b460-a5bc1ae2f9c8"
      },
      "execution_count": 40,
      "outputs": [
        {
          "output_type": "stream",
          "name": "stdout",
          "text": [
            "Função baz2 foi executada\n",
            "Parâmetro par1 recebe argumento Santos\n",
            "Parâmetro par2 recebe argumento Dumont\n"
          ]
        }
      ]
    },
    {
      "cell_type": "code",
      "source": [
        "# Passando argumento fora da ordem\n",
        "\n",
        "baz2(par2 = 'Dumont', par1='Santos')"
      ],
      "metadata": {
        "colab": {
          "base_uri": "https://localhost:8080/"
        },
        "id": "hxsVMiOISYIw",
        "outputId": "9a00c536-d48c-48f2-d28d-f4d92a25315d"
      },
      "execution_count": 41,
      "outputs": [
        {
          "output_type": "stream",
          "name": "stdout",
          "text": [
            "Função baz2 foi executada\n",
            "Parâmetro par1 recebe argumento Santos\n",
            "Parâmetro par2 recebe argumento Dumont\n"
          ]
        }
      ]
    },
    {
      "cell_type": "code",
      "source": [
        "#Função com retorno recebendo parâmetros\n",
        "\n",
        "def adicao(n1,n2):\n",
        "  res = n1 + n2\n",
        "  print(res)\n",
        "  return res"
      ],
      "metadata": {
        "id": "V7uL4-CPSyDP"
      },
      "execution_count": 71,
      "outputs": []
    },
    {
      "cell_type": "code",
      "source": [
        "adicao(3,7)"
      ],
      "metadata": {
        "colab": {
          "base_uri": "https://localhost:8080/"
        },
        "id": "-KdaXCBZS61C",
        "outputId": "d8c9c639-06cb-4bde-f5bc-81b4a7388791"
      },
      "execution_count": 72,
      "outputs": [
        {
          "output_type": "stream",
          "name": "stdout",
          "text": [
            "10\n"
          ]
        },
        {
          "output_type": "execute_result",
          "data": {
            "text/plain": [
              "10"
            ]
          },
          "metadata": {},
          "execution_count": 72
        }
      ]
    },
    {
      "cell_type": "code",
      "source": [
        "adicao(5,1)"
      ],
      "metadata": {
        "colab": {
          "base_uri": "https://localhost:8080/"
        },
        "id": "7XVQMSz7UJ04",
        "outputId": "321f6b8b-faaa-4082-e185-c17cddda4690"
      },
      "execution_count": 73,
      "outputs": [
        {
          "output_type": "stream",
          "name": "stdout",
          "text": [
            "6\n"
          ]
        },
        {
          "output_type": "execute_result",
          "data": {
            "text/plain": [
              "6"
            ]
          },
          "metadata": {},
          "execution_count": 73
        }
      ]
    },
    {
      "cell_type": "code",
      "source": [
        "adicao(10,10)"
      ],
      "metadata": {
        "colab": {
          "base_uri": "https://localhost:8080/"
        },
        "id": "Co4n8aC5UTZ0",
        "outputId": "e58f1faa-34bf-4566-af83-9e4be9d112f4"
      },
      "execution_count": 74,
      "outputs": [
        {
          "output_type": "stream",
          "name": "stdout",
          "text": [
            "20\n"
          ]
        },
        {
          "output_type": "execute_result",
          "data": {
            "text/plain": [
              "20"
            ]
          },
          "metadata": {},
          "execution_count": 74
        }
      ]
    },
    {
      "cell_type": "code",
      "source": [
        "adicao(3,7)"
      ],
      "metadata": {
        "colab": {
          "base_uri": "https://localhost:8080/"
        },
        "id": "qzE8-a6MUXjf",
        "outputId": "d0480cc4-a827-431c-c77e-a970a082f809"
      },
      "execution_count": 75,
      "outputs": [
        {
          "output_type": "stream",
          "name": "stdout",
          "text": [
            "10\n"
          ]
        },
        {
          "output_type": "execute_result",
          "data": {
            "text/plain": [
              "10"
            ]
          },
          "metadata": {},
          "execution_count": 75
        }
      ]
    },
    {
      "cell_type": "code",
      "source": [
        "def subtracao(n1, n2):\n",
        "  res = n1 - n2\n",
        "  return res\n",
        "\n",
        "def multiplicacao(n1, n2):\n",
        "  res = n1 * n2\n",
        "  return res\n",
        "\n",
        "def divisao(n1, n2):\n",
        "  res = n1 / n2\n",
        "  return res"
      ],
      "metadata": {
        "id": "zxn1mqLbVC4f"
      },
      "execution_count": 76,
      "outputs": []
    },
    {
      "cell_type": "code",
      "source": [
        "a, b, c, d = 3, 5, 7, 10"
      ],
      "metadata": {
        "id": "QQA5_r1YVWai"
      },
      "execution_count": 77,
      "outputs": []
    },
    {
      "cell_type": "code",
      "source": [
        "u = adicao(a, b)\n",
        "v = subtracao(d, c)\n",
        "w = multiplicacao(u, v)\n",
        "x = divisao(w, 2)"
      ],
      "metadata": {
        "colab": {
          "base_uri": "https://localhost:8080/"
        },
        "id": "SXX8vBDlVuoQ",
        "outputId": "c39a8a6e-5d16-488f-8189-90bbb9ab54cc"
      },
      "execution_count": 78,
      "outputs": [
        {
          "output_type": "stream",
          "name": "stdout",
          "text": [
            "8\n"
          ]
        }
      ]
    },
    {
      "cell_type": "code",
      "source": [
        "x"
      ],
      "metadata": {
        "colab": {
          "base_uri": "https://localhost:8080/"
        },
        "id": "NL8phf3lV6e5",
        "outputId": "7012c84f-f0f7-4d04-a320-51e0a00568fb"
      },
      "execution_count": 79,
      "outputs": [
        {
          "output_type": "execute_result",
          "data": {
            "text/plain": [
              "12.0"
            ]
          },
          "metadata": {},
          "execution_count": 79
        }
      ]
    },
    {
      "cell_type": "code",
      "source": [
        "divisao(multiplicacao(adicao(a,b), subtracao(d, c) ), 2)"
      ],
      "metadata": {
        "colab": {
          "base_uri": "https://localhost:8080/"
        },
        "id": "n8vYe08pWBmf",
        "outputId": "dfff4260-afc0-4d26-a472-a74c37cbef9e"
      },
      "execution_count": 81,
      "outputs": [
        {
          "output_type": "stream",
          "name": "stdout",
          "text": [
            "8\n"
          ]
        },
        {
          "output_type": "execute_result",
          "data": {
            "text/plain": [
              "12.0"
            ]
          },
          "metadata": {},
          "execution_count": 81
        }
      ]
    },
    {
      "cell_type": "code",
      "source": [
        "# função anônima ou função lambda\n",
        "\n",
        "lambda x: x ** 2"
      ],
      "metadata": {
        "colab": {
          "base_uri": "https://localhost:8080/"
        },
        "id": "BbCrUo1DWW1E",
        "outputId": "58b359e0-adbf-4e31-b0d6-b24d0b828091"
      },
      "execution_count": 82,
      "outputs": [
        {
          "output_type": "execute_result",
          "data": {
            "text/plain": [
              "<function __main__.<lambda>(x)>"
            ]
          },
          "metadata": {},
          "execution_count": 82
        }
      ]
    },
    {
      "cell_type": "code",
      "source": [
        "(lambda x: x ** 2)(2)"
      ],
      "metadata": {
        "colab": {
          "base_uri": "https://localhost:8080/"
        },
        "id": "Z7emfsKKWwVu",
        "outputId": "f403ddd8-2653-4239-b8f8-7c52976f92e8"
      },
      "execution_count": 83,
      "outputs": [
        {
          "output_type": "execute_result",
          "data": {
            "text/plain": [
              "4"
            ]
          },
          "metadata": {},
          "execution_count": 83
        }
      ]
    },
    {
      "cell_type": "code",
      "source": [
        "(lambda x: x ** 3)(2)"
      ],
      "metadata": {
        "colab": {
          "base_uri": "https://localhost:8080/"
        },
        "id": "HVt3Mdt-W77l",
        "outputId": "630771ef-be17-4e2c-caea-4c68fa6d7d14"
      },
      "execution_count": 84,
      "outputs": [
        {
          "output_type": "execute_result",
          "data": {
            "text/plain": [
              "8"
            ]
          },
          "metadata": {},
          "execution_count": 84
        }
      ]
    },
    {
      "cell_type": "code",
      "source": [
        "(lambda x: x ** 4)(2)"
      ],
      "metadata": {
        "colab": {
          "base_uri": "https://localhost:8080/"
        },
        "id": "Tlm1BnMGW-Se",
        "outputId": "1276655c-d25b-48d7-93c1-2cf7be4e3f32"
      },
      "execution_count": 85,
      "outputs": [
        {
          "output_type": "execute_result",
          "data": {
            "text/plain": [
              "16"
            ]
          },
          "metadata": {},
          "execution_count": 85
        }
      ]
    },
    {
      "cell_type": "code",
      "source": [
        "exp2 = lambda x: x**2\n",
        "exp3 = lambda x: x**3\n",
        "exp4 = lambda x: x**4"
      ],
      "metadata": {
        "id": "TiWRfPLBXDx-"
      },
      "execution_count": 86,
      "outputs": []
    },
    {
      "cell_type": "code",
      "source": [
        "print(exp2(2))\n",
        "print(exp3(2))\n",
        "print(exp4(2))"
      ],
      "metadata": {
        "colab": {
          "base_uri": "https://localhost:8080/"
        },
        "id": "P0oEt05GXMuE",
        "outputId": "f19ee906-b578-4c08-ed9f-5ba7fff2f345"
      },
      "execution_count": 88,
      "outputs": [
        {
          "output_type": "stream",
          "name": "stdout",
          "text": [
            "4\n",
            "8\n",
            "16\n"
          ]
        }
      ]
    },
    {
      "cell_type": "code",
      "source": [
        "exp = lambda x,p=2: x ** p"
      ],
      "metadata": {
        "id": "DXKr47YsXZX1"
      },
      "execution_count": 91,
      "outputs": []
    },
    {
      "cell_type": "code",
      "source": [
        "print(exp(2)) #por default, a potência é 2\n",
        "print(exp(2,2))\n",
        "print(exp(2,3))\n",
        "print(exp(2,4))\n",
        "print(exp(5,5))"
      ],
      "metadata": {
        "colab": {
          "base_uri": "https://localhost:8080/"
        },
        "id": "THi2lm7EXnlk",
        "outputId": "a52f0e10-27ee-4d64-96e8-8ee8ceeba214"
      },
      "execution_count": 93,
      "outputs": [
        {
          "output_type": "stream",
          "name": "stdout",
          "text": [
            "4\n",
            "4\n",
            "8\n",
            "16\n",
            "3125\n"
          ]
        }
      ]
    },
    {
      "cell_type": "code",
      "source": [
        "class Vehicle:\n",
        "\n",
        "  def __init__(self, type, model, manufacturer, seat_capacity):\n",
        "    self.type = type\n",
        "    self.model = model\n",
        "    self.manufacturer = manufacturer\n",
        "    self.seat_capacity = seat_capacity"
      ],
      "metadata": {
        "id": "KkIO4bNoYT1Y"
      },
      "execution_count": 94,
      "outputs": []
    },
    {
      "cell_type": "code",
      "source": [
        "myPlane = Vehicle('plane', 'A320', 'Airbus', 180)\n",
        "myCar = Vehicle('car', model='Uno', manufacturer='Fiat', seat_capacity=5)"
      ],
      "metadata": {
        "id": "4UfRwtHJYyPw"
      },
      "execution_count": 95,
      "outputs": []
    },
    {
      "cell_type": "code",
      "source": [
        "print(myPlane.type)\n",
        "print(myPlane.manufacturer)\n",
        "print(myPlane.model)\n",
        "print(myPlane.seat_capacity)"
      ],
      "metadata": {
        "colab": {
          "base_uri": "https://localhost:8080/"
        },
        "id": "TtHIJe58ZZLl",
        "outputId": "12adac7a-7432-4865-fb5f-7ce9e0ea1ba5"
      },
      "execution_count": 98,
      "outputs": [
        {
          "output_type": "stream",
          "name": "stdout",
          "text": [
            "plane\n",
            "Airbus\n",
            "A320\n",
            "180\n"
          ]
        }
      ]
    },
    {
      "cell_type": "code",
      "source": [
        "print(myCar.type)\n",
        "print(myCar.manufacturer)\n",
        "print(myCar.model)\n",
        "print(myCar.seat_capacity)"
      ],
      "metadata": {
        "colab": {
          "base_uri": "https://localhost:8080/"
        },
        "id": "3yZBMb6xZsUS",
        "outputId": "8462f684-3ea3-4601-cce8-93855b784c83"
      },
      "execution_count": 99,
      "outputs": [
        {
          "output_type": "stream",
          "name": "stdout",
          "text": [
            "car\n",
            "Fiat\n",
            "Uno\n",
            "5\n"
          ]
        }
      ]
    },
    {
      "cell_type": "code",
      "source": [
        "myPlane.model = 'a321'"
      ],
      "metadata": {
        "id": "QQhVrKVlZ8IA"
      },
      "execution_count": 100,
      "outputs": []
    },
    {
      "cell_type": "code",
      "source": [
        "myPlane.model"
      ],
      "metadata": {
        "colab": {
          "base_uri": "https://localhost:8080/",
          "height": 35
        },
        "id": "TeSVrqV0aAsJ",
        "outputId": "90545bbe-33cc-4f30-8b15-a88c1b284eec"
      },
      "execution_count": 101,
      "outputs": [
        {
          "output_type": "execute_result",
          "data": {
            "text/plain": [
              "'a321'"
            ],
            "application/vnd.google.colaboratory.intrinsic+json": {
              "type": "string"
            }
          },
          "metadata": {},
          "execution_count": 101
        }
      ]
    },
    {
      "cell_type": "code",
      "source": [
        "class Vehicle:\n",
        "\n",
        "  def __init__(self, type, model, manufacturer, seat_capacity):\n",
        "    self.type = type\n",
        "    self.model = model\n",
        "    self.manufacturer = manufacturer\n",
        "    self.seat_capacity = seat_capacity\n",
        "  \n",
        "  #Getter methods\n",
        "\n",
        "  def getModel(self):\n",
        "    return f'{self.manufacturer} {self.model}'\n",
        "  \n",
        "  def getSeatCapacity(self):\n",
        "    return self.seat_capacity\n"
      ],
      "metadata": {
        "id": "jR_RDNhCaPRD"
      },
      "execution_count": 102,
      "outputs": []
    },
    {
      "cell_type": "code",
      "source": [
        "myPlane = Vehicle('plane', 'A320', 'Airbus', 180)\n",
        "myCar = Vehicle('car', model='Uno', manufacturer='Fiat', seat_capacity=5)"
      ],
      "metadata": {
        "id": "rTXJTknka031"
      },
      "execution_count": 103,
      "outputs": []
    },
    {
      "cell_type": "code",
      "source": [
        "print(myPlane.getModel())\n",
        "print(f'Cabem {myPlane.getSeatCapacity()} passageiros no {myPlane.getModel()}')"
      ],
      "metadata": {
        "colab": {
          "base_uri": "https://localhost:8080/"
        },
        "id": "Xu82fnbha7e3",
        "outputId": "4b40ef1f-d31d-4f11-c41d-215edb7d4d75"
      },
      "execution_count": 104,
      "outputs": [
        {
          "output_type": "stream",
          "name": "stdout",
          "text": [
            "Airbus A320\n",
            "Cabem 180 passageiros no Airbus A320\n"
          ]
        }
      ]
    },
    {
      "cell_type": "code",
      "source": [
        "print(myCar.getModel())\n",
        "print(f'Cabem {myCar.getSeatCapacity()} passageiros no {myCar.getModel()}')"
      ],
      "metadata": {
        "colab": {
          "base_uri": "https://localhost:8080/"
        },
        "id": "XYFakT6SbN92",
        "outputId": "54536db0-795e-4c1d-a83b-7f0398ae3e4c"
      },
      "execution_count": 107,
      "outputs": [
        {
          "output_type": "stream",
          "name": "stdout",
          "text": [
            "Fiat Uno\n",
            "Cabem 5 passageiros no Fiat Uno\n"
          ]
        }
      ]
    },
    {
      "cell_type": "code",
      "source": [
        "class Vehicle:\n",
        "\n",
        "  def __init__(self, type, model, manufacturer, seat_capacity):\n",
        "    self.type = type\n",
        "    self.model = model\n",
        "    self.manufacturer = manufacturer\n",
        "    self.seat_capacity = seat_capacity\n",
        "    \n",
        "    self.n_passengers_onboard = 0\n",
        "  \n",
        "  #Getter methods\n",
        "\n",
        "  def getModel(self):\n",
        "    return f'{self.manufacturer} {self.model}'\n",
        "  \n",
        "  def getSeatCapacity(self):\n",
        "    return self.seat_capacity\n",
        "\n",
        "  def getNumPassangersOnboard(self):\n",
        "    return self.n_passengers_onboard\n",
        "\n",
        "  def getNumSeatsAvailable(self):\n",
        "    return self.seat_capacity - self.n_passengers_onboard\n",
        "\n",
        "  # Setter Methods\n",
        "\n",
        "  def removeAllPassengers(self):\n",
        "    self.n_passengers_onboard = 0\n",
        "  \n",
        "  def embarkPassengers(self, n_passengers_to_embark):\n",
        "    \n",
        "    available_seats = self.getNumSeatsAvailable()\n",
        "\n",
        "    if available_seats >= n_passengers_to_embark:\n",
        "      self.n_passengers_onboard += n_passengers_to_embark\n",
        "      return f'Mais {n_passengers_to_embark} passageiros embarcados com sucesso!.'\n",
        "    \n",
        "    else:\n",
        "      return f'Impossível embarcar mais {n_passengers_to_embark} passageiros! Apenas {available_seats} disponíveis.'\n",
        "    \n",
        "  def removePassengers(self, n_passengers_to_remove):\n",
        "\n",
        "    if n_passengers_to_remove <= self.n_passengers_onboard:\n",
        "      self.n_passengers_onboard -= n_passengers_to_remove\n",
        "      return f'Desembarcaram {n_passengers_remaining} embarcados! Todos desembarcaram.'\n",
        "    \n",
        "    elif self.n_passengers_onboard > 0:\n",
        "      n_passengers_remaining = self.n_passengers_onboard\n",
        "      self.removeAllPassengers()\n",
        "      return f\"Havia apenas {n_passengers_remaining} embarcados! Todos desembarcaram!\"\n",
        "\n",
        "    else:\n",
        "      return 'Nenhum passageiro a bordo'\n",
        "      return self.seat_capacity - self.n_passengers_onboard\n"
      ],
      "metadata": {
        "id": "gBHDdI1ybsav"
      },
      "execution_count": 19,
      "outputs": []
    },
    {
      "cell_type": "code",
      "source": [
        "myPlane = Vehicle('plane', 'A320', 'Airbus', 180)\n",
        "myCar = Vehicle('car', model='Uno', manufacturer='Fiat', seat_capacity=5)"
      ],
      "metadata": {
        "id": "N8HIxejZe-Aa"
      },
      "execution_count": 119,
      "outputs": []
    },
    {
      "cell_type": "code",
      "source": [
        "#no avião\n",
        "\n",
        "print(myPlane.embarkPassengers(50))\n",
        "print(f'{myPlane.getNumPassangersOnboard()} passageiros a bordo')\n",
        "print(f'{myPlane.getNumSeatsAvailable()} assentos disponívels')"
      ],
      "metadata": {
        "colab": {
          "base_uri": "https://localhost:8080/"
        },
        "id": "O1xSo0XTe_a9",
        "outputId": "13689534-1535-42c3-f812-da7e5a626b7f"
      },
      "execution_count": 121,
      "outputs": [
        {
          "output_type": "stream",
          "name": "stdout",
          "text": [
            "Mais 50 passageiros embarcados coms ucesso!.\n",
            "100 passageiros a bordo\n",
            "80 assentos disponívels\n"
          ]
        }
      ]
    },
    {
      "cell_type": "code",
      "source": [
        "#no carro\n",
        "\n",
        "print(myCar.embarkPassengers(5))\n",
        "print(f'{myCar.getNumPassangersOnboard()} passageiros a bordo')\n",
        "print(f'{myCar.getNumSeatsAvailable()} assentos disponívels')"
      ],
      "metadata": {
        "colab": {
          "base_uri": "https://localhost:8080/"
        },
        "id": "6tWi45MkgWqH",
        "outputId": "cae7f182-2de1-42c2-aba5-c6a94ba0359e"
      },
      "execution_count": 123,
      "outputs": [
        {
          "output_type": "stream",
          "name": "stdout",
          "text": [
            "Impossível embarcar mais 5 passageiros! Apenas 0 disponíveis.\n",
            "5 passageiros a bordo\n",
            "0 assentos disponívels\n"
          ]
        }
      ]
    },
    {
      "cell_type": "code",
      "source": [
        "print(myCar.removePassengers(5))\n",
        "print(f'{myCar.getNumPassangersOnboard()} passageiros a bordo')\n",
        "print(f'{myCar.getNumSeatsAvailable()} assentos disponívels')"
      ],
      "metadata": {
        "colab": {
          "base_uri": "https://localhost:8080/"
        },
        "id": "z6obq8y0ijoX",
        "outputId": "013ed56c-df52-4b8c-a261-6118b1e55c82"
      },
      "execution_count": 128,
      "outputs": [
        {
          "output_type": "stream",
          "name": "stdout",
          "text": [
            "Nenhum passageiro a bordo\n",
            "0 passageiros a bordo\n",
            "5 assentos disponívels\n"
          ]
        }
      ]
    },
    {
      "cell_type": "code",
      "source": [
        "class Airplane(Vehicle):\n",
        "  \n",
        "  def __init__(self, model, manufacturer, airline, seat_capacity):\n",
        "    super().__init__(type='plane', model = model, manufacturer = manufacturer,\n",
        "                     seat_capacity = seat_capacity)\n",
        "    self.airline = airline\n",
        "  \n",
        "  def takeoff(self):\n",
        "    print(f'O {self.getModel()} da {self.airline} está decolando com ' +\n",
        "          f'{self.getNumPassangersOnboard()} passageiros')\n"
      ],
      "metadata": {
        "id": "A4j3sl6Tny7A"
      },
      "execution_count": 16,
      "outputs": []
    },
    {
      "cell_type": "code",
      "source": [
        "class Car(Vehicle):\n",
        "\n",
        "  def __init__(self, model, manufacturer, seat_capacity):\n",
        "    super().__init__(type = 'car', model = model, manufacturer = manufacturer,\n",
        "                     seat_capacity = seat_capacity)\n",
        "  \n",
        "  def embarkPassengers(self, n_passengers_to_embark, name_driver):\n",
        "    \n",
        "    available_seats = self.getNumSeatsAvailable()\n",
        "    self.name_driver = name_driver\n",
        "\n",
        "    if available_seats >= n_passengers_to_embark:\n",
        "      self.n_passengers_onboard += n_passengers_to_embark\n",
        "      return f'Mais {n_passengers_to_embark} passageiros embarcados com sucesso!'\n",
        "    \n",
        "    else:\n",
        "      return f'Impossível embarcar mais {n_passengers_to_embark} passageiros ! Apenas  {available_seats} assentos disponíveis!'\n",
        "    \n",
        "  def drive(self):\n",
        "    \n",
        "    if self.getNumPassangersOnboard() > 0:\n",
        "      print(f'O {self.getModel()}, conduzido por {self.name_driver}, está na '   +\n",
        "            f'estrada com {self.getNumPassangersOnboard()} passageiros')\n",
        "    \n",
        "    else:\n",
        "      print('Um carro não pode operar sem motorista!')"
      ],
      "metadata": {
        "id": "-NA__A4EpWul"
      },
      "execution_count": 11,
      "outputs": []
    },
    {
      "cell_type": "code",
      "source": [
        "latamPlane = Airplane('A320', 'Airbus', 'Latam', 180)"
      ],
      "metadata": {
        "id": "BELed3yDslz4"
      },
      "execution_count": 17,
      "outputs": []
    },
    {
      "cell_type": "code",
      "source": [
        "print(latamPlane.embarkPassengers(130))\n",
        "latamPlane.takeoff()"
      ],
      "metadata": {
        "colab": {
          "base_uri": "https://localhost:8080/"
        },
        "id": "UjzE8K9GuE4h",
        "outputId": "d9c4892c-115f-405a-d219-f350dd3a083f"
      },
      "execution_count": 23,
      "outputs": [
        {
          "output_type": "stream",
          "name": "stdout",
          "text": [
            "Impossível embarcar mais 130 passageiros! Apenas 50 disponíveis.\n",
            "O Airbus A320 da Latam está decolando com 130 passageiros\n"
          ]
        }
      ]
    },
    {
      "cell_type": "code",
      "source": [
        "azulPlane = Airplane('ER3190', 'Embraer', 'Azul', 100)"
      ],
      "metadata": {
        "id": "slkQquKwuX5f"
      },
      "execution_count": 21,
      "outputs": []
    },
    {
      "cell_type": "code",
      "source": [
        "print(azulPlane.embarkPassengers(70))\n",
        "azulPlane.takeoff()"
      ],
      "metadata": {
        "colab": {
          "base_uri": "https://localhost:8080/"
        },
        "id": "7RvI3qL8uhe2",
        "outputId": "297f9560-29f5-44b2-e11e-a61d62741ea4"
      },
      "execution_count": 22,
      "outputs": [
        {
          "output_type": "stream",
          "name": "stdout",
          "text": [
            "Mais 70 passageiros embarcados coms ucesso!.\n",
            "O Embraer ER3190 da Azul está decolando com 70 passageiros\n"
          ]
        }
      ]
    },
    {
      "cell_type": "code",
      "source": [
        "myCar = Car('Uno', 'Fiat', 5)"
      ],
      "metadata": {
        "id": "3zhIWOw4vRsY"
      },
      "execution_count": 24,
      "outputs": []
    },
    {
      "cell_type": "code",
      "source": [
        "print(myCar.embarkPassengers(3, name_driver = 'Sergio'))\n",
        "myCar.drive()"
      ],
      "metadata": {
        "colab": {
          "base_uri": "https://localhost:8080/"
        },
        "id": "CrKHY5I-vWsj",
        "outputId": "ce6bf2af-f17c-4636-b459-b5fdb3fc73aa"
      },
      "execution_count": 25,
      "outputs": [
        {
          "output_type": "stream",
          "name": "stdout",
          "text": [
            "Mais 3 passageiros embarcados com sucesso!\n",
            "O Fiat Uno, conduzido por Sergio, está na estrada com 3 passageiros\n"
          ]
        }
      ]
    }
  ]
}
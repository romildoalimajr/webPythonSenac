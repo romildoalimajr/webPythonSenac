{
  "nbformat": 4,
  "nbformat_minor": 0,
  "metadata": {
    "colab": {
      "provenance": [],
      "authorship_tag": "ABX9TyOStgIfnSMOkGU/9pfHSBxf",
      "include_colab_link": true
    },
    "kernelspec": {
      "name": "python3",
      "display_name": "Python 3"
    },
    "language_info": {
      "name": "python"
    }
  },
  "cells": [
    {
      "cell_type": "markdown",
      "metadata": {
        "id": "view-in-github",
        "colab_type": "text"
      },
      "source": [
        "<a href=\"https://colab.research.google.com/github/romildoalimajr/webPythonSenac/blob/main/aula03Romildo.ipynb\" target=\"_parent\"><img src=\"https://colab.research.google.com/assets/colab-badge.svg\" alt=\"Open In Colab\"/></a>"
      ]
    },
    {
      "cell_type": "code",
      "execution_count": 2,
      "metadata": {
        "id": "SShLMkbawIM2"
      },
      "outputs": [],
      "source": [
        "dias = [1,2,3]"
      ]
    },
    {
      "cell_type": "code",
      "source": [
        "print(dias[0])\n",
        "print(dias[1])\n",
        "print(dias[2])"
      ],
      "metadata": {
        "colab": {
          "base_uri": "https://localhost:8080/"
        },
        "id": "gvDZc5Pw4P3J",
        "outputId": "ca31f4da-f50a-4a9e-ffc8-43acd2ffafab"
      },
      "execution_count": 4,
      "outputs": [
        {
          "output_type": "stream",
          "name": "stdout",
          "text": [
            "1\n",
            "2\n",
            "3\n"
          ]
        }
      ]
    },
    {
      "cell_type": "code",
      "source": [
        "z = [3,8,9]\n",
        "print(z)\n",
        "z[0] = 7\n",
        "z"
      ],
      "metadata": {
        "colab": {
          "base_uri": "https://localhost:8080/"
        },
        "id": "2JUiEc7V4pqh",
        "outputId": "19240b96-287f-4ae7-da4c-4aeb18137520"
      },
      "execution_count": 8,
      "outputs": [
        {
          "output_type": "stream",
          "name": "stdout",
          "text": [
            "[3, 8, 9]\n"
          ]
        },
        {
          "output_type": "execute_result",
          "data": {
            "text/plain": [
              "[7, 8, 9]"
            ]
          },
          "metadata": {},
          "execution_count": 8
        }
      ]
    },
    {
      "cell_type": "code",
      "source": [
        "a = [81, 82, 83]"
      ],
      "metadata": {
        "id": "RJJVzHnV4_Q5"
      },
      "execution_count": 28,
      "outputs": []
    },
    {
      "cell_type": "code",
      "source": [
        "b = a[:]"
      ],
      "metadata": {
        "id": "yQf1YBlb5cVA"
      },
      "execution_count": 10,
      "outputs": []
    },
    {
      "cell_type": "code",
      "source": [
        "print (a == b)"
      ],
      "metadata": {
        "colab": {
          "base_uri": "https://localhost:8080/"
        },
        "id": "n62T9v1c5gUY",
        "outputId": "154868c3-de1b-47f1-9c35-119a1fe0eb0d"
      },
      "execution_count": 26,
      "outputs": [
        {
          "output_type": "stream",
          "name": "stdout",
          "text": [
            "False\n"
          ]
        }
      ]
    },
    {
      "cell_type": "code",
      "source": [
        "print(a is b)"
      ],
      "metadata": {
        "colab": {
          "base_uri": "https://localhost:8080/"
        },
        "id": "Y3B5VpFL5ljZ",
        "outputId": "369c5224-fa8a-4501-9dfa-2ba81c488a69"
      },
      "execution_count": 12,
      "outputs": [
        {
          "output_type": "stream",
          "name": "stdout",
          "text": [
            "False\n"
          ]
        }
      ]
    },
    {
      "cell_type": "code",
      "source": [
        "b[0] = 5"
      ],
      "metadata": {
        "id": "8jDk6dnM5p0R"
      },
      "execution_count": 13,
      "outputs": []
    },
    {
      "cell_type": "code",
      "source": [
        "print(a)"
      ],
      "metadata": {
        "colab": {
          "base_uri": "https://localhost:8080/"
        },
        "id": "0SIdgZag5ulB",
        "outputId": "41faa318-32b2-4a50-a504-7ba889fa3d30"
      },
      "execution_count": 18,
      "outputs": [
        {
          "output_type": "stream",
          "name": "stdout",
          "text": [
            "[81, 82, 83]\n"
          ]
        }
      ]
    },
    {
      "cell_type": "code",
      "source": [
        "print(b)"
      ],
      "metadata": {
        "colab": {
          "base_uri": "https://localhost:8080/"
        },
        "id": "4N3DcK7v5zIK",
        "outputId": "3dfaed6a-4c67-428b-e10b-77327295923b"
      },
      "execution_count": 19,
      "outputs": [
        {
          "output_type": "stream",
          "name": "stdout",
          "text": [
            "[5, 82, 83]\n"
          ]
        }
      ]
    },
    {
      "cell_type": "code",
      "source": [
        "uma_lista = [\"a\", \"b\", \"c\", \"d\", \"e\", \"f\"]"
      ],
      "metadata": {
        "id": "XnlhMg3e6BlK"
      },
      "execution_count": 27,
      "outputs": []
    },
    {
      "cell_type": "code",
      "source": [
        "print(uma_lista[1:3])"
      ],
      "metadata": {
        "colab": {
          "base_uri": "https://localhost:8080/"
        },
        "id": "Do8hwRIw6Rt6",
        "outputId": "e23f8b81-a815-4594-f9ea-299e7e86570c"
      },
      "execution_count": 22,
      "outputs": [
        {
          "output_type": "stream",
          "name": "stdout",
          "text": [
            "['b', 'c']\n"
          ]
        }
      ]
    },
    {
      "cell_type": "code",
      "source": [
        "print(uma_lista[:4])"
      ],
      "metadata": {
        "colab": {
          "base_uri": "https://localhost:8080/"
        },
        "id": "NtiiDZH_6YPx",
        "outputId": "2cf8d4a5-e7f3-4e39-cd00-1c1894ebb616"
      },
      "execution_count": 23,
      "outputs": [
        {
          "output_type": "stream",
          "name": "stdout",
          "text": [
            "['a', 'b', 'c', 'd']\n"
          ]
        }
      ]
    },
    {
      "cell_type": "code",
      "source": [
        "print(uma_lista[3:])"
      ],
      "metadata": {
        "colab": {
          "base_uri": "https://localhost:8080/"
        },
        "id": "18DHTQ5N6d8S",
        "outputId": "a0cca7ac-6ca7-4e7c-af98-3c79f99694bb"
      },
      "execution_count": 24,
      "outputs": [
        {
          "output_type": "stream",
          "name": "stdout",
          "text": [
            "['d', 'e', 'f']\n"
          ]
        }
      ]
    },
    {
      "cell_type": "code",
      "source": [
        "print(uma_lista[:])"
      ],
      "metadata": {
        "colab": {
          "base_uri": "https://localhost:8080/"
        },
        "id": "25YL8uhw6l2B",
        "outputId": "2a40067d-0bcb-4d5b-d9f0-ffc6ca6e651c"
      },
      "execution_count": 25,
      "outputs": [
        {
          "output_type": "stream",
          "name": "stdout",
          "text": [
            "['a', 'b', 'c', 'd', 'e', 'f']\n"
          ]
        }
      ]
    },
    {
      "cell_type": "code",
      "source": [
        "a = [1, 2, 3]"
      ],
      "metadata": {
        "id": "6TP8u1wN7hXy"
      },
      "execution_count": 29,
      "outputs": []
    },
    {
      "cell_type": "code",
      "source": [
        "b = a[:]"
      ],
      "metadata": {
        "id": "78G7bb7k7kGB"
      },
      "execution_count": 30,
      "outputs": []
    },
    {
      "cell_type": "code",
      "source": [
        "b[0] = 5"
      ],
      "metadata": {
        "id": "o37DFtN07ncB"
      },
      "execution_count": 31,
      "outputs": []
    },
    {
      "cell_type": "code",
      "source": [
        "print(a[2])"
      ],
      "metadata": {
        "colab": {
          "base_uri": "https://localhost:8080/"
        },
        "id": "Cjh_Ex0u7pXh",
        "outputId": "661d59e4-dd16-482a-9e2e-5efef75305f6"
      },
      "execution_count": 121,
      "outputs": [
        {
          "output_type": "stream",
          "name": "stdout",
          "text": [
            "3\n"
          ]
        }
      ]
    },
    {
      "cell_type": "code",
      "source": [
        "minhaLista = [76, 92.3, \"oi\", True, 4, 76]\n",
        "minhaLista"
      ],
      "metadata": {
        "colab": {
          "base_uri": "https://localhost:8080/"
        },
        "id": "JdrD4pOl78I5",
        "outputId": "64b51ae6-e4a9-4e6e-93ab-1530e876624f"
      },
      "execution_count": 59,
      "outputs": [
        {
          "output_type": "execute_result",
          "data": {
            "text/plain": [
              "[76, 92.3, 'oi', True, 4, 76]"
            ]
          },
          "metadata": {},
          "execution_count": 59
        }
      ]
    },
    {
      "cell_type": "code",
      "source": [
        "minhaLista[5] = \"pitomba\"\n",
        "minhaLista"
      ],
      "metadata": {
        "colab": {
          "base_uri": "https://localhost:8080/"
        },
        "id": "PBWI0rmY8IPJ",
        "outputId": "139f46f3-ed86-4952-f4cb-674a1fe36e21"
      },
      "execution_count": 58,
      "outputs": [
        {
          "output_type": "execute_result",
          "data": {
            "text/plain": [
              "[76, 92.3, 'oi', True, 4, 'pitomba']"
            ]
          },
          "metadata": {},
          "execution_count": 58
        }
      ]
    },
    {
      "cell_type": "code",
      "source": [
        "minhaLista[5] = 76\n",
        "minhaLista"
      ],
      "metadata": {
        "colab": {
          "base_uri": "https://localhost:8080/"
        },
        "id": "KQ7N2uOy-UDa",
        "outputId": "5be258e9-de00-4b63-c5a5-a9aac866d33e"
      },
      "execution_count": 60,
      "outputs": [
        {
          "output_type": "execute_result",
          "data": {
            "text/plain": [
              "[76, 92.3, 'oi', True, 4, 76]"
            ]
          },
          "metadata": {},
          "execution_count": 60
        }
      ]
    },
    {
      "cell_type": "code",
      "source": [
        "minhaLista[3] = \"Cibele\"\n",
        "minhaLista"
      ],
      "metadata": {
        "colab": {
          "base_uri": "https://localhost:8080/"
        },
        "id": "QF-TlS7J8wCz",
        "outputId": "a3243277-c3f0-402b-fb3b-682a7db96d32"
      },
      "execution_count": 61,
      "outputs": [
        {
          "output_type": "execute_result",
          "data": {
            "text/plain": [
              "[76, 92.3, 'oi', 'Cibele', 4, 76]"
            ]
          },
          "metadata": {},
          "execution_count": 61
        }
      ]
    },
    {
      "cell_type": "code",
      "source": [
        "minhaLista[0] = 99\n",
        "minhaLista"
      ],
      "metadata": {
        "colab": {
          "base_uri": "https://localhost:8080/"
        },
        "id": "b9VYGcFC9sKZ",
        "outputId": "25707e0b-5bc0-4ee1-f06f-4a49f425c784"
      },
      "execution_count": 62,
      "outputs": [
        {
          "output_type": "execute_result",
          "data": {
            "text/plain": [
              "[99, 92.3, 'oi', 'Cibele', 4, 76]"
            ]
          },
          "metadata": {},
          "execution_count": 62
        }
      ]
    },
    {
      "cell_type": "code",
      "source": [
        "# encontrar o indice de oi"
      ],
      "metadata": {
        "id": "T4ge1-uK93pK"
      },
      "execution_count": 70,
      "outputs": []
    },
    {
      "cell_type": "code",
      "source": [
        "#remover True da lista\n",
        "minhaLista\n",
        "del minhaLista[True]\n",
        "minhaLista"
      ],
      "metadata": {
        "colab": {
          "base_uri": "https://localhost:8080/"
        },
        "id": "bahUx-en-AdK",
        "outputId": "93ff2c8c-557d-44bc-940d-3d2a60641d2d"
      },
      "execution_count": 109,
      "outputs": [
        {
          "output_type": "execute_result",
          "data": {
            "text/plain": [
              "[99, 'Cibele', 4, 76]"
            ]
          },
          "metadata": {},
          "execution_count": 109
        }
      ]
    },
    {
      "cell_type": "code",
      "source": [
        "uma_lista = [3, 4, 8, 6, 5]\n",
        "uma_lista"
      ],
      "metadata": {
        "colab": {
          "base_uri": "https://localhost:8080/"
        },
        "id": "Ii_pPS4L-qty",
        "outputId": "bb853de0-ed0c-46b3-8879-7aa466259d58"
      },
      "execution_count": 67,
      "outputs": [
        {
          "output_type": "execute_result",
          "data": {
            "text/plain": [
              "[3, 4, 8, 6, 5]"
            ]
          },
          "metadata": {},
          "execution_count": 67
        }
      ]
    },
    {
      "cell_type": "code",
      "source": [
        "uma_lista = uma_lista + [\"Cibele\"]\n",
        "uma_lista"
      ],
      "metadata": {
        "colab": {
          "base_uri": "https://localhost:8080/"
        },
        "id": "2Zos6LnZ-vs5",
        "outputId": "83f2668f-55f3-4c97-b16b-0585dc2eae1a"
      },
      "execution_count": 68,
      "outputs": [
        {
          "output_type": "execute_result",
          "data": {
            "text/plain": [
              "[3, 4, 8, 6, 5, 'Cibele']"
            ]
          },
          "metadata": {},
          "execution_count": 68
        }
      ]
    },
    {
      "cell_type": "code",
      "source": [
        "print(uma_lista)"
      ],
      "metadata": {
        "colab": {
          "base_uri": "https://localhost:8080/"
        },
        "id": "6Cum51eY-7lJ",
        "outputId": "99e687a2-2719-4ebc-ea11-f2abfde97e48"
      },
      "execution_count": 66,
      "outputs": [
        {
          "output_type": "stream",
          "name": "stdout",
          "text": [
            "[3, 4, 8, 6, 5, 'Cibele']\n"
          ]
        }
      ]
    },
    {
      "cell_type": "code",
      "source": [
        "tupla_numeros = (10,20,30)\n",
        "tupla_numeros"
      ],
      "metadata": {
        "colab": {
          "base_uri": "https://localhost:8080/"
        },
        "id": "LYl8uIho_2Jq",
        "outputId": "eef14465-b57c-48b5-edcd-2b418da1c383"
      },
      "execution_count": 72,
      "outputs": [
        {
          "output_type": "execute_result",
          "data": {
            "text/plain": [
              "(10, 20, 30)"
            ]
          },
          "metadata": {},
          "execution_count": 72
        }
      ]
    },
    {
      "cell_type": "code",
      "source": [
        "tupla_nova = 10,20,30\n",
        "tupla_nova"
      ],
      "metadata": {
        "colab": {
          "base_uri": "https://localhost:8080/"
        },
        "id": "mkP_7f5yAVe5",
        "outputId": "a7f19f71-bb0c-4791-ed0d-000fa115c77e"
      },
      "execution_count": 73,
      "outputs": [
        {
          "output_type": "execute_result",
          "data": {
            "text/plain": [
              "(10, 20, 30)"
            ]
          },
          "metadata": {},
          "execution_count": 73
        }
      ]
    },
    {
      "cell_type": "code",
      "source": [
        "tupla_elemento = 10, \"teste\",\n",
        "tupla_elemento"
      ],
      "metadata": {
        "colab": {
          "base_uri": "https://localhost:8080/"
        },
        "id": "5R8d1Wv7Av2K",
        "outputId": "5e4fc222-9d60-419a-aaed-93d0480a56ab"
      },
      "execution_count": 76,
      "outputs": [
        {
          "output_type": "execute_result",
          "data": {
            "text/plain": [
              "(10, 'teste')"
            ]
          },
          "metadata": {},
          "execution_count": 76
        }
      ]
    },
    {
      "cell_type": "code",
      "source": [
        "tupla_vazia = ()\n",
        "tupla_vazia"
      ],
      "metadata": {
        "colab": {
          "base_uri": "https://localhost:8080/"
        },
        "id": "-kJJ4OOuA_R6",
        "outputId": "c1c325bb-710a-4ddd-848e-628371c5c831"
      },
      "execution_count": 77,
      "outputs": [
        {
          "output_type": "execute_result",
          "data": {
            "text/plain": [
              "()"
            ]
          },
          "metadata": {},
          "execution_count": 77
        }
      ]
    },
    {
      "cell_type": "code",
      "source": [
        "#funcao TUPLA\n",
        "\n",
        "nova_tupla = tuple(\"Teste\")\n",
        "nova_tupla"
      ],
      "metadata": {
        "colab": {
          "base_uri": "https://localhost:8080/"
        },
        "id": "Np-TK3opBFjC",
        "outputId": "39638be7-cf19-4ed6-d30c-7f8f4db25378"
      },
      "execution_count": 81,
      "outputs": [
        {
          "output_type": "execute_result",
          "data": {
            "text/plain": [
              "('T', 'e', 's', 't', 'e')"
            ]
          },
          "metadata": {},
          "execution_count": 81
        }
      ]
    },
    {
      "cell_type": "code",
      "source": [
        "tupla_nomes = ('Marlene', 'Zezinho', 'Marlene', 'Cibele', 'Suely')\n",
        "tupla_nomes"
      ],
      "metadata": {
        "colab": {
          "base_uri": "https://localhost:8080/"
        },
        "id": "DOLrtUXRBb2q",
        "outputId": "5066dd67-fd1c-492b-a1a7-38cda188d39d"
      },
      "execution_count": 87,
      "outputs": [
        {
          "output_type": "execute_result",
          "data": {
            "text/plain": [
              "('Marlene', 'Zezinho', 'Marlene', 'Cibele', 'Suely')"
            ]
          },
          "metadata": {},
          "execution_count": 87
        }
      ]
    },
    {
      "cell_type": "code",
      "source": [
        "tupla_nomes.count('Marlene')"
      ],
      "metadata": {
        "colab": {
          "base_uri": "https://localhost:8080/"
        },
        "id": "kVycBFJbBsOp",
        "outputId": "7e1c64c4-f77b-494c-8b14-696f8ec42787"
      },
      "execution_count": 88,
      "outputs": [
        {
          "output_type": "execute_result",
          "data": {
            "text/plain": [
              "2"
            ]
          },
          "metadata": {},
          "execution_count": 88
        }
      ]
    },
    {
      "cell_type": "code",
      "source": [
        "print(tupla_nomes.count('Suely'))"
      ],
      "metadata": {
        "colab": {
          "base_uri": "https://localhost:8080/"
        },
        "id": "tNS3nIwZCDca",
        "outputId": "d0348765-a530-4313-8d7e-4817ddb6bd06"
      },
      "execution_count": 89,
      "outputs": [
        {
          "output_type": "stream",
          "name": "stdout",
          "text": [
            "1\n"
          ]
        }
      ]
    },
    {
      "cell_type": "code",
      "source": [
        "print(tupla_nomes.count('Zezinho'))"
      ],
      "metadata": {
        "colab": {
          "base_uri": "https://localhost:8080/"
        },
        "id": "dGwedEEUBlMP",
        "outputId": "ec4c15d0-0ff0-450f-f15f-0d7cebfbf582"
      },
      "execution_count": 86,
      "outputs": [
        {
          "output_type": "stream",
          "name": "stdout",
          "text": [
            "1\n"
          ]
        }
      ]
    },
    {
      "cell_type": "code",
      "source": [
        "tupla_pratica = (1, 2, 2, 3, 4, 4, 4, 5)\n",
        "tupla_pratica"
      ],
      "metadata": {
        "colab": {
          "base_uri": "https://localhost:8080/"
        },
        "id": "_CAyk07pCWVx",
        "outputId": "09d0cd41-ff1a-46a6-cd10-6fdf71a10469"
      },
      "execution_count": 90,
      "outputs": [
        {
          "output_type": "execute_result",
          "data": {
            "text/plain": [
              "(1, 2, 2, 3, 4, 4, 4, 5)"
            ]
          },
          "metadata": {},
          "execution_count": 90
        }
      ]
    },
    {
      "cell_type": "code",
      "source": [
        "print(tupla_pratica.count(4))"
      ],
      "metadata": {
        "colab": {
          "base_uri": "https://localhost:8080/"
        },
        "id": "CXxhrfodClS7",
        "outputId": "bdb00a9d-fb23-4b55-84ea-2ce913787596"
      },
      "execution_count": 91,
      "outputs": [
        {
          "output_type": "stream",
          "name": "stdout",
          "text": [
            "3\n"
          ]
        }
      ]
    },
    {
      "cell_type": "code",
      "source": [
        "print(tupla_pratica.count(2))"
      ],
      "metadata": {
        "colab": {
          "base_uri": "https://localhost:8080/"
        },
        "id": "hN9dXCQWDAFh",
        "outputId": "865caaee-ce4a-46a5-9ff1-257f3cf12026"
      },
      "execution_count": 92,
      "outputs": [
        {
          "output_type": "stream",
          "name": "stdout",
          "text": [
            "2\n"
          ]
        }
      ]
    },
    {
      "cell_type": "code",
      "source": [
        "#criando um dicionario\n",
        "\n",
        "dicio = {'chave' : 'valor'}\n",
        "print(type(dicio))"
      ],
      "metadata": {
        "colab": {
          "base_uri": "https://localhost:8080/"
        },
        "id": "0XT-fcL1DqHx",
        "outputId": "5bedeaf8-90b8-4bea-eb32-b1e6e392db13"
      },
      "execution_count": 93,
      "outputs": [
        {
          "output_type": "stream",
          "name": "stdout",
          "text": [
            "<class 'dict'>\n"
          ]
        }
      ]
    },
    {
      "cell_type": "code",
      "source": [
        "d = {'laranjas' : 15, 'bananas' : 35, 'siriguelas' : 12}\n",
        "d"
      ],
      "metadata": {
        "colab": {
          "base_uri": "https://localhost:8080/"
        },
        "id": "qKL5bYRJD7Gq",
        "outputId": "151022d4-5d3c-46f0-e4f6-e569a86de98e"
      },
      "execution_count": 95,
      "outputs": [
        {
          "output_type": "execute_result",
          "data": {
            "text/plain": [
              "{'laranjas': 15, 'bananas': 35, 'siriguelas': 12}"
            ]
          },
          "metadata": {},
          "execution_count": 95
        }
      ]
    },
    {
      "cell_type": "code",
      "source": [
        "d['bananas']"
      ],
      "metadata": {
        "colab": {
          "base_uri": "https://localhost:8080/"
        },
        "id": "GohccANcEJCZ",
        "outputId": "81d59740-4829-4a0e-fc65-0a1629b3ad3a"
      },
      "execution_count": 96,
      "outputs": [
        {
          "output_type": "execute_result",
          "data": {
            "text/plain": [
              "35"
            ]
          },
          "metadata": {},
          "execution_count": 96
        }
      ]
    },
    {
      "cell_type": "code",
      "source": [
        "d['pitombas'] = 20\n",
        "d"
      ],
      "metadata": {
        "colab": {
          "base_uri": "https://localhost:8080/"
        },
        "id": "1H-ro7SaEl0B",
        "outputId": "3c0d3778-e0fa-4d56-8cb5-a91707165f21"
      },
      "execution_count": 99,
      "outputs": [
        {
          "output_type": "execute_result",
          "data": {
            "text/plain": [
              "{'laranjas': 15, 'bananas': 35, 'siriguelas': 12, 'pitombas': 20}"
            ]
          },
          "metadata": {},
          "execution_count": 99
        }
      ]
    },
    {
      "cell_type": "code",
      "source": [
        "len(d)"
      ],
      "metadata": {
        "colab": {
          "base_uri": "https://localhost:8080/"
        },
        "id": "HDK-lMTMErip",
        "outputId": "a1cb2bad-68c3-401d-b009-ac8f996e9e15"
      },
      "execution_count": 98,
      "outputs": [
        {
          "output_type": "execute_result",
          "data": {
            "text/plain": [
              "4"
            ]
          },
          "metadata": {},
          "execution_count": 98
        }
      ]
    },
    {
      "cell_type": "code",
      "source": [
        "'pitomba' in d\n",
        "#'bananas' in de"
      ],
      "metadata": {
        "colab": {
          "base_uri": "https://localhost:8080/"
        },
        "id": "ui7gbnsEFCZa",
        "outputId": "8ed8ae09-ccc7-4c87-aec6-9f1883e10d41"
      },
      "execution_count": 103,
      "outputs": [
        {
          "output_type": "execute_result",
          "data": {
            "text/plain": [
              "False"
            ]
          },
          "metadata": {},
          "execution_count": 103
        }
      ]
    },
    {
      "cell_type": "code",
      "source": [
        "'pears' in d"
      ],
      "metadata": {
        "colab": {
          "base_uri": "https://localhost:8080/"
        },
        "id": "9YWwnpOoFS6B",
        "outputId": "70576dc7-a324-4ba1-a6d2-09c3aa972558"
      },
      "execution_count": 104,
      "outputs": [
        {
          "output_type": "execute_result",
          "data": {
            "text/plain": [
              "False"
            ]
          },
          "metadata": {},
          "execution_count": 104
        }
      ]
    },
    {
      "cell_type": "code",
      "source": [
        "del d['laranjas']\n",
        "d"
      ],
      "metadata": {
        "colab": {
          "base_uri": "https://localhost:8080/"
        },
        "id": "O39Pu2anFc_K",
        "outputId": "12db13e8-63ad-46c3-9624-940bfe2fe732"
      },
      "execution_count": 105,
      "outputs": [
        {
          "output_type": "execute_result",
          "data": {
            "text/plain": [
              "{'bananas': 35, 'siriguelas': 12, 'pitombas': 20}"
            ]
          },
          "metadata": {},
          "execution_count": 105
        }
      ]
    },
    {
      "cell_type": "code",
      "source": [
        "'laranjas' in d"
      ],
      "metadata": {
        "colab": {
          "base_uri": "https://localhost:8080/"
        },
        "id": "r-552FZQFjAR",
        "outputId": "4ecf4022-63b2-4fcd-b32a-461a094702e0"
      },
      "execution_count": 106,
      "outputs": [
        {
          "output_type": "execute_result",
          "data": {
            "text/plain": [
              "False"
            ]
          },
          "metadata": {},
          "execution_count": 106
        }
      ]
    },
    {
      "cell_type": "code",
      "source": [
        "frutas = ['pinhas', 'oiti coró', 'jaca', 'tamarindo']\n",
        "frutas"
      ],
      "metadata": {
        "colab": {
          "base_uri": "https://localhost:8080/"
        },
        "id": "M1Dain0oFzey",
        "outputId": "d319d2fe-d552-433d-e4ab-4e6dcb68725d"
      },
      "execution_count": 110,
      "outputs": [
        {
          "output_type": "execute_result",
          "data": {
            "text/plain": [
              "['pinhas', 'oiti coró', 'jaca', 'tamarindo']"
            ]
          },
          "metadata": {},
          "execution_count": 110
        }
      ]
    },
    {
      "cell_type": "code",
      "source": [
        "print([1,2] + [3,4])"
      ],
      "metadata": {
        "colab": {
          "base_uri": "https://localhost:8080/"
        },
        "id": "eBgvLK-PGljS",
        "outputId": "988f8bc3-03b8-4591-db29-f26451e7af8c"
      },
      "execution_count": 117,
      "outputs": [
        {
          "output_type": "stream",
          "name": "stdout",
          "text": [
            "[1, 2, 3, 4]\n"
          ]
        }
      ]
    },
    {
      "cell_type": "code",
      "source": [
        "print(frutas + [6, 7, 8, 9])"
      ],
      "metadata": {
        "colab": {
          "base_uri": "https://localhost:8080/"
        },
        "id": "vDQOKM_YGrfB",
        "outputId": "70d8c230-09aa-4574-fa25-784e840de40d"
      },
      "execution_count": 112,
      "outputs": [
        {
          "output_type": "stream",
          "name": "stdout",
          "text": [
            "['pinhas', 'oiti coró', 'jaca', 'tamarindo', 6, 7, 8, 9]\n"
          ]
        }
      ]
    },
    {
      "cell_type": "code",
      "source": [
        "print([0] * 4)"
      ],
      "metadata": {
        "colab": {
          "base_uri": "https://localhost:8080/"
        },
        "id": "jG_q3LAuGxjq",
        "outputId": "4e35fadc-f3e5-470d-ab2d-9b63454795f5"
      },
      "execution_count": 113,
      "outputs": [
        {
          "output_type": "stream",
          "name": "stdout",
          "text": [
            "[0, 0, 0, 0]\n"
          ]
        }
      ]
    },
    {
      "cell_type": "code",
      "source": [
        "print([1,2, ['oi', 'tchau']]*2)"
      ],
      "metadata": {
        "colab": {
          "base_uri": "https://localhost:8080/"
        },
        "id": "wQpmUHK1G3d5",
        "outputId": "39c1f08f-d60b-4276-fe94-1769263aac09"
      },
      "execution_count": 120,
      "outputs": [
        {
          "output_type": "stream",
          "name": "stdout",
          "text": [
            "[1, 2, ['oi', 'tchau'], 1, 2, ['oi', 'tchau']]\n"
          ]
        }
      ]
    },
    {
      "cell_type": "code",
      "source": [
        "minha_lista = []\n",
        "minha_lista"
      ],
      "metadata": {
        "colab": {
          "base_uri": "https://localhost:8080/"
        },
        "id": "G8_lJBr7ISE6",
        "outputId": "b06f5761-9b62-4c63-f23d-aacd23a78b2d"
      },
      "execution_count": 140,
      "outputs": [
        {
          "output_type": "execute_result",
          "data": {
            "text/plain": [
              "[]"
            ]
          },
          "metadata": {},
          "execution_count": 140
        }
      ]
    },
    {
      "cell_type": "code",
      "source": [
        "minha_lista.append(5)\n",
        "minha_lista"
      ],
      "metadata": {
        "colab": {
          "base_uri": "https://localhost:8080/"
        },
        "id": "gwOEZcaJIXmq",
        "outputId": "43453adf-6c0d-4c0b-a436-624bcd76855f"
      },
      "execution_count": 142,
      "outputs": [
        {
          "output_type": "execute_result",
          "data": {
            "text/plain": [
              "[5]"
            ]
          },
          "metadata": {},
          "execution_count": 142
        }
      ]
    },
    {
      "cell_type": "code",
      "source": [
        "minha_lista.append(27)\n",
        "minha_lista"
      ],
      "metadata": {
        "colab": {
          "base_uri": "https://localhost:8080/"
        },
        "id": "4OAoGG_KI01-",
        "outputId": "fd7051aa-6b7a-4525-ce9d-f4664da039e3"
      },
      "execution_count": 143,
      "outputs": [
        {
          "output_type": "execute_result",
          "data": {
            "text/plain": [
              "[5, 27]"
            ]
          },
          "metadata": {},
          "execution_count": 143
        }
      ]
    },
    {
      "cell_type": "code",
      "source": [
        "minha_lista.append(3)\n",
        "minha_lista"
      ],
      "metadata": {
        "colab": {
          "base_uri": "https://localhost:8080/"
        },
        "id": "gF32KBRwI5B6",
        "outputId": "f61a1fca-41af-4e53-cd62-95d445889ab9"
      },
      "execution_count": 144,
      "outputs": [
        {
          "output_type": "execute_result",
          "data": {
            "text/plain": [
              "[5, 27, 3]"
            ]
          },
          "metadata": {},
          "execution_count": 144
        }
      ]
    },
    {
      "cell_type": "code",
      "source": [
        "minha_lista.append(12)\n",
        "minha_lista"
      ],
      "metadata": {
        "colab": {
          "base_uri": "https://localhost:8080/"
        },
        "id": "yvap3mFZI9sZ",
        "outputId": "70b8515a-fedb-46bd-d59d-ce5f682c01ad"
      },
      "execution_count": 145,
      "outputs": [
        {
          "output_type": "execute_result",
          "data": {
            "text/plain": [
              "[5, 27, 3, 12]"
            ]
          },
          "metadata": {},
          "execution_count": 145
        }
      ]
    },
    {
      "cell_type": "code",
      "source": [
        "print(minha_lista)"
      ],
      "metadata": {
        "colab": {
          "base_uri": "https://localhost:8080/"
        },
        "id": "_8id-NgVJETK",
        "outputId": "5dbbea27-ae6a-41a8-8f72-26b5ae0e8759"
      },
      "execution_count": 146,
      "outputs": [
        {
          "output_type": "stream",
          "name": "stdout",
          "text": [
            "[5, 27, 3, 12]\n"
          ]
        }
      ]
    },
    {
      "cell_type": "code",
      "source": [
        "minha_lista.insert(1, 12)\n",
        "minha_lista\n"
      ],
      "metadata": {
        "colab": {
          "base_uri": "https://localhost:8080/"
        },
        "id": "j4ikm06LJOtS",
        "outputId": "a69b743e-9818-4c9e-8b93-3dfcfb00b11f"
      },
      "execution_count": 147,
      "outputs": [
        {
          "output_type": "execute_result",
          "data": {
            "text/plain": [
              "[5, 12, 27, 3, 12]"
            ]
          },
          "metadata": {},
          "execution_count": 147
        }
      ]
    },
    {
      "cell_type": "code",
      "source": [
        "print(minha_lista)"
      ],
      "metadata": {
        "colab": {
          "base_uri": "https://localhost:8080/"
        },
        "id": "99wHTzAOJe4b",
        "outputId": "ce4aef7e-d725-444b-eeea-954da00cb57d"
      },
      "execution_count": 148,
      "outputs": [
        {
          "output_type": "stream",
          "name": "stdout",
          "text": [
            "[5, 12, 27, 3, 12]\n"
          ]
        }
      ]
    },
    {
      "cell_type": "code",
      "source": [
        "print(minha_lista.count(12))"
      ],
      "metadata": {
        "colab": {
          "base_uri": "https://localhost:8080/"
        },
        "id": "xBgLbv16JhUi",
        "outputId": "c6b67da4-4560-40f0-d40e-de95218e5114"
      },
      "execution_count": 149,
      "outputs": [
        {
          "output_type": "stream",
          "name": "stdout",
          "text": [
            "2\n"
          ]
        }
      ]
    },
    {
      "cell_type": "code",
      "source": [
        "print(minha_lista.index(3))"
      ],
      "metadata": {
        "colab": {
          "base_uri": "https://localhost:8080/"
        },
        "id": "fPUoJ2IgJkri",
        "outputId": "62546b10-7cdc-4591-c72a-bea8312fb99c"
      },
      "execution_count": 150,
      "outputs": [
        {
          "output_type": "stream",
          "name": "stdout",
          "text": [
            "3\n"
          ]
        }
      ]
    },
    {
      "cell_type": "code",
      "source": [
        "print(minha_lista.count(5))"
      ],
      "metadata": {
        "colab": {
          "base_uri": "https://localhost:8080/"
        },
        "id": "OGcDCIy9Jn3a",
        "outputId": "e600a95f-e81d-40a9-f1dc-753938300cab"
      },
      "execution_count": 151,
      "outputs": [
        {
          "output_type": "stream",
          "name": "stdout",
          "text": [
            "1\n"
          ]
        }
      ]
    },
    {
      "cell_type": "code",
      "source": [
        "minha_lista.reverse()\n",
        "minha_lista"
      ],
      "metadata": {
        "colab": {
          "base_uri": "https://localhost:8080/"
        },
        "id": "rDNATVqfKLOb",
        "outputId": "5c556cec-1b5d-4845-cca8-6133030e3751"
      },
      "execution_count": 152,
      "outputs": [
        {
          "output_type": "execute_result",
          "data": {
            "text/plain": [
              "[12, 3, 27, 12, 5]"
            ]
          },
          "metadata": {},
          "execution_count": 152
        }
      ]
    },
    {
      "cell_type": "code",
      "source": [
        "print(minha_lista)"
      ],
      "metadata": {
        "colab": {
          "base_uri": "https://localhost:8080/"
        },
        "id": "7kwkPp3HKPvC",
        "outputId": "f1a2cc96-eec7-4d9f-ddbc-7fdbc1b347b2"
      },
      "execution_count": 153,
      "outputs": [
        {
          "output_type": "stream",
          "name": "stdout",
          "text": [
            "[12, 3, 27, 12, 5]\n"
          ]
        }
      ]
    },
    {
      "cell_type": "code",
      "source": [
        "minha_lista.sort()\n",
        "minha_lista"
      ],
      "metadata": {
        "colab": {
          "base_uri": "https://localhost:8080/"
        },
        "id": "QflferGdKS8R",
        "outputId": "a58d7be8-760e-423e-b686-6c8bd1c770cc"
      },
      "execution_count": 155,
      "outputs": [
        {
          "output_type": "execute_result",
          "data": {
            "text/plain": [
              "[3, 5, 12, 12, 27]"
            ]
          },
          "metadata": {},
          "execution_count": 155
        }
      ]
    },
    {
      "cell_type": "code",
      "source": [
        "print(minha_lista)"
      ],
      "metadata": {
        "colab": {
          "base_uri": "https://localhost:8080/"
        },
        "id": "THcpCZEKKa6x",
        "outputId": "91f1a094-7a2a-42b6-d6d2-9b17ac6f4aff"
      },
      "execution_count": 156,
      "outputs": [
        {
          "output_type": "stream",
          "name": "stdout",
          "text": [
            "[3, 5, 12, 12, 27]\n"
          ]
        }
      ]
    },
    {
      "cell_type": "code",
      "source": [
        "minha_lista.remove(5)\n",
        "minha_lista"
      ],
      "metadata": {
        "colab": {
          "base_uri": "https://localhost:8080/"
        },
        "id": "liIOu_3hKd3q",
        "outputId": "ec62c923-e2ba-48ca-dc08-7b72692a6e4b"
      },
      "execution_count": 157,
      "outputs": [
        {
          "output_type": "execute_result",
          "data": {
            "text/plain": [
              "[3, 12, 12, 27]"
            ]
          },
          "metadata": {},
          "execution_count": 157
        }
      ]
    },
    {
      "cell_type": "code",
      "source": [
        "print(minha_lista)"
      ],
      "metadata": {
        "colab": {
          "base_uri": "https://localhost:8080/"
        },
        "id": "QUDa3bs9Kkl6",
        "outputId": "13a0dcbb-2d83-4828-d6b8-884f607f37bc"
      },
      "execution_count": 158,
      "outputs": [
        {
          "output_type": "stream",
          "name": "stdout",
          "text": [
            "[3, 12, 12, 27]\n"
          ]
        }
      ]
    },
    {
      "cell_type": "code",
      "source": [
        "ultimo_item = minha_lista.pop()"
      ],
      "metadata": {
        "id": "asXvfC-LLHHA"
      },
      "execution_count": 159,
      "outputs": []
    },
    {
      "cell_type": "code",
      "source": [
        "print(ultimo_item)"
      ],
      "metadata": {
        "colab": {
          "base_uri": "https://localhost:8080/"
        },
        "id": "c0-RAfSZLMWL",
        "outputId": "903ccc29-678d-40ea-d722-9e25d04f0089"
      },
      "execution_count": 160,
      "outputs": [
        {
          "output_type": "stream",
          "name": "stdout",
          "text": [
            "27\n"
          ]
        }
      ]
    },
    {
      "cell_type": "code",
      "source": [
        "print(minha_lista)"
      ],
      "metadata": {
        "colab": {
          "base_uri": "https://localhost:8080/"
        },
        "id": "VFnfIEl2LQqy",
        "outputId": "e695d1d9-d9c4-44a3-eec6-b64aca40063d"
      },
      "execution_count": 161,
      "outputs": [
        {
          "output_type": "stream",
          "name": "stdout",
          "text": [
            "[3, 12, 12]\n"
          ]
        }
      ]
    },
    {
      "cell_type": "code",
      "source": [
        "s = 'Python'"
      ],
      "metadata": {
        "id": "gmqhvZiTMbgx"
      },
      "execution_count": 162,
      "outputs": []
    },
    {
      "cell_type": "code",
      "source": [
        "s[0]"
      ],
      "metadata": {
        "colab": {
          "base_uri": "https://localhost:8080/",
          "height": 36
        },
        "id": "TN-AnV6lMfYS",
        "outputId": "aa795ac5-f496-4f4f-a496-e36a4cfc4f48"
      },
      "execution_count": 163,
      "outputs": [
        {
          "output_type": "execute_result",
          "data": {
            "text/plain": [
              "'P'"
            ],
            "application/vnd.google.colaboratory.intrinsic+json": {
              "type": "string"
            }
          },
          "metadata": {},
          "execution_count": 163
        }
      ]
    },
    {
      "cell_type": "code",
      "source": [
        "s[1]"
      ],
      "metadata": {
        "colab": {
          "base_uri": "https://localhost:8080/",
          "height": 36
        },
        "id": "Ttis7GkVMhqS",
        "outputId": "661c19dd-3b68-440e-9d6c-6501b54750ef"
      },
      "execution_count": 164,
      "outputs": [
        {
          "output_type": "execute_result",
          "data": {
            "text/plain": [
              "'y'"
            ],
            "application/vnd.google.colaboratory.intrinsic+json": {
              "type": "string"
            }
          },
          "metadata": {},
          "execution_count": 164
        }
      ]
    },
    {
      "cell_type": "code",
      "source": [
        "s[len(s) - 1]"
      ],
      "metadata": {
        "colab": {
          "base_uri": "https://localhost:8080/",
          "height": 36
        },
        "id": "6mh1rrelMqoC",
        "outputId": "28d5637d-ff34-4b11-9103-37723ed3bdd1"
      },
      "execution_count": 165,
      "outputs": [
        {
          "output_type": "execute_result",
          "data": {
            "text/plain": [
              "'n'"
            ],
            "application/vnd.google.colaboratory.intrinsic+json": {
              "type": "string"
            }
          },
          "metadata": {},
          "execution_count": 165
        }
      ]
    },
    {
      "cell_type": "code",
      "source": [
        "s[-1]"
      ],
      "metadata": {
        "colab": {
          "base_uri": "https://localhost:8080/",
          "height": 36
        },
        "id": "PL2Sc8nRM7kq",
        "outputId": "fd5bc0c8-3b72-4144-e6d0-5010901e9daf"
      },
      "execution_count": 167,
      "outputs": [
        {
          "output_type": "execute_result",
          "data": {
            "text/plain": [
              "'n'"
            ],
            "application/vnd.google.colaboratory.intrinsic+json": {
              "type": "string"
            }
          },
          "metadata": {},
          "execution_count": 167
        }
      ]
    },
    {
      "cell_type": "code",
      "source": [
        "s[-5]"
      ],
      "metadata": {
        "colab": {
          "base_uri": "https://localhost:8080/",
          "height": 36
        },
        "id": "MRsX9tg6NANy",
        "outputId": "54b6e755-ee49-4c04-f69d-123ae2831cfb"
      },
      "execution_count": 168,
      "outputs": [
        {
          "output_type": "execute_result",
          "data": {
            "text/plain": [
              "'y'"
            ],
            "application/vnd.google.colaboratory.intrinsic+json": {
              "type": "string"
            }
          },
          "metadata": {},
          "execution_count": 168
        }
      ]
    },
    {
      "cell_type": "code",
      "source": [
        "s = 'ABCDEFGG'"
      ],
      "metadata": {
        "id": "x9up3pLENMg7"
      },
      "execution_count": 169,
      "outputs": []
    },
    {
      "cell_type": "code",
      "source": [
        "s[0:2]"
      ],
      "metadata": {
        "colab": {
          "base_uri": "https://localhost:8080/",
          "height": 36
        },
        "id": "3d9OYkweNRkz",
        "outputId": "9b19c594-9a74-4a30-dfa4-e3da9fc9525b"
      },
      "execution_count": 171,
      "outputs": [
        {
          "output_type": "execute_result",
          "data": {
            "text/plain": [
              "'AB'"
            ],
            "application/vnd.google.colaboratory.intrinsic+json": {
              "type": "string"
            }
          },
          "metadata": {},
          "execution_count": 171
        }
      ]
    },
    {
      "cell_type": "code",
      "source": [
        "s[1:5:2]"
      ],
      "metadata": {
        "colab": {
          "base_uri": "https://localhost:8080/",
          "height": 36
        },
        "id": "HrCQd_aKNWmz",
        "outputId": "e4d1c776-e2de-4218-8b28-d599fca0f54d"
      },
      "execution_count": 172,
      "outputs": [
        {
          "output_type": "execute_result",
          "data": {
            "text/plain": [
              "'BD'"
            ],
            "application/vnd.google.colaboratory.intrinsic+json": {
              "type": "string"
            }
          },
          "metadata": {},
          "execution_count": 172
        }
      ]
    },
    {
      "cell_type": "code",
      "source": [
        "s[3:6:2]"
      ],
      "metadata": {
        "colab": {
          "base_uri": "https://localhost:8080/",
          "height": 36
        },
        "id": "f-GeAmsvNaF6",
        "outputId": "01a33c02-7781-47b5-cd35-5bb86e7619e0"
      },
      "execution_count": 173,
      "outputs": [
        {
          "output_type": "execute_result",
          "data": {
            "text/plain": [
              "'DF'"
            ],
            "application/vnd.google.colaboratory.intrinsic+json": {
              "type": "string"
            }
          },
          "metadata": {},
          "execution_count": 173
        }
      ]
    },
    {
      "cell_type": "code",
      "source": [
        "#podemos omitir o indice:"
      ],
      "metadata": {
        "id": "j3fG5IADOEwa"
      },
      "execution_count": null,
      "outputs": []
    },
    {
      "cell_type": "code",
      "source": [
        "s = 'ABCDEFGG'"
      ],
      "metadata": {
        "id": "gnNJI8YWOHsj"
      },
      "execution_count": 174,
      "outputs": []
    },
    {
      "cell_type": "code",
      "source": [
        "s[:2]"
      ],
      "metadata": {
        "colab": {
          "base_uri": "https://localhost:8080/",
          "height": 36
        },
        "id": "RXNqsj42OMR5",
        "outputId": "d4b3b491-9f83-4875-a91c-c74615b28281"
      },
      "execution_count": 175,
      "outputs": [
        {
          "output_type": "execute_result",
          "data": {
            "text/plain": [
              "'AB'"
            ],
            "application/vnd.google.colaboratory.intrinsic+json": {
              "type": "string"
            }
          },
          "metadata": {},
          "execution_count": 175
        }
      ]
    },
    {
      "cell_type": "code",
      "source": [
        "s[3:]"
      ],
      "metadata": {
        "colab": {
          "base_uri": "https://localhost:8080/",
          "height": 36
        },
        "id": "Rq7DKnTeOQJh",
        "outputId": "d6ada54b-3ad8-45b2-bd0d-8af772942617"
      },
      "execution_count": 176,
      "outputs": [
        {
          "output_type": "execute_result",
          "data": {
            "text/plain": [
              "'DEFGG'"
            ],
            "application/vnd.google.colaboratory.intrinsic+json": {
              "type": "string"
            }
          },
          "metadata": {},
          "execution_count": 176
        }
      ]
    },
    {
      "cell_type": "code",
      "source": [
        "s[3::2]"
      ],
      "metadata": {
        "colab": {
          "base_uri": "https://localhost:8080/",
          "height": 36
        },
        "id": "Q2Cc8IyiOT9B",
        "outputId": "afa53366-d43e-4736-f08d-19117d674ff0"
      },
      "execution_count": 177,
      "outputs": [
        {
          "output_type": "execute_result",
          "data": {
            "text/plain": [
              "'DFG'"
            ],
            "application/vnd.google.colaboratory.intrinsic+json": {
              "type": "string"
            }
          },
          "metadata": {},
          "execution_count": 177
        }
      ]
    },
    {
      "cell_type": "code",
      "source": [
        "s[::]"
      ],
      "metadata": {
        "colab": {
          "base_uri": "https://localhost:8080/",
          "height": 36
        },
        "id": "BKm732hrOYA6",
        "outputId": "5e0c8d1f-776b-4f52-a5d6-c1959cbca623"
      },
      "execution_count": 178,
      "outputs": [
        {
          "output_type": "execute_result",
          "data": {
            "text/plain": [
              "'ABCDEFGG'"
            ],
            "application/vnd.google.colaboratory.intrinsic+json": {
              "type": "string"
            }
          },
          "metadata": {},
          "execution_count": 178
        }
      ]
    },
    {
      "cell_type": "code",
      "source": [
        "s[::3]"
      ],
      "metadata": {
        "colab": {
          "base_uri": "https://localhost:8080/",
          "height": 36
        },
        "id": "FKrGJEWWOcDy",
        "outputId": "cd4c9d91-fb4b-45c1-814a-910dbab13dc3"
      },
      "execution_count": 179,
      "outputs": [
        {
          "output_type": "execute_result",
          "data": {
            "text/plain": [
              "'ADG'"
            ],
            "application/vnd.google.colaboratory.intrinsic+json": {
              "type": "string"
            }
          },
          "metadata": {},
          "execution_count": 179
        }
      ]
    },
    {
      "cell_type": "code",
      "source": [
        "s"
      ],
      "metadata": {
        "colab": {
          "base_uri": "https://localhost:8080/",
          "height": 36
        },
        "id": "K1CeZ3QVOp9q",
        "outputId": "0a931a06-946e-485a-979b-84a70c2eee0e"
      },
      "execution_count": 181,
      "outputs": [
        {
          "output_type": "execute_result",
          "data": {
            "text/plain": [
              "'ABCDEFGG'"
            ],
            "application/vnd.google.colaboratory.intrinsic+json": {
              "type": "string"
            }
          },
          "metadata": {},
          "execution_count": 181
        }
      ]
    },
    {
      "cell_type": "code",
      "source": [
        "#indices negativos"
      ],
      "metadata": {
        "id": "WgK8D-w8OuBK"
      },
      "execution_count": null,
      "outputs": []
    },
    {
      "cell_type": "code",
      "source": [
        "s[-1:]"
      ],
      "metadata": {
        "colab": {
          "base_uri": "https://localhost:8080/",
          "height": 36
        },
        "id": "nSDwu7sTOyAK",
        "outputId": "2d28bcb9-02cb-4c56-b72c-595ea331c52e"
      },
      "execution_count": 183,
      "outputs": [
        {
          "output_type": "execute_result",
          "data": {
            "text/plain": [
              "'G'"
            ],
            "application/vnd.google.colaboratory.intrinsic+json": {
              "type": "string"
            }
          },
          "metadata": {},
          "execution_count": 183
        }
      ]
    },
    {
      "cell_type": "code",
      "source": [
        "s[0:-2] #s[:-2]"
      ],
      "metadata": {
        "colab": {
          "base_uri": "https://localhost:8080/",
          "height": 36
        },
        "id": "HwuA28MHO1Nq",
        "outputId": "43ebe3a0-96c4-44d4-9925-ac2e176d7588"
      },
      "execution_count": 185,
      "outputs": [
        {
          "output_type": "execute_result",
          "data": {
            "text/plain": [
              "'ABCDEF'"
            ],
            "application/vnd.google.colaboratory.intrinsic+json": {
              "type": "string"
            }
          },
          "metadata": {},
          "execution_count": 185
        }
      ]
    },
    {
      "cell_type": "code",
      "source": [
        "s[-3:-1]"
      ],
      "metadata": {
        "colab": {
          "base_uri": "https://localhost:8080/",
          "height": 36
        },
        "id": "TkjKvo_3PAAi",
        "outputId": "ab4fdccb-5ffe-4a0f-9b7d-ea7a15d92afc"
      },
      "execution_count": 186,
      "outputs": [
        {
          "output_type": "execute_result",
          "data": {
            "text/plain": [
              "'FG'"
            ],
            "application/vnd.google.colaboratory.intrinsic+json": {
              "type": "string"
            }
          },
          "metadata": {},
          "execution_count": 186
        }
      ]
    },
    {
      "cell_type": "code",
      "source": [
        "s[-3:]"
      ],
      "metadata": {
        "colab": {
          "base_uri": "https://localhost:8080/",
          "height": 36
        },
        "id": "J8YGJgswPEc7",
        "outputId": "8ba1cfca-d324-44cc-e562-18d5f1d6f1d2"
      },
      "execution_count": 187,
      "outputs": [
        {
          "output_type": "execute_result",
          "data": {
            "text/plain": [
              "'FGG'"
            ],
            "application/vnd.google.colaboratory.intrinsic+json": {
              "type": "string"
            }
          },
          "metadata": {},
          "execution_count": 187
        }
      ]
    },
    {
      "cell_type": "code",
      "source": [
        "s[-5:6]"
      ],
      "metadata": {
        "colab": {
          "base_uri": "https://localhost:8080/",
          "height": 36
        },
        "id": "MKVrRIiBPJDD",
        "outputId": "842bc44d-06b2-412d-9a65-b7066dffe82d"
      },
      "execution_count": 188,
      "outputs": [
        {
          "output_type": "execute_result",
          "data": {
            "text/plain": [
              "'DEF'"
            ],
            "application/vnd.google.colaboratory.intrinsic+json": {
              "type": "string"
            }
          },
          "metadata": {},
          "execution_count": 188
        }
      ]
    },
    {
      "cell_type": "code",
      "source": [
        "s[-1:-4:-1]"
      ],
      "metadata": {
        "colab": {
          "base_uri": "https://localhost:8080/",
          "height": 36
        },
        "id": "0xcYB6pVPNxE",
        "outputId": "c5e47e8b-09a7-48e0-fee8-7370ca01d759"
      },
      "execution_count": 189,
      "outputs": [
        {
          "output_type": "execute_result",
          "data": {
            "text/plain": [
              "'GGF'"
            ],
            "application/vnd.google.colaboratory.intrinsic+json": {
              "type": "string"
            }
          },
          "metadata": {},
          "execution_count": 189
        }
      ]
    },
    {
      "cell_type": "code",
      "source": [
        "linguagem_preferida = 'Python'"
      ],
      "metadata": {
        "id": "uy_pUtfPPrFc"
      },
      "execution_count": 190,
      "outputs": []
    },
    {
      "cell_type": "code",
      "source": [
        "'P' in linguagem_preferida"
      ],
      "metadata": {
        "colab": {
          "base_uri": "https://localhost:8080/"
        },
        "id": "4sZNsCapPu6y",
        "outputId": "44d79c57-3896-49f9-d128-09ca9b7919bc"
      },
      "execution_count": 191,
      "outputs": [
        {
          "output_type": "execute_result",
          "data": {
            "text/plain": [
              "True"
            ]
          },
          "metadata": {},
          "execution_count": 191
        }
      ]
    },
    {
      "cell_type": "code",
      "source": [
        "'p' in linguagem_preferida"
      ],
      "metadata": {
        "colab": {
          "base_uri": "https://localhost:8080/"
        },
        "id": "zxh-QVv8P3Zi",
        "outputId": "866cd1fa-3e1e-4b16-812d-071b8734157d"
      },
      "execution_count": 192,
      "outputs": [
        {
          "output_type": "execute_result",
          "data": {
            "text/plain": [
              "False"
            ]
          },
          "metadata": {},
          "execution_count": 192
        }
      ]
    },
    {
      "cell_type": "code",
      "source": [
        "'n' in linguagem_preferida"
      ],
      "metadata": {
        "colab": {
          "base_uri": "https://localhost:8080/"
        },
        "id": "L8bLnDloP6dh",
        "outputId": "7e349d40-af57-4476-a1b4-e0b3e3e8b103"
      },
      "execution_count": 193,
      "outputs": [
        {
          "output_type": "execute_result",
          "data": {
            "text/plain": [
              "True"
            ]
          },
          "metadata": {},
          "execution_count": 193
        }
      ]
    },
    {
      "cell_type": "code",
      "source": [
        "linguagem_preferida in linguagem_preferida"
      ],
      "metadata": {
        "colab": {
          "base_uri": "https://localhost:8080/"
        },
        "id": "2wa9Xg25P_IS",
        "outputId": "2a7e3e1d-7087-453f-adf4-cbd8b2689177"
      },
      "execution_count": 194,
      "outputs": [
        {
          "output_type": "execute_result",
          "data": {
            "text/plain": [
              "True"
            ]
          },
          "metadata": {},
          "execution_count": 194
        }
      ]
    },
    {
      "cell_type": "code",
      "source": [
        "'python'.upper()"
      ],
      "metadata": {
        "colab": {
          "base_uri": "https://localhost:8080/",
          "height": 36
        },
        "id": "Nt7Qk9EXQhdC",
        "outputId": "8fb02273-a9f3-467a-af92-9382e795a44f"
      },
      "execution_count": 195,
      "outputs": [
        {
          "output_type": "execute_result",
          "data": {
            "text/plain": [
              "'PYTHON'"
            ],
            "application/vnd.google.colaboratory.intrinsic+json": {
              "type": "string"
            }
          },
          "metadata": {},
          "execution_count": 195
        }
      ]
    },
    {
      "cell_type": "code",
      "source": [
        "verdade = 'python é legal'"
      ],
      "metadata": {
        "id": "X10qiYFkQmKS"
      },
      "execution_count": 196,
      "outputs": []
    },
    {
      "cell_type": "code",
      "source": [
        "'python'.title()"
      ],
      "metadata": {
        "colab": {
          "base_uri": "https://localhost:8080/",
          "height": 36
        },
        "id": "kmNbvv0oQr2C",
        "outputId": "4abbd5d2-8271-483a-a06e-611b8237349f"
      },
      "execution_count": 197,
      "outputs": [
        {
          "output_type": "execute_result",
          "data": {
            "text/plain": [
              "'Python'"
            ],
            "application/vnd.google.colaboratory.intrinsic+json": {
              "type": "string"
            }
          },
          "metadata": {},
          "execution_count": 197
        }
      ]
    },
    {
      "cell_type": "code",
      "source": [
        "''.join(verdade.split())"
      ],
      "metadata": {
        "colab": {
          "base_uri": "https://localhost:8080/",
          "height": 36
        },
        "id": "Toj7ayEgQwLy",
        "outputId": "6a766b82-dfa8-47f4-fb3a-7ee593f8cdc7"
      },
      "execution_count": 198,
      "outputs": [
        {
          "output_type": "execute_result",
          "data": {
            "text/plain": [
              "'pythonélegal'"
            ],
            "application/vnd.google.colaboratory.intrinsic+json": {
              "type": "string"
            }
          },
          "metadata": {},
          "execution_count": 198
        }
      ]
    },
    {
      "cell_type": "code",
      "source": [
        "'python é legal'.split()"
      ],
      "metadata": {
        "colab": {
          "base_uri": "https://localhost:8080/"
        },
        "id": "jHlIQcMrQ2Pq",
        "outputId": "7d968b90-8183-4738-c95e-99704302b925"
      },
      "execution_count": 199,
      "outputs": [
        {
          "output_type": "execute_result",
          "data": {
            "text/plain": [
              "['python', 'é', 'legal']"
            ]
          },
          "metadata": {},
          "execution_count": 199
        }
      ]
    },
    {
      "cell_type": "code",
      "source": [
        "linguagem_preferida"
      ],
      "metadata": {
        "colab": {
          "base_uri": "https://localhost:8080/",
          "height": 36
        },
        "id": "B_tjc70cRyOS",
        "outputId": "1c0812a3-2e4c-4be1-c5ec-eaff2ec64da6"
      },
      "execution_count": 200,
      "outputs": [
        {
          "output_type": "execute_result",
          "data": {
            "text/plain": [
              "'Python'"
            ],
            "application/vnd.google.colaboratory.intrinsic+json": {
              "type": "string"
            }
          },
          "metadata": {},
          "execution_count": 200
        }
      ]
    },
    {
      "cell_type": "code",
      "source": [
        "print('Eu amo %s' % linguagem_preferida)"
      ],
      "metadata": {
        "colab": {
          "base_uri": "https://localhost:8080/"
        },
        "id": "gHreEXFuR2zL",
        "outputId": "cadb620d-430f-48a5-d78a-b02e020f2753"
      },
      "execution_count": 201,
      "outputs": [
        {
          "output_type": "stream",
          "name": "stdout",
          "text": [
            "Eu amo Python\n"
          ]
        }
      ]
    },
    {
      "cell_type": "code",
      "source": [
        "print('Eu tenho %d anos' %(9))"
      ],
      "metadata": {
        "colab": {
          "base_uri": "https://localhost:8080/"
        },
        "id": "wz8PdzWbSBDa",
        "outputId": "178f62fb-6293-47cd-b056-7ec2078642c6"
      },
      "execution_count": 202,
      "outputs": [
        {
          "output_type": "stream",
          "name": "stdout",
          "text": [
            "Eu tenho 9 anos\n"
          ]
        }
      ]
    },
    {
      "cell_type": "code",
      "source": [
        "print('Eu tenho %02d anos de idade' %(9))"
      ],
      "metadata": {
        "colab": {
          "base_uri": "https://localhost:8080/"
        },
        "id": "qlEAHMTNSNoC",
        "outputId": "25880e41-81a3-4ad2-a73f-033534c286f9"
      },
      "execution_count": 203,
      "outputs": [
        {
          "output_type": "stream",
          "name": "stdout",
          "text": [
            "Eu tenho 09 anos de idade\n"
          ]
        }
      ]
    },
    {
      "cell_type": "code",
      "source": [
        "print('Eu tenho %03d de idade e %2.5f na poupanca' %(19,100))"
      ],
      "metadata": {
        "colab": {
          "base_uri": "https://localhost:8080/"
        },
        "id": "SbxJdjeXSW07",
        "outputId": "a155e286-89d0-4299-fd8d-5dc63844be7d"
      },
      "execution_count": 204,
      "outputs": [
        {
          "output_type": "stream",
          "name": "stdout",
          "text": [
            "Eu tenho 019 de idade e 100.00000 na poupanca\n"
          ]
        }
      ]
    },
    {
      "cell_type": "code",
      "source": [
        "nome = input('Digite seu nome.: ')\n",
        "print(len(nome))\n",
        "print(nome.upper())\n"
      ],
      "metadata": {
        "colab": {
          "base_uri": "https://localhost:8080/"
        },
        "id": "9IW6YU0zS12J",
        "outputId": "81d12c3f-11bd-49a5-c0f3-f50547215286"
      },
      "execution_count": 225,
      "outputs": [
        {
          "output_type": "stream",
          "name": "stdout",
          "text": [
            "Digite seu nome.: romildo\n",
            "7\n",
            "ROMILDO\n"
          ]
        }
      ]
    },
    {
      "cell_type": "code",
      "source": [
        "#gerando uma sequencia de 0 a 9\n",
        "print(list(range(10)))"
      ],
      "metadata": {
        "colab": {
          "base_uri": "https://localhost:8080/"
        },
        "id": "B3rgkAX5WI-K",
        "outputId": "5fcf6c12-96f1-4a31-df7c-ea14fc44004d"
      },
      "execution_count": 215,
      "outputs": [
        {
          "output_type": "stream",
          "name": "stdout",
          "text": [
            "[0, 1, 2, 3, 4, 5, 6, 7, 8, 9]\n"
          ]
        }
      ]
    },
    {
      "cell_type": "code",
      "source": [
        "#gerando uma sequencia de 1 a 11\n",
        "print(list(range(1,11)))"
      ],
      "metadata": {
        "colab": {
          "base_uri": "https://localhost:8080/"
        },
        "id": "-38O9NH1WO_q",
        "outputId": "ab15f4bf-44b5-4a69-afd1-ffe57eb441a5"
      },
      "execution_count": 216,
      "outputs": [
        {
          "output_type": "stream",
          "name": "stdout",
          "text": [
            "[1, 2, 3, 4, 5, 6, 7, 8, 9, 10]\n"
          ]
        }
      ]
    },
    {
      "cell_type": "code",
      "source": [
        "#gerando uma sequencia de 0 1 30 com step 5\n",
        "print(list(range(0, 30, 5)))"
      ],
      "metadata": {
        "colab": {
          "base_uri": "https://localhost:8080/"
        },
        "id": "MNz1OeZVWViS",
        "outputId": "1cc745b3-baee-4eb8-ef92-9cae8b12e8af"
      },
      "execution_count": 217,
      "outputs": [
        {
          "output_type": "stream",
          "name": "stdout",
          "text": [
            "[0, 5, 10, 15, 20, 25]\n"
          ]
        }
      ]
    },
    {
      "cell_type": "code",
      "source": [
        "#gerando uma sequencia numerica negativa\n",
        "print(list(range(0, -10, -1)))"
      ],
      "metadata": {
        "colab": {
          "base_uri": "https://localhost:8080/"
        },
        "id": "H9eSTVEgWd15",
        "outputId": "8d117a44-5bda-402c-fa0e-b37e4415aae3"
      },
      "execution_count": 218,
      "outputs": [
        {
          "output_type": "stream",
          "name": "stdout",
          "text": [
            "[0, -1, -2, -3, -4, -5, -6, -7, -8, -9]\n"
          ]
        }
      ]
    },
    {
      "cell_type": "code",
      "source": [
        "#acessando caracteres diretamente\n",
        "s = 'Python'\n",
        "print(s[3])\n",
        "print(s[1])"
      ],
      "metadata": {
        "colab": {
          "base_uri": "https://localhost:8080/"
        },
        "id": "8kuShNduXufF",
        "outputId": "cdb56af9-f0ac-4f8a-9967-36963165bee3"
      },
      "execution_count": 220,
      "outputs": [
        {
          "output_type": "stream",
          "name": "stdout",
          "text": [
            "h\n",
            "y\n"
          ]
        }
      ]
    },
    {
      "cell_type": "code",
      "source": [
        "#comprimento de uma string\n",
        "print(len(s))"
      ],
      "metadata": {
        "colab": {
          "base_uri": "https://localhost:8080/"
        },
        "id": "QlNclEwQX-oa",
        "outputId": "03854d9d-e950-4222-abe4-d37354c353ee"
      },
      "execution_count": 223,
      "outputs": [
        {
          "output_type": "stream",
          "name": "stdout",
          "text": [
            "6\n"
          ]
        }
      ]
    },
    {
      "cell_type": "code",
      "source": [
        "print(s[len(s)-1])\n",
        "print(s[-2])"
      ],
      "metadata": {
        "colab": {
          "base_uri": "https://localhost:8080/"
        },
        "id": "4a8wfE2lYUPq",
        "outputId": "5aa2ff78-8025-4e25-f188-9b9ac1b57c03"
      },
      "execution_count": 226,
      "outputs": [
        {
          "output_type": "stream",
          "name": "stdout",
          "text": [
            "n\n",
            "o\n"
          ]
        }
      ]
    },
    {
      "cell_type": "code",
      "source": [
        "#acewso indereto relativo\n",
        "print(s[0:4:2])\n",
        "print(s[-1])\n",
        "print(s[-1:-7:-1])\n",
        "print(s[-2])\n",
        "print(s[-3])\n",
        "print(s[-4])\n",
        "print(s[-5])\n",
        "print(s[-6])\n"
      ],
      "metadata": {
        "colab": {
          "base_uri": "https://localhost:8080/"
        },
        "id": "SnIN2KFqZKp1",
        "outputId": "7b0c3dac-4392-4744-f502-da76e28a5a62"
      },
      "execution_count": 227,
      "outputs": [
        {
          "output_type": "stream",
          "name": "stdout",
          "text": [
            "Pt\n",
            "n\n",
            "nohtyP\n",
            "o\n",
            "h\n",
            "t\n",
            "y\n",
            "P\n"
          ]
        }
      ]
    },
    {
      "cell_type": "code",
      "source": [
        "#fatiamento de um string-1\n",
        "#regra: s[start, stop, step]\n",
        "\n",
        "print('Aqui: ', s[-1:-(len(s)+1):-1])\n",
        "print(s[0:2])\n",
        "print(s[:2])\n",
        "print(s[3:])\n",
        "print(s[1:5:2])\n",
        "print(s[3:6:2])\n",
        "print(s[3::2])\n",
        "print(s[::3])"
      ],
      "metadata": {
        "colab": {
          "base_uri": "https://localhost:8080/"
        },
        "id": "vhd7DB18aBJL",
        "outputId": "5c6e58eb-d8c1-4d3e-c9f7-2d0f834ddb12"
      },
      "execution_count": 229,
      "outputs": [
        {
          "output_type": "stream",
          "name": "stdout",
          "text": [
            "Aqui:  nohtyP\n",
            "Py\n",
            "Py\n",
            "hon\n",
            "yh\n",
            "hn\n",
            "hn\n",
            "Ph\n"
          ]
        }
      ]
    },
    {
      "cell_type": "code",
      "source": [
        "#pertinencia de sub-string\n",
        "\n",
        "print (\"P\" in s)\n",
        "print('p' in s)\n",
        "print('n' in s)\n",
        "print(s in s)"
      ],
      "metadata": {
        "colab": {
          "base_uri": "https://localhost:8080/"
        },
        "id": "pn7e5mJAba_j",
        "outputId": "2f879603-2b97-4dbf-c335-1ad211013f86"
      },
      "execution_count": 230,
      "outputs": [
        {
          "output_type": "stream",
          "name": "stdout",
          "text": [
            "True\n",
            "False\n",
            "True\n",
            "True\n"
          ]
        }
      ]
    },
    {
      "cell_type": "code",
      "source": [
        "#metodos associados aos objetos strings\n",
        "\n",
        "print('Fuctura'.upper())\n",
        "print('Fuctura'.lower())\n",
        "print('python no SENAC!'.title())\n",
        "frase = 'python é massa!'\n",
        "teste = ('?'.join(frase))\n",
        "print(teste)\n",
        "print(frase.split('é'))"
      ],
      "metadata": {
        "colab": {
          "base_uri": "https://localhost:8080/"
        },
        "id": "n77fpA8wbz5B",
        "outputId": "16ba0011-35c9-416e-d80d-76a242506ff0"
      },
      "execution_count": 235,
      "outputs": [
        {
          "output_type": "stream",
          "name": "stdout",
          "text": [
            "FUCTURA\n",
            "fuctura\n",
            "Python No Senac!\n",
            "p?y?t?h?o?n? ?é? ?m?a?s?s?a?!\n",
            "['python ', ' massa!']\n"
          ]
        }
      ]
    },
    {
      "cell_type": "code",
      "source": [
        "#interpolacao\n",
        "\n",
        "print('Pra mim %s' %(frase))\n",
        "print('Funcionário cod %03d' %(1))"
      ],
      "metadata": {
        "colab": {
          "base_uri": "https://localhost:8080/"
        },
        "id": "3iVkpygNdExa",
        "outputId": "e4c9b96a-f8fa-4be4-eb99-1286552a8806"
      },
      "execution_count": 234,
      "outputs": [
        {
          "output_type": "stream",
          "name": "stdout",
          "text": [
            "Pra mim python é massa!\n",
            "Funcionário cod 001\n"
          ]
        }
      ]
    }
  ]
}